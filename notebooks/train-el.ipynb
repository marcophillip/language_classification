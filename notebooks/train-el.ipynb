{
 "cells": [
  {
   "cell_type": "code",
   "execution_count": 1,
   "id": "5c1fc41b",
   "metadata": {},
   "outputs": [
    {
     "name": "stderr",
     "output_type": "stream",
     "text": [
      "2022-10-03 13:11:23.742328: I tensorflow/stream_executor/platform/default/dso_loader.cc:49] Successfully opened dynamic library libcudart.so.10.1\n"
     ]
    }
   ],
   "source": [
    "import pandas as pd\n",
    "import tensorflow as tf\n",
    "from tensorflow.keras.preprocessing.text import Tokenizer\n",
    "from tensorflow.keras.preprocessing.sequence import pad_sequences\n",
    "import sys\n",
    "import os\n",
    "import string\n",
    "from models import lstm_model\n",
    "from losses import *\n",
    "import numpy as np\n",
    "from collections import Counter\n",
    "import matplotlib.pyplot as plt\n",
    "import re\n",
    "# import literal_eval"
   ]
  },
  {
   "cell_type": "code",
   "execution_count": 1,
   "id": "71d583b2",
   "metadata": {},
   "outputs": [
    {
     "name": "stdout",
     "output_type": "stream",
     "text": [
      "english_luganda.csv   processed_1.csv  processed_5\r\n",
      "english_luganda2.csv  processed_2.csv  processed_5.csv\r\n",
      "metadata.csv\t      processed_3.csv  processed_5_with_all_sentences.csv\r\n",
      "metadata_@40000.csv   processed_4.csv  processed_6.csv\r\n"
     ]
    }
   ],
   "source": [
    "!ls ../data/processed/"
   ]
  },
  {
   "cell_type": "code",
   "execution_count": 3,
   "id": "22d03f7d",
   "metadata": {},
   "outputs": [],
   "source": [
    "new_data = pd.read_csv('../data/processed/english_luganda2.csv')"
   ]
  },
  {
   "cell_type": "code",
   "execution_count": 4,
   "id": "825b336d",
   "metadata": {},
   "outputs": [],
   "source": [
    "train_data=new_data[new_data.folds.isin([0,1,2])].reset_index(drop=True)\n",
    "# train_data=shuffle(train_data).reset_index().drop(columns='index')\n",
    "val_data = new_data[new_data.folds==3].reset_index().drop(columns='index')\n",
    "test_data = new_data[new_data.folds==4].reset_index().drop(columns='index')"
   ]
  },
  {
   "cell_type": "code",
   "execution_count": 5,
   "id": "e5246b3d",
   "metadata": {},
   "outputs": [
    {
     "data": {
      "text/html": [
       "<div>\n",
       "<style scoped>\n",
       "    .dataframe tbody tr th:only-of-type {\n",
       "        vertical-align: middle;\n",
       "    }\n",
       "\n",
       "    .dataframe tbody tr th {\n",
       "        vertical-align: top;\n",
       "    }\n",
       "\n",
       "    .dataframe thead th {\n",
       "        text-align: right;\n",
       "    }\n",
       "</style>\n",
       "<table border=\"1\" class=\"dataframe\">\n",
       "  <thead>\n",
       "    <tr style=\"text-align: right;\">\n",
       "      <th></th>\n",
       "      <th>text</th>\n",
       "      <th>folds</th>\n",
       "      <th>english</th>\n",
       "      <th>luganda</th>\n",
       "    </tr>\n",
       "  </thead>\n",
       "  <tbody>\n",
       "    <tr>\n",
       "      <th>0</th>\n",
       "      <td>government constructed better health centers r...</td>\n",
       "      <td>0</td>\n",
       "      <td>1</td>\n",
       "      <td>0</td>\n",
       "    </tr>\n",
       "    <tr>\n",
       "      <th>1</th>\n",
       "      <td>company celebrated twenty years existence last...</td>\n",
       "      <td>0</td>\n",
       "      <td>1</td>\n",
       "      <td>0</td>\n",
       "    </tr>\n",
       "    <tr>\n",
       "      <th>2</th>\n",
       "      <td>many people have lost their lives sexually tra...</td>\n",
       "      <td>0</td>\n",
       "      <td>1</td>\n",
       "      <td>0</td>\n",
       "    </tr>\n",
       "    <tr>\n",
       "      <th>3</th>\n",
       "      <td>civil servants receive their pension fund upon...</td>\n",
       "      <td>0</td>\n",
       "      <td>1</td>\n",
       "      <td>0</td>\n",
       "    </tr>\n",
       "    <tr>\n",
       "      <th>4</th>\n",
       "      <td>teachers also among civil servants</td>\n",
       "      <td>0</td>\n",
       "      <td>1</td>\n",
       "      <td>0</td>\n",
       "    </tr>\n",
       "    <tr>\n",
       "      <th>...</th>\n",
       "      <td>...</td>\n",
       "      <td>...</td>\n",
       "      <td>...</td>\n",
       "      <td>...</td>\n",
       "    </tr>\n",
       "    <tr>\n",
       "      <th>32146</th>\n",
       "      <td>biki ebyetaagisa okusobola okukola omulimu oku...</td>\n",
       "      <td>2</td>\n",
       "      <td>0</td>\n",
       "      <td>1</td>\n",
       "    </tr>\n",
       "    <tr>\n",
       "      <th>32147</th>\n",
       "      <td>gavumenti ekoze enteekateeka ennungi abantu ok...</td>\n",
       "      <td>2</td>\n",
       "      <td>0</td>\n",
       "      <td>1</td>\n",
       "    </tr>\n",
       "    <tr>\n",
       "      <th>32148</th>\n",
       "      <td>abantu balina okulya okunywa</td>\n",
       "      <td>2</td>\n",
       "      <td>0</td>\n",
       "      <td>1</td>\n",
       "    </tr>\n",
       "    <tr>\n",
       "      <th>32149</th>\n",
       "      <td>emboozi ejja kweyongela maaso</td>\n",
       "      <td>2</td>\n",
       "      <td>0</td>\n",
       "      <td>1</td>\n",
       "    </tr>\n",
       "    <tr>\n",
       "      <th>32150</th>\n",
       "      <td>muwala wange atya ebisaanyi</td>\n",
       "      <td>2</td>\n",
       "      <td>0</td>\n",
       "      <td>1</td>\n",
       "    </tr>\n",
       "  </tbody>\n",
       "</table>\n",
       "<p>32151 rows × 4 columns</p>\n",
       "</div>"
      ],
      "text/plain": [
       "                                                    text  folds  english  \\\n",
       "0      government constructed better health centers r...      0        1   \n",
       "1      company celebrated twenty years existence last...      0        1   \n",
       "2      many people have lost their lives sexually tra...      0        1   \n",
       "3      civil servants receive their pension fund upon...      0        1   \n",
       "4                     teachers also among civil servants      0        1   \n",
       "...                                                  ...    ...      ...   \n",
       "32146  biki ebyetaagisa okusobola okukola omulimu oku...      2        0   \n",
       "32147  gavumenti ekoze enteekateeka ennungi abantu ok...      2        0   \n",
       "32148                       abantu balina okulya okunywa      2        0   \n",
       "32149                      emboozi ejja kweyongela maaso      2        0   \n",
       "32150                        muwala wange atya ebisaanyi      2        0   \n",
       "\n",
       "       luganda  \n",
       "0            0  \n",
       "1            0  \n",
       "2            0  \n",
       "3            0  \n",
       "4            0  \n",
       "...        ...  \n",
       "32146        1  \n",
       "32147        1  \n",
       "32148        1  \n",
       "32149        1  \n",
       "32150        1  \n",
       "\n",
       "[32151 rows x 4 columns]"
      ]
     },
     "execution_count": 5,
     "metadata": {},
     "output_type": "execute_result"
    }
   ],
   "source": [
    "train_data"
   ]
  },
  {
   "cell_type": "code",
   "execution_count": 6,
   "id": "7ceba43f",
   "metadata": {},
   "outputs": [],
   "source": [
    "def custom_standardization(input_data):\n",
    "  lowercase = tf.strings.lower(input_data)\n",
    "  remove_numbers = tf.strings.regex_replace(lowercase,\"\\d+\",\"\")\n",
    "  stripped_html = tf.strings.regex_replace(remove_numbers, '<br />', ' ')\n",
    "\n",
    "  return tf.strings.regex_replace(stripped_html,\n",
    "                                  '[%s]' % re.escape(string.punctuation),\n",
    "                                  '').numpy().decode(\"utf-8\")"
   ]
  },
  {
   "cell_type": "code",
   "execution_count": 7,
   "id": "da696187",
   "metadata": {},
   "outputs": [
    {
     "name": "stderr",
     "output_type": "stream",
     "text": [
      "2022-10-03 13:11:25.760411: I tensorflow/compiler/jit/xla_cpu_device.cc:41] Not creating XLA devices, tf_xla_enable_xla_devices not set\n",
      "2022-10-03 13:11:25.761837: I tensorflow/stream_executor/platform/default/dso_loader.cc:49] Successfully opened dynamic library libcuda.so.1\n",
      "2022-10-03 13:11:27.773817: I tensorflow/stream_executor/cuda/cuda_gpu_executor.cc:941] successful NUMA node read from SysFS had negative value (-1), but there must be at least one NUMA node, so returning NUMA node zero\n",
      "2022-10-03 13:11:27.774604: I tensorflow/core/common_runtime/gpu/gpu_device.cc:1720] Found device 0 with properties: \n",
      "pciBusID: 0000:00:04.0 name: Tesla K80 computeCapability: 3.7\n",
      "coreClock: 0.8235GHz coreCount: 13 deviceMemorySize: 11.17GiB deviceMemoryBandwidth: 223.96GiB/s\n",
      "2022-10-03 13:11:27.774640: I tensorflow/stream_executor/platform/default/dso_loader.cc:49] Successfully opened dynamic library libcudart.so.10.1\n",
      "2022-10-03 13:11:27.776785: I tensorflow/stream_executor/platform/default/dso_loader.cc:49] Successfully opened dynamic library libcublas.so.10\n",
      "2022-10-03 13:11:27.776836: I tensorflow/stream_executor/platform/default/dso_loader.cc:49] Successfully opened dynamic library libcublasLt.so.10\n",
      "2022-10-03 13:11:27.778841: I tensorflow/stream_executor/platform/default/dso_loader.cc:49] Successfully opened dynamic library libcufft.so.10\n",
      "2022-10-03 13:11:27.779195: I tensorflow/stream_executor/platform/default/dso_loader.cc:49] Successfully opened dynamic library libcurand.so.10\n",
      "2022-10-03 13:11:27.781453: I tensorflow/stream_executor/platform/default/dso_loader.cc:49] Successfully opened dynamic library libcusolver.so.10\n",
      "2022-10-03 13:11:27.782667: I tensorflow/stream_executor/platform/default/dso_loader.cc:49] Successfully opened dynamic library libcusparse.so.10\n",
      "2022-10-03 13:11:27.787130: I tensorflow/stream_executor/platform/default/dso_loader.cc:49] Successfully opened dynamic library libcudnn.so.7\n",
      "2022-10-03 13:11:27.787285: I tensorflow/stream_executor/cuda/cuda_gpu_executor.cc:941] successful NUMA node read from SysFS had negative value (-1), but there must be at least one NUMA node, so returning NUMA node zero\n",
      "2022-10-03 13:11:27.788120: I tensorflow/stream_executor/cuda/cuda_gpu_executor.cc:941] successful NUMA node read from SysFS had negative value (-1), but there must be at least one NUMA node, so returning NUMA node zero\n",
      "2022-10-03 13:11:27.788781: I tensorflow/core/common_runtime/gpu/gpu_device.cc:1862] Adding visible gpu devices: 0\n",
      "2022-10-03 13:11:27.789618: I tensorflow/core/platform/cpu_feature_guard.cc:142] This TensorFlow binary is optimized with oneAPI Deep Neural Network Library (oneDNN) to use the following CPU instructions in performance-critical operations:  SSE4.1 SSE4.2 AVX AVX2 FMA\n",
      "To enable them in other operations, rebuild TensorFlow with the appropriate compiler flags.\n",
      "2022-10-03 13:11:27.789871: I tensorflow/compiler/jit/xla_gpu_device.cc:99] Not creating XLA devices, tf_xla_enable_xla_devices not set\n",
      "2022-10-03 13:11:27.790008: I tensorflow/stream_executor/cuda/cuda_gpu_executor.cc:941] successful NUMA node read from SysFS had negative value (-1), but there must be at least one NUMA node, so returning NUMA node zero\n",
      "2022-10-03 13:11:27.790718: I tensorflow/core/common_runtime/gpu/gpu_device.cc:1720] Found device 0 with properties: \n",
      "pciBusID: 0000:00:04.0 name: Tesla K80 computeCapability: 3.7\n",
      "coreClock: 0.8235GHz coreCount: 13 deviceMemorySize: 11.17GiB deviceMemoryBandwidth: 223.96GiB/s\n",
      "2022-10-03 13:11:27.790746: I tensorflow/stream_executor/platform/default/dso_loader.cc:49] Successfully opened dynamic library libcudart.so.10.1\n",
      "2022-10-03 13:11:27.790768: I tensorflow/stream_executor/platform/default/dso_loader.cc:49] Successfully opened dynamic library libcublas.so.10\n",
      "2022-10-03 13:11:27.790787: I tensorflow/stream_executor/platform/default/dso_loader.cc:49] Successfully opened dynamic library libcublasLt.so.10\n",
      "2022-10-03 13:11:27.790805: I tensorflow/stream_executor/platform/default/dso_loader.cc:49] Successfully opened dynamic library libcufft.so.10\n",
      "2022-10-03 13:11:27.790822: I tensorflow/stream_executor/platform/default/dso_loader.cc:49] Successfully opened dynamic library libcurand.so.10\n",
      "2022-10-03 13:11:27.790839: I tensorflow/stream_executor/platform/default/dso_loader.cc:49] Successfully opened dynamic library libcusolver.so.10\n",
      "2022-10-03 13:11:27.790890: I tensorflow/stream_executor/platform/default/dso_loader.cc:49] Successfully opened dynamic library libcusparse.so.10\n",
      "2022-10-03 13:11:27.790908: I tensorflow/stream_executor/platform/default/dso_loader.cc:49] Successfully opened dynamic library libcudnn.so.7\n",
      "2022-10-03 13:11:27.790987: I tensorflow/stream_executor/cuda/cuda_gpu_executor.cc:941] successful NUMA node read from SysFS had negative value (-1), but there must be at least one NUMA node, so returning NUMA node zero\n",
      "2022-10-03 13:11:27.791915: I tensorflow/stream_executor/cuda/cuda_gpu_executor.cc:941] successful NUMA node read from SysFS had negative value (-1), but there must be at least one NUMA node, so returning NUMA node zero\n",
      "2022-10-03 13:11:27.792558: I tensorflow/core/common_runtime/gpu/gpu_device.cc:1862] Adding visible gpu devices: 0\n",
      "2022-10-03 13:11:27.792611: I tensorflow/stream_executor/platform/default/dso_loader.cc:49] Successfully opened dynamic library libcudart.so.10.1\n",
      "2022-10-03 13:11:28.312941: I tensorflow/core/common_runtime/gpu/gpu_device.cc:1261] Device interconnect StreamExecutor with strength 1 edge matrix:\n",
      "2022-10-03 13:11:28.312982: I tensorflow/core/common_runtime/gpu/gpu_device.cc:1267]      0 \n",
      "2022-10-03 13:11:28.312990: I tensorflow/core/common_runtime/gpu/gpu_device.cc:1280] 0:   N \n",
      "2022-10-03 13:11:28.313245: I tensorflow/stream_executor/cuda/cuda_gpu_executor.cc:941] successful NUMA node read from SysFS had negative value (-1), but there must be at least one NUMA node, so returning NUMA node zero\n",
      "2022-10-03 13:11:28.314073: I tensorflow/stream_executor/cuda/cuda_gpu_executor.cc:941] successful NUMA node read from SysFS had negative value (-1), but there must be at least one NUMA node, so returning NUMA node zero\n",
      "2022-10-03 13:11:28.314902: I tensorflow/stream_executor/cuda/cuda_gpu_executor.cc:941] successful NUMA node read from SysFS had negative value (-1), but there must be at least one NUMA node, so returning NUMA node zero\n",
      "2022-10-03 13:11:28.315654: I tensorflow/core/common_runtime/gpu/gpu_device.cc:1406] Created TensorFlow device (/job:localhost/replica:0/task:0/device:GPU:0 with 10624 MB memory) -> physical GPU (device: 0, name: Tesla K80, pci bus id: 0000:00:04.0, compute capability: 3.7)\n"
     ]
    }
   ],
   "source": [
    "train_data.text=train_data.text.apply(custom_standardization)"
   ]
  },
  {
   "cell_type": "code",
   "execution_count": 8,
   "id": "7d66567e",
   "metadata": {},
   "outputs": [
    {
     "data": {
      "text/html": [
       "<div>\n",
       "<style scoped>\n",
       "    .dataframe tbody tr th:only-of-type {\n",
       "        vertical-align: middle;\n",
       "    }\n",
       "\n",
       "    .dataframe tbody tr th {\n",
       "        vertical-align: top;\n",
       "    }\n",
       "\n",
       "    .dataframe thead th {\n",
       "        text-align: right;\n",
       "    }\n",
       "</style>\n",
       "<table border=\"1\" class=\"dataframe\">\n",
       "  <thead>\n",
       "    <tr style=\"text-align: right;\">\n",
       "      <th></th>\n",
       "      <th>text</th>\n",
       "      <th>folds</th>\n",
       "      <th>english</th>\n",
       "      <th>luganda</th>\n",
       "    </tr>\n",
       "  </thead>\n",
       "  <tbody>\n",
       "    <tr>\n",
       "      <th>0</th>\n",
       "      <td>government constructed better health centers r...</td>\n",
       "      <td>0</td>\n",
       "      <td>1</td>\n",
       "      <td>0</td>\n",
       "    </tr>\n",
       "    <tr>\n",
       "      <th>1</th>\n",
       "      <td>company celebrated twenty years existence last...</td>\n",
       "      <td>0</td>\n",
       "      <td>1</td>\n",
       "      <td>0</td>\n",
       "    </tr>\n",
       "    <tr>\n",
       "      <th>2</th>\n",
       "      <td>many people have lost their lives sexually tra...</td>\n",
       "      <td>0</td>\n",
       "      <td>1</td>\n",
       "      <td>0</td>\n",
       "    </tr>\n",
       "    <tr>\n",
       "      <th>3</th>\n",
       "      <td>civil servants receive their pension fund upon...</td>\n",
       "      <td>0</td>\n",
       "      <td>1</td>\n",
       "      <td>0</td>\n",
       "    </tr>\n",
       "    <tr>\n",
       "      <th>4</th>\n",
       "      <td>teachers also among civil servants</td>\n",
       "      <td>0</td>\n",
       "      <td>1</td>\n",
       "      <td>0</td>\n",
       "    </tr>\n",
       "    <tr>\n",
       "      <th>...</th>\n",
       "      <td>...</td>\n",
       "      <td>...</td>\n",
       "      <td>...</td>\n",
       "      <td>...</td>\n",
       "    </tr>\n",
       "    <tr>\n",
       "      <th>32146</th>\n",
       "      <td>biki ebyetaagisa okusobola okukola omulimu oku...</td>\n",
       "      <td>2</td>\n",
       "      <td>0</td>\n",
       "      <td>1</td>\n",
       "    </tr>\n",
       "    <tr>\n",
       "      <th>32147</th>\n",
       "      <td>gavumenti ekoze enteekateeka ennungi abantu ok...</td>\n",
       "      <td>2</td>\n",
       "      <td>0</td>\n",
       "      <td>1</td>\n",
       "    </tr>\n",
       "    <tr>\n",
       "      <th>32148</th>\n",
       "      <td>abantu balina okulya okunywa</td>\n",
       "      <td>2</td>\n",
       "      <td>0</td>\n",
       "      <td>1</td>\n",
       "    </tr>\n",
       "    <tr>\n",
       "      <th>32149</th>\n",
       "      <td>emboozi ejja kweyongela maaso</td>\n",
       "      <td>2</td>\n",
       "      <td>0</td>\n",
       "      <td>1</td>\n",
       "    </tr>\n",
       "    <tr>\n",
       "      <th>32150</th>\n",
       "      <td>muwala wange atya ebisaanyi</td>\n",
       "      <td>2</td>\n",
       "      <td>0</td>\n",
       "      <td>1</td>\n",
       "    </tr>\n",
       "  </tbody>\n",
       "</table>\n",
       "<p>32151 rows × 4 columns</p>\n",
       "</div>"
      ],
      "text/plain": [
       "                                                    text  folds  english  \\\n",
       "0      government constructed better health centers r...      0        1   \n",
       "1      company celebrated twenty years existence last...      0        1   \n",
       "2      many people have lost their lives sexually tra...      0        1   \n",
       "3      civil servants receive their pension fund upon...      0        1   \n",
       "4                     teachers also among civil servants      0        1   \n",
       "...                                                  ...    ...      ...   \n",
       "32146  biki ebyetaagisa okusobola okukola omulimu oku...      2        0   \n",
       "32147  gavumenti ekoze enteekateeka ennungi abantu ok...      2        0   \n",
       "32148                       abantu balina okulya okunywa      2        0   \n",
       "32149                      emboozi ejja kweyongela maaso      2        0   \n",
       "32150                        muwala wange atya ebisaanyi      2        0   \n",
       "\n",
       "       luganda  \n",
       "0            0  \n",
       "1            0  \n",
       "2            0  \n",
       "3            0  \n",
       "4            0  \n",
       "...        ...  \n",
       "32146        1  \n",
       "32147        1  \n",
       "32148        1  \n",
       "32149        1  \n",
       "32150        1  \n",
       "\n",
       "[32151 rows x 4 columns]"
      ]
     },
     "execution_count": 8,
     "metadata": {},
     "output_type": "execute_result"
    }
   ],
   "source": [
    "train_data"
   ]
  },
  {
   "cell_type": "code",
   "execution_count": 9,
   "id": "ca5c024e",
   "metadata": {},
   "outputs": [],
   "source": [
    "# train_corpus = ' '.join(train_data.text.values.tolist())\n",
    "unique_word_count = Counter()\n",
    "for i in train_data.text.values:\n",
    "    for word in i.split():\n",
    "        unique_word_count[word]+=1"
   ]
  },
  {
   "cell_type": "code",
   "execution_count": 10,
   "id": "344c1e5d",
   "metadata": {},
   "outputs": [
    {
     "data": {
      "text/plain": [
       "32156"
      ]
     },
     "execution_count": 10,
     "metadata": {},
     "output_type": "execute_result"
    }
   ],
   "source": [
    "len(unique_word_count)"
   ]
  },
  {
   "cell_type": "code",
   "execution_count": 11,
   "id": "40b6a910",
   "metadata": {},
   "outputs": [],
   "source": [
    "word_counts=list(unique_word_count.values())\n",
    "words=list(unique_word_count.keys())\n",
    "indexes = sorted(range(len(word_counts)), key=lambda k: word_counts[k])\n",
    "sorted_words=np.array(words)[indexes]\n",
    "sorted_word_counts=np.array(word_counts)[indexes]"
   ]
  },
  {
   "cell_type": "code",
   "execution_count": 12,
   "id": "09c468f9",
   "metadata": {},
   "outputs": [],
   "source": [
    "word_number=list(Counter(sorted_word_counts).keys())\n",
    "word_number = [str(x) for x in word_number]\n",
    "word_number_count=list(Counter(sorted_word_counts).values())"
   ]
  },
  {
   "cell_type": "code",
   "execution_count": 13,
   "id": "9c316f2d",
   "metadata": {},
   "outputs": [
    {
     "data": {
      "text/plain": [
       "Text(0, 0.5, 'Counts')"
      ]
     },
     "execution_count": 13,
     "metadata": {},
     "output_type": "execute_result"
    },
    {
     "data": {
      "image/png": "[encoded data removed]",
      "text/plain": [
       "<Figure size 640x480 with 1 Axes>"
      ]
     },
     "metadata": {},
     "output_type": "display_data"
    }
   ],
   "source": [
    "plt.bar(word_number[:30],word_number_count[:30])\n",
    "plt.xticks(rotation=90)\n",
    "plt.title(\"Word Counts\")\n",
    "plt.xlabel(\"Word number\")\n",
    "plt.ylabel(\"Counts\")"
   ]
  },
  {
   "cell_type": "code",
   "execution_count": 14,
   "id": "6349867c",
   "metadata": {},
   "outputs": [
    {
     "data": {
      "text/plain": [
       "32156"
      ]
     },
     "execution_count": 14,
     "metadata": {},
     "output_type": "execute_result"
    }
   ],
   "source": [
    "len(unique_word_count)"
   ]
  },
  {
   "cell_type": "code",
   "execution_count": 15,
   "id": "aa611426",
   "metadata": {},
   "outputs": [],
   "source": [
    "tokenizer = Tokenizer(num_words=len(unique_word_count))\n",
    "tokenizer.fit_on_texts(train_data.text)"
   ]
  },
  {
   "cell_type": "code",
   "execution_count": 16,
   "id": "ce35b1e2",
   "metadata": {},
   "outputs": [],
   "source": [
    "max_length=8\n",
    "train_sequences=tokenizer.texts_to_sequences(train_data.text)\n",
    "train_padded_sequences = pad_sequences(train_sequences,maxlen=max_length,padding='post',truncating='post')\n",
    "\n",
    "val_sequences=tokenizer.texts_to_sequences(val_data.text)\n",
    "val_padded_sequences = pad_sequences(val_sequences,maxlen=max_length,padding='post',truncating='post')\n",
    "\n",
    "test_sequences=tokenizer.texts_to_sequences(test_data.text)\n",
    "test_padded_sequences = pad_sequences(test_sequences,maxlen=max_length,padding='post',truncating='post')"
   ]
  },
  {
   "cell_type": "code",
   "execution_count": 17,
   "id": "7153af26",
   "metadata": {},
   "outputs": [
    {
     "data": {
      "text/plain": [
       "english    15157\n",
       "luganda    16994\n",
       "dtype: int64"
      ]
     },
     "execution_count": 17,
     "metadata": {},
     "output_type": "execute_result"
    }
   ],
   "source": [
    "train_data.iloc[:,2:].sum()"
   ]
  },
  {
   "cell_type": "code",
   "execution_count": 18,
   "id": "4b65b639",
   "metadata": {},
   "outputs": [
    {
     "name": "stdout",
     "output_type": "stream",
     "text": [
      "__pycache__  deployment_models\tlosses.py  train_el.py\t   weights_bi\r\n",
      "config.py    eng-lug\t\tmodels.py  train_model.py  weights_bi2\r\n",
      "data\t     eng-lug_2\t\tnotebooks  weights\r\n"
     ]
    }
   ],
   "source": [
    "!ls .."
   ]
  },
  {
   "cell_type": "code",
   "execution_count": 20,
   "id": "0d172534",
   "metadata": {},
   "outputs": [],
   "source": [
    "import json\n",
    "\n",
    "tokenizer.word_index\n",
    "with open(\"../metatxt.txt\",'w+') as file:\n",
    "    for key,value in tokenizer.word_index.items():\n",
    "#         print(\"{} {}\".format(key,value))\n",
    "        file.write(\"{} {}\\n\".format(key,value))"
   ]
  },
  {
   "cell_type": "code",
   "execution_count": 21,
   "id": "7946f672",
   "metadata": {},
   "outputs": [
    {
     "name": "stdout",
     "output_type": "stream",
     "text": [
      "Collecting tflite-support-nightly\n",
      "  Downloading tflite_support_nightly-0.4.0.dev20220816-cp39-cp39-manylinux2014_x86_64.whl (60.1 MB)\n",
      "\u001b[2K     \u001b[90m━━━━━━━━━━━━━━━━━━━━━━━━━━━━━━━━━━━━━━━━\u001b[0m \u001b[32m60.1/60.1 MB\u001b[0m \u001b[31m20.5 MB/s\u001b[0m eta \u001b[36m0:00:00\u001b[0m00:01\u001b[0m00:01\u001b[0m\n",
      "\u001b[?25hRequirement already satisfied: flatbuffers>=2.0 in /home/g007markphillip/anaconda3/envs/tf/lib/python3.9/site-packages (from tflite-support-nightly) (2.0)\n",
      "Collecting sounddevice>=0.4.4\n",
      "  Downloading sounddevice-0.4.5-py3-none-any.whl (31 kB)\n",
      "Collecting pybind11>=2.6.0\n",
      "  Downloading pybind11-2.10.0-py3-none-any.whl (213 kB)\n",
      "\u001b[2K     \u001b[90m━━━━━━━━━━━━━━━━━━━━━━━━━━━━━━━━━━━━━━\u001b[0m \u001b[32m213.3/213.3 kB\u001b[0m \u001b[31m30.4 MB/s\u001b[0m eta \u001b[36m0:00:00\u001b[0m\n",
      "\u001b[?25hRequirement already satisfied: protobuf<4,>=3.18.0 in /home/g007markphillip/anaconda3/envs/tf/lib/python3.9/site-packages (from tflite-support-nightly) (3.20.1)\n",
      "Requirement already satisfied: absl-py>=0.7.0 in /home/g007markphillip/anaconda3/envs/tf/lib/python3.9/site-packages (from tflite-support-nightly) (0.15.0)\n",
      "Collecting numpy>=1.20.0\n",
      "  Downloading numpy-1.23.3-cp39-cp39-manylinux_2_17_x86_64.manylinux2014_x86_64.whl (17.1 MB)\n",
      "\u001b[2K     \u001b[90m━━━━━━━━━━━━━━━━━━━━━━━━━━━━━━━━━━━━━━━━\u001b[0m \u001b[32m17.1/17.1 MB\u001b[0m \u001b[31m72.1 MB/s\u001b[0m eta \u001b[36m0:00:00\u001b[0m00:01\u001b[0m00:01\u001b[0m\n",
      "\u001b[?25hRequirement already satisfied: six in /home/g007markphillip/anaconda3/envs/tf/lib/python3.9/site-packages (from absl-py>=0.7.0->tflite-support-nightly) (1.16.0)\n",
      "Requirement already satisfied: CFFI>=1.0 in /home/g007markphillip/anaconda3/envs/tf/lib/python3.9/site-packages (from sounddevice>=0.4.4->tflite-support-nightly) (1.15.1)\n",
      "Requirement already satisfied: pycparser in /home/g007markphillip/anaconda3/envs/tf/lib/python3.9/site-packages (from CFFI>=1.0->sounddevice>=0.4.4->tflite-support-nightly) (2.21)\n",
      "Installing collected packages: pybind11, numpy, sounddevice, tflite-support-nightly\n",
      "  Attempting uninstall: numpy\n",
      "    Found existing installation: numpy 1.19.5\n",
      "    Uninstalling numpy-1.19.5:\n",
      "      Successfully uninstalled numpy-1.19.5\n",
      "\u001b[31mERROR: pip's dependency resolver does not currently take into account all the packages that are installed. This behaviour is the source of the following dependency conflicts.\n",
      "tensorflow 2.4.1 requires flatbuffers~=1.12.0, but you have flatbuffers 2.0 which is incompatible.\n",
      "tensorflow 2.4.1 requires gast==0.3.3, but you have gast 0.4.0 which is incompatible.\n",
      "tensorflow 2.4.1 requires grpcio~=1.32.0, but you have grpcio 1.42.0 which is incompatible.\n",
      "tensorflow 2.4.1 requires numpy~=1.19.2, but you have numpy 1.23.3 which is incompatible.\n",
      "tensorflow 2.4.1 requires six~=1.15.0, but you have six 1.16.0 which is incompatible.\n",
      "tensorflow 2.4.1 requires tensorflow-estimator<2.5.0,>=2.4.0, but you have tensorflow-estimator 2.6.0 which is incompatible.\n",
      "tensorflow 2.4.1 requires typing-extensions~=3.7.4, but you have typing-extensions 4.3.0 which is incompatible.\n",
      "tensorflow 2.4.1 requires wrapt~=1.12.1, but you have wrapt 1.14.1 which is incompatible.\n",
      "scipy 1.7.3 requires numpy<1.23.0,>=1.16.5, but you have numpy 1.23.3 which is incompatible.\u001b[0m\u001b[31m\n",
      "\u001b[0mSuccessfully installed numpy-1.23.3 pybind11-2.10.0 sounddevice-0.4.5 tflite-support-nightly-0.4.0.dev20220816\n"
     ]
    }
   ],
   "source": [
    "!pip install tflite-support-nightly"
   ]
  },
  {
   "cell_type": "code",
   "execution_count": 23,
   "id": "384d7ff2",
   "metadata": {},
   "outputs": [],
   "source": [
    "from tflite_support.metadata_writers import nl_classifier\n",
    "from tflite_support.metadata_writers import metadata_info\n",
    "from tflite_support.metadata_writers import writer_utils"
   ]
  },
  {
   "cell_type": "code",
   "execution_count": null,
   "id": "036f3c4c",
   "metadata": {},
   "outputs": [],
   "source": []
  },
  {
   "cell_type": "code",
   "execution_count": 38,
   "id": "de2d6762",
   "metadata": {},
   "outputs": [],
   "source": [
    "# def custom_standardization(input_data):\n",
    "#   lowercase = tf.strings.lower(input_data)\n",
    "#   remove_numbers = tf.strings.regex_replace(lowercase,\"\\d+\",\"\")\n",
    "#   stripped_html = tf.strings.regex_replace(remove_numbers, '<br />', ' ')\n",
    "\n",
    "#   return tf.strings.regex_replace(stripped_html,\n",
    "#                                   '[%s]' % re.escape(string.punctuation),\n",
    "#                                   '')"
   ]
  },
  {
   "cell_type": "code",
   "execution_count": 39,
   "id": "3ab05787",
   "metadata": {},
   "outputs": [],
   "source": [
    "# vectorize_layer = tf.keras.layers.experimental.preprocessing.TextVectorization(\n",
    "#     standardize=custom_standardization,\n",
    "#     max_tokens=len(unique_word_count),\n",
    "#     output_mode='int',\n",
    "#     output_sequence_length=max_length)"
   ]
  },
  {
   "cell_type": "code",
   "execution_count": 17,
   "id": "7b9fcb70",
   "metadata": {},
   "outputs": [],
   "source": [
    "# vectorize_layer.adapt(train_data.text.values)"
   ]
  },
  {
   "cell_type": "code",
   "execution_count": 40,
   "id": "38a16133",
   "metadata": {},
   "outputs": [],
   "source": [
    "# vectorize_layer(train_data.text.values)"
   ]
  },
  {
   "cell_type": "code",
   "execution_count": null,
   "id": "2157044f",
   "metadata": {},
   "outputs": [],
   "source": []
  },
  {
   "cell_type": "code",
   "execution_count": 24,
   "id": "becbdeb2",
   "metadata": {
    "scrolled": true
   },
   "outputs": [
    {
     "name": "stderr",
     "output_type": "stream",
     "text": [
      "2022-10-03 13:23:38.271430: I tensorflow/compiler/mlir/mlir_graph_optimization_pass.cc:116] None of the MLIR optimization passes are enabled (registered 2)\n",
      "2022-10-03 13:23:38.287180: I tensorflow/core/platform/profile_utils/cpu_utils.cc:112] CPU Frequency: 2199995000 Hz\n"
     ]
    },
    {
     "name": "stdout",
     "output_type": "stream",
     "text": [
      "Epoch 1/100\n",
      "WARNING:tensorflow:AutoGraph could not transform <bound method WeightedCategoricalCrossentropy.call of <losses.WeightedCategoricalCrossentropy object at 0x7f16f436dd00>> and will run it as-is.\n",
      "Please report this to the TensorFlow team. When filing the bug, set the verbosity to 10 (on Linux, `export AUTOGRAPH_VERBOSITY=10`) and attach the full output.\n",
      "Cause: module 'gast' has no attribute 'Index'\n",
      "To silence this warning, decorate the function with @tf.autograph.experimental.do_not_convert\n",
      "WARNING: AutoGraph could not transform <bound method WeightedCategoricalCrossentropy.call of <losses.WeightedCategoricalCrossentropy object at 0x7f16f436dd00>> and will run it as-is.\n",
      "Please report this to the TensorFlow team. When filing the bug, set the verbosity to 10 (on Linux, `export AUTOGRAPH_VERBOSITY=10`) and attach the full output.\n",
      "Cause: module 'gast' has no attribute 'Index'\n",
      "To silence this warning, decorate the function with @tf.autograph.experimental.do_not_convert\n"
     ]
    },
    {
     "name": "stderr",
     "output_type": "stream",
     "text": [
      "2022-10-03 13:23:40.205887: I tensorflow/stream_executor/platform/default/dso_loader.cc:49] Successfully opened dynamic library libcublas.so.10\n",
      "2022-10-03 13:23:40.890290: I tensorflow/stream_executor/platform/default/dso_loader.cc:49] Successfully opened dynamic library libcudnn.so.7\n"
     ]
    },
    {
     "name": "stdout",
     "output_type": "stream",
     "text": [
      "252/252 [==============================] - 8s 13ms/step - loss: 4.5099 - accuracy: 0.5251 - val_loss: 1.5669 - val_accuracy: 0.5697\n",
      "Epoch 2/100\n",
      "252/252 [==============================] - 3s 11ms/step - loss: 1.6935 - accuracy: 0.5800 - val_loss: 0.9463 - val_accuracy: 0.5807\n",
      "Epoch 3/100\n",
      "252/252 [==============================] - 3s 11ms/step - loss: 1.0596 - accuracy: 0.6019 - val_loss: 0.7798 - val_accuracy: 0.5968\n",
      "Epoch 4/100\n",
      "252/252 [==============================] - 3s 10ms/step - loss: 0.8843 - accuracy: 0.6252 - val_loss: 0.7449 - val_accuracy: 0.6231\n",
      "Epoch 5/100\n",
      "252/252 [==============================] - 3s 11ms/step - loss: 0.8097 - accuracy: 0.6638 - val_loss: 0.7286 - val_accuracy: 0.6563\n",
      "Epoch 6/100\n",
      "252/252 [==============================] - 3s 11ms/step - loss: 0.7533 - accuracy: 0.7090 - val_loss: 0.7197 - val_accuracy: 0.6986\n",
      "Epoch 7/100\n",
      "252/252 [==============================] - 3s 11ms/step - loss: 0.7331 - accuracy: 0.7585 - val_loss: 0.7086 - val_accuracy: 0.7467\n",
      "Epoch 8/100\n",
      "252/252 [==============================] - 3s 11ms/step - loss: 0.7198 - accuracy: 0.8095 - val_loss: 0.6953 - val_accuracy: 0.7924\n",
      "Epoch 9/100\n",
      "252/252 [==============================] - 3s 10ms/step - loss: 0.7107 - accuracy: 0.8528 - val_loss: 0.6945 - val_accuracy: 0.8359\n",
      "Epoch 10/100\n",
      "252/252 [==============================] - 3s 10ms/step - loss: 0.7040 - accuracy: 0.8936 - val_loss: 0.6949 - val_accuracy: 0.8709\n",
      "Epoch 11/100\n",
      "252/252 [==============================] - 3s 10ms/step - loss: 0.6910 - accuracy: 0.9276 - val_loss: 0.6926 - val_accuracy: 0.8992\n",
      "Epoch 12/100\n",
      "252/252 [==============================] - 3s 10ms/step - loss: 0.6817 - accuracy: 0.9527 - val_loss: 0.6893 - val_accuracy: 0.9198\n",
      "Epoch 13/100\n",
      "252/252 [==============================] - 3s 10ms/step - loss: 0.6791 - accuracy: 0.9663 - val_loss: 0.6905 - val_accuracy: 0.9361\n",
      "Epoch 14/100\n",
      "252/252 [==============================] - 3s 10ms/step - loss: 0.6645 - accuracy: 0.9760 - val_loss: 0.6830 - val_accuracy: 0.9506\n",
      "Epoch 15/100\n",
      "252/252 [==============================] - 3s 10ms/step - loss: 0.6535 - accuracy: 0.9837 - val_loss: 0.6703 - val_accuracy: 0.9616\n",
      "Epoch 16/100\n",
      "252/252 [==============================] - 3s 10ms/step - loss: 0.6371 - accuracy: 0.9891 - val_loss: 0.6615 - val_accuracy: 0.9689\n",
      "Epoch 17/100\n",
      "252/252 [==============================] - 3s 10ms/step - loss: 0.6259 - accuracy: 0.9917 - val_loss: 0.6473 - val_accuracy: 0.9759\n",
      "Epoch 18/100\n",
      "252/252 [==============================] - 3s 10ms/step - loss: 0.6106 - accuracy: 0.9946 - val_loss: 0.6369 - val_accuracy: 0.9796\n",
      "Epoch 19/100\n",
      "252/252 [==============================] - 3s 10ms/step - loss: 0.5993 - accuracy: 0.9961 - val_loss: 0.6227 - val_accuracy: 0.9827\n",
      "Epoch 20/100\n",
      "252/252 [==============================] - 3s 10ms/step - loss: 0.5737 - accuracy: 0.9973 - val_loss: 0.6068 - val_accuracy: 0.9868\n",
      "Epoch 21/100\n",
      "252/252 [==============================] - 3s 10ms/step - loss: 0.5559 - accuracy: 0.9975 - val_loss: 0.5928 - val_accuracy: 0.9898\n",
      "Epoch 22/100\n",
      "252/252 [==============================] - 3s 10ms/step - loss: 0.5343 - accuracy: 0.9978 - val_loss: 0.5772 - val_accuracy: 0.9915\n",
      "Epoch 23/100\n",
      "252/252 [==============================] - 3s 10ms/step - loss: 0.5052 - accuracy: 0.9986 - val_loss: 0.5604 - val_accuracy: 0.9921\n",
      "Epoch 24/100\n",
      "252/252 [==============================] - 3s 10ms/step - loss: 0.4798 - accuracy: 0.9989 - val_loss: 0.5444 - val_accuracy: 0.9926\n",
      "Epoch 25/100\n",
      "252/252 [==============================] - 3s 10ms/step - loss: 0.4629 - accuracy: 0.9984 - val_loss: 0.5203 - val_accuracy: 0.9929\n",
      "Epoch 26/100\n",
      "252/252 [==============================] - 3s 10ms/step - loss: 0.4236 - accuracy: 0.9992 - val_loss: 0.4959 - val_accuracy: 0.9934\n",
      "Epoch 27/100\n",
      "252/252 [==============================] - 3s 10ms/step - loss: 0.4009 - accuracy: 0.9991 - val_loss: 0.4715 - val_accuracy: 0.9936\n",
      "Epoch 28/100\n",
      "252/252 [==============================] - 3s 11ms/step - loss: 0.3721 - accuracy: 0.9994 - val_loss: 0.4477 - val_accuracy: 0.9935\n",
      "Epoch 29/100\n",
      "252/252 [==============================] - 3s 10ms/step - loss: 0.3462 - accuracy: 0.9992 - val_loss: 0.4246 - val_accuracy: 0.9936\n",
      "Epoch 30/100\n",
      "252/252 [==============================] - 3s 10ms/step - loss: 0.3217 - accuracy: 0.9990 - val_loss: 0.3989 - val_accuracy: 0.9938\n",
      "Epoch 31/100\n",
      "252/252 [==============================] - 3s 10ms/step - loss: 0.2991 - accuracy: 0.9991 - val_loss: 0.3741 - val_accuracy: 0.9938\n",
      "Epoch 32/100\n",
      "252/252 [==============================] - 3s 10ms/step - loss: 0.2760 - accuracy: 0.9994 - val_loss: 0.3527 - val_accuracy: 0.9939\n",
      "Epoch 33/100\n",
      "252/252 [==============================] - 3s 10ms/step - loss: 0.2554 - accuracy: 0.9995 - val_loss: 0.3305 - val_accuracy: 0.9938\n",
      "Epoch 34/100\n",
      "252/252 [==============================] - 3s 10ms/step - loss: 0.2374 - accuracy: 0.9992 - val_loss: 0.3079 - val_accuracy: 0.9941\n",
      "Epoch 35/100\n",
      "252/252 [==============================] - 3s 10ms/step - loss: 0.2188 - accuracy: 0.9995 - val_loss: 0.2884 - val_accuracy: 0.9940\n",
      "Epoch 36/100\n",
      "252/252 [==============================] - 3s 10ms/step - loss: 0.2034 - accuracy: 0.9992 - val_loss: 0.2738 - val_accuracy: 0.9941\n",
      "Epoch 37/100\n",
      "252/252 [==============================] - 3s 10ms/step - loss: 0.1904 - accuracy: 0.9992 - val_loss: 0.2584 - val_accuracy: 0.9941\n",
      "Epoch 38/100\n",
      "252/252 [==============================] - 3s 10ms/step - loss: 0.1733 - accuracy: 0.9995 - val_loss: 0.2423 - val_accuracy: 0.9942\n",
      "Epoch 39/100\n",
      "252/252 [==============================] - 3s 10ms/step - loss: 0.1616 - accuracy: 0.9995 - val_loss: 0.2309 - val_accuracy: 0.9942\n",
      "Epoch 40/100\n",
      "252/252 [==============================] - 3s 10ms/step - loss: 0.1513 - accuracy: 0.9995 - val_loss: 0.2205 - val_accuracy: 0.9940\n",
      "Epoch 41/100\n",
      "252/252 [==============================] - 3s 10ms/step - loss: 0.1443 - accuracy: 0.9993 - val_loss: 0.2110 - val_accuracy: 0.9940\n",
      "Epoch 42/100\n",
      "252/252 [==============================] - 3s 10ms/step - loss: 0.1314 - accuracy: 0.9992 - val_loss: 0.2004 - val_accuracy: 0.9940\n",
      "Epoch 43/100\n",
      "252/252 [==============================] - 3s 10ms/step - loss: 0.1210 - accuracy: 0.9994 - val_loss: 0.1926 - val_accuracy: 0.9942\n",
      "Epoch 44/100\n",
      "252/252 [==============================] - 3s 10ms/step - loss: 0.1148 - accuracy: 0.9992 - val_loss: 0.1854 - val_accuracy: 0.9942\n",
      "Epoch 45/100\n",
      "252/252 [==============================] - 3s 10ms/step - loss: 0.1057 - accuracy: 0.9994 - val_loss: 0.1826 - val_accuracy: 0.9939\n",
      "Epoch 46/100\n",
      "252/252 [==============================] - 3s 10ms/step - loss: 0.1016 - accuracy: 0.9993 - val_loss: 0.1767 - val_accuracy: 0.9941\n",
      "Epoch 47/100\n",
      "252/252 [==============================] - 3s 10ms/step - loss: 0.0884 - accuracy: 0.9997 - val_loss: 0.1754 - val_accuracy: 0.9943\n",
      "Epoch 48/100\n",
      "252/252 [==============================] - 3s 10ms/step - loss: 0.0852 - accuracy: 0.9994 - val_loss: 0.1706 - val_accuracy: 0.9942\n",
      "Epoch 49/100\n",
      "252/252 [==============================] - 3s 10ms/step - loss: 0.0809 - accuracy: 0.9995 - val_loss: 0.1663 - val_accuracy: 0.9942\n",
      "Epoch 50/100\n",
      "252/252 [==============================] - 3s 10ms/step - loss: 0.0731 - accuracy: 0.9998 - val_loss: 0.1608 - val_accuracy: 0.9944\n",
      "Epoch 51/100\n",
      "252/252 [==============================] - 3s 10ms/step - loss: 0.0732 - accuracy: 0.9994 - val_loss: 0.1576 - val_accuracy: 0.9944\n",
      "Epoch 52/100\n",
      "252/252 [==============================] - 3s 10ms/step - loss: 0.0646 - accuracy: 0.9994 - val_loss: 0.1567 - val_accuracy: 0.9942\n",
      "Epoch 53/100\n",
      "252/252 [==============================] - 3s 10ms/step - loss: 0.0586 - accuracy: 0.9997 - val_loss: 0.1544 - val_accuracy: 0.9945\n",
      "Epoch 54/100\n",
      "252/252 [==============================] - 3s 10ms/step - loss: 0.0573 - accuracy: 0.9996 - val_loss: 0.1523 - val_accuracy: 0.9944\n",
      "Epoch 55/100\n",
      "252/252 [==============================] - 3s 10ms/step - loss: 0.0538 - accuracy: 0.9997 - val_loss: 0.1501 - val_accuracy: 0.9942\n",
      "Epoch 56/100\n",
      "252/252 [==============================] - 3s 10ms/step - loss: 0.0479 - accuracy: 0.9998 - val_loss: 0.1488 - val_accuracy: 0.9944\n",
      "Epoch 57/100\n",
      "252/252 [==============================] - 3s 10ms/step - loss: 0.0496 - accuracy: 0.9993 - val_loss: 0.1469 - val_accuracy: 0.9942\n",
      "Epoch 58/100\n",
      "252/252 [==============================] - 3s 10ms/step - loss: 0.0469 - accuracy: 0.9995 - val_loss: 0.1457 - val_accuracy: 0.9943\n",
      "Epoch 59/100\n",
      "252/252 [==============================] - 3s 10ms/step - loss: 0.0394 - accuracy: 0.9997 - val_loss: 0.1453 - val_accuracy: 0.9944\n",
      "Epoch 60/100\n",
      "252/252 [==============================] - 3s 11ms/step - loss: 0.0387 - accuracy: 0.9997 - val_loss: 0.1446 - val_accuracy: 0.9944\n",
      "Epoch 61/100\n",
      "252/252 [==============================] - 3s 11ms/step - loss: 0.0360 - accuracy: 0.9998 - val_loss: 0.1425 - val_accuracy: 0.9945\n",
      "Epoch 62/100\n",
      "252/252 [==============================] - 3s 11ms/step - loss: 0.0327 - accuracy: 0.9999 - val_loss: 0.1446 - val_accuracy: 0.9945\n",
      "Epoch 63/100\n",
      "252/252 [==============================] - 3s 11ms/step - loss: 0.0377 - accuracy: 0.9995 - val_loss: 0.1420 - val_accuracy: 0.9945\n",
      "Epoch 64/100\n",
      "252/252 [==============================] - 3s 10ms/step - loss: 0.0305 - accuracy: 0.9997 - val_loss: 0.1419 - val_accuracy: 0.9945\n",
      "Epoch 65/100\n",
      "252/252 [==============================] - 3s 11ms/step - loss: 0.0274 - accuracy: 0.9999 - val_loss: 0.1426 - val_accuracy: 0.9945\n",
      "Epoch 66/100\n",
      "252/252 [==============================] - 3s 10ms/step - loss: 0.0264 - accuracy: 0.9999 - val_loss: 0.1431 - val_accuracy: 0.9945\n",
      "Epoch 67/100\n",
      "252/252 [==============================] - 3s 10ms/step - loss: 0.0261 - accuracy: 0.9997 - val_loss: 0.1438 - val_accuracy: 0.9945\n",
      "Epoch 68/100\n",
      "252/252 [==============================] - 3s 10ms/step - loss: 0.0270 - accuracy: 0.9997 - val_loss: 0.1437 - val_accuracy: 0.9945\n",
      "Epoch 69/100\n",
      "252/252 [==============================] - 3s 10ms/step - loss: 0.0265 - accuracy: 0.9997 - val_loss: 0.1422 - val_accuracy: 0.9946\n",
      "Epoch 70/100\n",
      "252/252 [==============================] - 3s 10ms/step - loss: 0.0228 - accuracy: 0.9997 - val_loss: 0.1428 - val_accuracy: 0.9945\n",
      "Epoch 71/100\n",
      "252/252 [==============================] - 3s 10ms/step - loss: 0.0215 - accuracy: 0.9997 - val_loss: 0.1432 - val_accuracy: 0.9945\n",
      "Epoch 72/100\n",
      "252/252 [==============================] - 3s 10ms/step - loss: 0.0202 - accuracy: 0.9997 - val_loss: 0.1438 - val_accuracy: 0.9944\n",
      "Epoch 73/100\n",
      "252/252 [==============================] - 3s 10ms/step - loss: 0.0177 - accuracy: 0.9999 - val_loss: 0.1451 - val_accuracy: 0.9945\n",
      "Epoch 74/100\n",
      "252/252 [==============================] - 3s 10ms/step - loss: 0.0194 - accuracy: 0.9998 - val_loss: 0.1480 - val_accuracy: 0.9944\n",
      "Epoch 75/100\n",
      "252/252 [==============================] - 3s 10ms/step - loss: 0.0169 - accuracy: 0.9998 - val_loss: 0.1490 - val_accuracy: 0.9944\n",
      "Epoch 76/100\n",
      "252/252 [==============================] - 3s 10ms/step - loss: 0.0151 - accuracy: 0.9999 - val_loss: 0.1526 - val_accuracy: 0.9943\n",
      "Epoch 77/100\n",
      "252/252 [==============================] - 3s 10ms/step - loss: 0.0144 - accuracy: 0.9999 - val_loss: 0.1541 - val_accuracy: 0.9942\n",
      "Epoch 78/100\n",
      "252/252 [==============================] - 3s 10ms/step - loss: 0.0137 - accuracy: 0.9997 - val_loss: 0.1560 - val_accuracy: 0.9942\n",
      "Epoch 79/100\n",
      "252/252 [==============================] - 3s 11ms/step - loss: 0.0142 - accuracy: 0.9999 - val_loss: 0.1575 - val_accuracy: 0.9942\n",
      "Epoch 80/100\n",
      "252/252 [==============================] - 3s 10ms/step - loss: 0.0122 - accuracy: 0.9999 - val_loss: 0.1594 - val_accuracy: 0.9942\n",
      "Epoch 81/100\n",
      "252/252 [==============================] - 3s 11ms/step - loss: 0.0139 - accuracy: 0.9997 - val_loss: 0.1628 - val_accuracy: 0.9941\n",
      "Epoch 82/100\n",
      "252/252 [==============================] - 3s 10ms/step - loss: 0.0122 - accuracy: 0.9998 - val_loss: 0.1639 - val_accuracy: 0.9941\n",
      "Epoch 83/100\n",
      "252/252 [==============================] - 3s 10ms/step - loss: 0.0109 - accuracy: 0.9998 - val_loss: 0.1654 - val_accuracy: 0.9941\n",
      "Epoch 84/100\n",
      "252/252 [==============================] - 3s 10ms/step - loss: 0.0098 - accuracy: 0.9999 - val_loss: 0.1717 - val_accuracy: 0.9939\n",
      "Epoch 85/100\n",
      "252/252 [==============================] - 3s 10ms/step - loss: 0.0092 - accuracy: 1.0000 - val_loss: 0.1743 - val_accuracy: 0.9939\n",
      "Epoch 86/100\n",
      "252/252 [==============================] - 3s 10ms/step - loss: 0.0100 - accuracy: 0.9998 - val_loss: 0.1764 - val_accuracy: 0.9939\n",
      "Epoch 87/100\n",
      "252/252 [==============================] - 3s 10ms/step - loss: 0.0123 - accuracy: 0.9998 - val_loss: 0.1799 - val_accuracy: 0.9938\n",
      "Epoch 88/100\n",
      "252/252 [==============================] - 3s 10ms/step - loss: 0.0094 - accuracy: 0.9999 - val_loss: 0.1818 - val_accuracy: 0.9938\n",
      "Epoch 89/100\n",
      "252/252 [==============================] - 3s 10ms/step - loss: 0.0076 - accuracy: 1.0000 - val_loss: 0.1867 - val_accuracy: 0.9937\n",
      "Epoch 90/100\n",
      "252/252 [==============================] - 3s 10ms/step - loss: 0.0084 - accuracy: 0.9999 - val_loss: 0.1859 - val_accuracy: 0.9938\n",
      "Epoch 91/100\n",
      "252/252 [==============================] - 3s 10ms/step - loss: 0.0069 - accuracy: 0.9999 - val_loss: 0.1884 - val_accuracy: 0.9939\n",
      "Epoch 92/100\n",
      "252/252 [==============================] - 3s 10ms/step - loss: 0.0081 - accuracy: 0.9999 - val_loss: 0.1897 - val_accuracy: 0.9939\n",
      "Epoch 93/100\n",
      "252/252 [==============================] - 3s 10ms/step - loss: 0.0071 - accuracy: 0.9999 - val_loss: 0.1919 - val_accuracy: 0.9939\n",
      "Epoch 94/100\n",
      "252/252 [==============================] - 3s 10ms/step - loss: 0.0068 - accuracy: 0.9999 - val_loss: 0.1934 - val_accuracy: 0.9939\n",
      "Epoch 95/100\n",
      "252/252 [==============================] - 3s 10ms/step - loss: 0.0056 - accuracy: 0.9999 - val_loss: 0.1956 - val_accuracy: 0.9939\n",
      "Epoch 96/100\n",
      "252/252 [==============================] - 3s 10ms/step - loss: 0.0054 - accuracy: 1.0000 - val_loss: 0.1977 - val_accuracy: 0.9940\n",
      "Epoch 97/100\n",
      "252/252 [==============================] - 3s 10ms/step - loss: 0.0052 - accuracy: 1.0000 - val_loss: 0.2063 - val_accuracy: 0.9937\n",
      "Epoch 98/100\n",
      "252/252 [==============================] - 3s 10ms/step - loss: 0.0070 - accuracy: 0.9999 - val_loss: 0.2058 - val_accuracy: 0.9938\n",
      "Epoch 99/100\n",
      "252/252 [==============================] - 3s 10ms/step - loss: 0.0050 - accuracy: 0.9999 - val_loss: 0.2106 - val_accuracy: 0.9937\n",
      "Epoch 100/100\n",
      "252/252 [==============================] - 3s 10ms/step - loss: 0.0052 - accuracy: 0.9999 - val_loss: 0.2129 - val_accuracy: 0.9937\n"
     ]
    },
    {
     "data": {
      "text/plain": [
       "<tensorflow.python.keras.callbacks.History at 0x7f16f411d220>"
      ]
     },
     "execution_count": 24,
     "metadata": {},
     "output_type": "execute_result"
    }
   ],
   "source": [
    "cp_callback = tf.keras.callbacks.ModelCheckpoint(\n",
    "                    filepath='/home/g007markphillip/language_classification2/weights_bi2/cp-{epoch:04d}.ckpt',\n",
    "                    save_weights_only=True,\n",
    "                    save_freq='epoch')\n",
    "\n",
    "w_array = np.ones([2,2])\n",
    "w_array[1,0]=30\n",
    "\n",
    "model = lstm_model(embed_dim=32,\n",
    "                   max_length=8,\n",
    "                   count=len(unique_word_count),\n",
    "#                    vectorize_layer=vectorize_layer\n",
    "                  )\n",
    "optimizer = tf.keras.optimizers.Adam(1e-5)\n",
    "\n",
    "loss = WeightedCategoricalCrossentropy(w_array)\n",
    "\n",
    "model.compile(optimizer=optimizer,loss=loss,metrics=['accuracy'])\n",
    "# model.build((None,max_length))\n",
    "# model.summary()\n",
    "# model.fit(tf.convert_to_tensor(train_padded_sequences), train_data[['english','luganda']].values,\n",
    "#       validation_data=(val_padded_sequences ,val_data[['english','luganda']].values),\n",
    "#       epochs=100,\n",
    "#       batch_size=128,\n",
    "#       callbacks=[cp_callback]\n",
    "#          )\n",
    "\n",
    "model.fit(train_padded_sequences, train_data[['english','luganda']].values,\n",
    "      validation_data=(val_padded_sequences ,val_data[['english','luganda']].values),\n",
    "      epochs=100,\n",
    "      batch_size=128,\n",
    "      callbacks=[cp_callback]\n",
    "         )"
   ]
  },
  {
   "cell_type": "code",
   "execution_count": 25,
   "id": "c1aa39a8",
   "metadata": {},
   "outputs": [],
   "source": [
    "# tf.train.latest_checkpoint('/home/g007markphillip/language_classification/weights/')\n",
    "# model.load_weights('/home/g007markphillip/language_classification2/weights_bi2/cp-0033.ckpt')\n"
   ]
  },
  {
   "cell_type": "code",
   "execution_count": 26,
   "id": "41a34197",
   "metadata": {},
   "outputs": [],
   "source": [
    "pred_values=model.predict(test_padded_sequences)\n",
    "# pred_values = model.predict(test_data.text.values)\n",
    "pred_values = np.argmax(pred_values,1).astype('int')\n",
    "true_values=test_data[['english','luganda']].values\n",
    "true_values=np.argmax(true_values,1).astype('int')"
   ]
  },
  {
   "cell_type": "code",
   "execution_count": 27,
   "id": "60ea0a47",
   "metadata": {},
   "outputs": [
    {
     "data": {
      "text/plain": [
       "array([0, 0, 0, ..., 1, 1, 1])"
      ]
     },
     "execution_count": 27,
     "metadata": {},
     "output_type": "execute_result"
    }
   ],
   "source": [
    "pred_values"
   ]
  },
  {
   "cell_type": "code",
   "execution_count": 28,
   "id": "29f40448",
   "metadata": {},
   "outputs": [
    {
     "name": "stdout",
     "output_type": "stream",
     "text": [
      "__pycache__  deployment_models\tlosses.py    notebooks\t     weights\r\n",
      "config.py    eng-lug\t\tmetatxt.txt  train_el.py     weights_bi\r\n",
      "data\t     eng-lug_2\t\tmodels.py    train_model.py  weights_bi2\r\n"
     ]
    }
   ],
   "source": [
    "!ls .."
   ]
  },
  {
   "cell_type": "code",
   "execution_count": 32,
   "id": "fc52fc8f",
   "metadata": {},
   "outputs": [
    {
     "name": "stderr",
     "output_type": "stream",
     "text": [
      "2022-10-03 14:01:58.741532: W tensorflow/python/util/util.cc:348] Sets are not currently considered sequences, but this may change in the future, so consider avoiding using them.\n",
      "WARNING:absl:Found untraced functions such as lstm_cell_layer_call_fn, lstm_cell_layer_call_and_return_conditional_losses, lstm_cell_layer_call_fn, lstm_cell_layer_call_and_return_conditional_losses, lstm_cell_layer_call_and_return_conditional_losses while saving (showing 5 of 5). These functions will not be directly callable after loading.\n",
      "WARNING:absl:Found untraced functions such as lstm_cell_layer_call_fn, lstm_cell_layer_call_and_return_conditional_losses, lstm_cell_layer_call_fn, lstm_cell_layer_call_and_return_conditional_losses, lstm_cell_layer_call_and_return_conditional_losses while saving (showing 5 of 5). These functions will not be directly callable after loading.\n"
     ]
    },
    {
     "name": "stdout",
     "output_type": "stream",
     "text": [
      "INFO:tensorflow:Assets written to: ../eng-lug_2/assets\n"
     ]
    },
    {
     "name": "stderr",
     "output_type": "stream",
     "text": [
      "INFO:tensorflow:Assets written to: ../eng-lug_2/assets\n"
     ]
    }
   ],
   "source": [
    "model.save('../eng-lug_2')"
   ]
  },
  {
   "cell_type": "code",
   "execution_count": 30,
   "id": "fb9e4bb2",
   "metadata": {},
   "outputs": [],
   "source": [
    "from sklearn.metrics import confusion_matrix\n",
    "import seaborn as sns\n",
    "cm=confusion_matrix(true_values,pred_values)\n",
    "\n",
    "cm_df=pd.DataFrame(cm,index=['english','luganda'],\\\n",
    "                   columns=['english','luganda'])"
   ]
  },
  {
   "cell_type": "code",
   "execution_count": 31,
   "id": "f57905ed",
   "metadata": {},
   "outputs": [
    {
     "data": {
      "text/plain": [
       "Text(0.5, 23.52222222222222, 'Y_PRED')"
      ]
     },
     "execution_count": 31,
     "metadata": {},
     "output_type": "execute_result"
    },
    {
     "data": {
      "image/png": "[encoded data removed]",
      "text/plain": [
       "<Figure size 640x480 with 2 Axes>"
      ]
     },
     "metadata": {},
     "output_type": "display_data"
    }
   ],
   "source": [
    "import matplotlib.pyplot as plt\n",
    "sns.heatmap(cm_df,annot=True)\n",
    "plt.ylabel('Y_TRUE')\n",
    "plt.xlabel('Y_PRED')"
   ]
  },
  {
   "cell_type": "code",
   "execution_count": 34,
   "id": "21619cfd",
   "metadata": {},
   "outputs": [],
   "source": [
    "# converter = tf.lite.TFLiteConverter.from_keras_model(model)\n",
    "# tflite_model = converter.convert()\n",
    "\n",
    "# # Save the model.\n",
    "# with open('../model.tflite', 'wb') as f:\n",
    "#     f.write(tflite_model)"
   ]
  },
  {
   "cell_type": "code",
   "execution_count": 35,
   "id": "044239d5",
   "metadata": {},
   "outputs": [
    {
     "name": "stdout",
     "output_type": "stream",
     "text": [
      "{\n",
      "  \"name\": \"NLClassifier\",\n",
      "  \"description\": \"Classify the input text into a set of known categories.\",\n",
      "  \"subgraph_metadata\": [\n",
      "    {\n",
      "      \"input_tensor_metadata\": [\n",
      "        {\n",
      "          \"name\": \"input_text\",\n",
      "          \"description\": \"Embedding vectors representing the input text to be classified.\",\n",
      "          \"content\": {\n",
      "            \"content_properties_type\": \"FeatureProperties\",\n",
      "            \"content_properties\": {\n",
      "            }\n",
      "          },\n",
      "          \"process_units\": [\n",
      "            {\n",
      "              \"options_type\": \"RegexTokenizerOptions\",\n",
      "              \"options\": {\n",
      "                \"delim_regex_pattern\": \"[^\\\\w\\\\']+\",\n",
      "                \"vocab_file\": [\n",
      "                  {\n",
      "                    \"name\": \"../vocab.txt\",\n",
      "                    \"description\": \"Vocabulary file to convert natural language words to embedding vectors.\",\n",
      "                    \"type\": \"VOCABULARY\"\n",
      "                  }\n",
      "                ]\n",
      "              }\n",
      "            }\n",
      "          ],\n",
      "          \"stats\": {\n",
      "          }\n",
      "        }\n",
      "      ],\n",
      "      \"output_tensor_metadata\": [\n",
      "        {\n",
      "          \"name\": \"probability\",\n",
      "          \"description\": \"Probabilities of the labels respectively.\",\n",
      "          \"content\": {\n",
      "            \"content_properties_type\": \"FeatureProperties\",\n",
      "            \"content_properties\": {\n",
      "            }\n",
      "          },\n",
      "          \"stats\": {\n",
      "            \"max\": [\n",
      "              1.0\n",
      "            ],\n",
      "            \"min\": [\n",
      "              0.0\n",
      "            ]\n",
      "          },\n",
      "          \"associated_files\": [\n",
      "            {\n",
      "              \"name\": \"labels.txt\",\n",
      "              \"description\": \"Labels for categories that the model can recognize.\",\n",
      "              \"type\": \"TENSOR_AXIS_LABELS\"\n",
      "            }\n",
      "          ]\n",
      "        }\n",
      "      ]\n",
      "    }\n",
      "  ]\n",
      "}\n",
      "\n"
     ]
    }
   ],
   "source": [
    "NLClassifierWriter = nl_classifier.MetadataWriter\n",
    "_MODEL_PATH = \"../model.tflite\"\n",
    "# Task Library expects label files and vocab files that are in the same formats\n",
    "# as the ones below.\n",
    "_LABEL_FILE = \"../labels.txt\"\n",
    "_VOCAB_FILE = \"../vocab.txt\"\n",
    "# NLClassifier supports tokenize input string using the regex tokenizer. See\n",
    "# more details about how to set up RegexTokenizer below:\n",
    "# https://github.com/tensorflow/tflite-support/blob/master/tensorflow_lite_support/metadata/python/metadata_writers/metadata_info.py#L130\n",
    "_DELIM_REGEX_PATTERN = r\"[^\\w\\']+\"\n",
    "_SAVE_TO_PATH = \"../moview_review_metadata.tflite\"\n",
    "\n",
    "# Create the metadata writer.\n",
    "writer = nl_classifier.MetadataWriter.create_for_inference(\n",
    "    writer_utils.load_file(_MODEL_PATH),\n",
    "    metadata_info.RegexTokenizerMd(_DELIM_REGEX_PATTERN, _VOCAB_FILE),\n",
    "    [_LABEL_FILE])\n",
    "\n",
    "# Verify the metadata generated by metadata writer.\n",
    "print(writer.get_metadata_json())\n",
    "\n",
    "# Populate the metadata into the model.\n",
    "writer_utils.save_file(writer.populate(), _SAVE_TO_PATH)"
   ]
  },
  {
   "cell_type": "code",
   "execution_count": 37,
   "id": "47aa0956",
   "metadata": {},
   "outputs": [
    {
     "data": {
      "text/plain": [
       "Text(0.5, 23.52222222222222, 'Y_PRED')"
      ]
     },
     "execution_count": 37,
     "metadata": {},
     "output_type": "execute_result"
    },
    {
     "data": {
      "image/png": "[encoded data removed]",
      "text/plain": [
       "<Figure size 640x480 with 2 Axes>"
      ]
     },
     "metadata": {},
     "output_type": "display_data"
    }
   ],
   "source": [
    "import matplotlib.pyplot as plt\n",
    "sns.heatmap(cm_df,annot=True)\n",
    "plt.ylabel('Y_TRUE')\n",
    "plt.xlabel('Y_PRED')"
   ]
  },
  {
   "cell_type": "code",
   "execution_count": 40,
   "id": "83a1a76c",
   "metadata": {},
   "outputs": [
    {
     "name": "stdout",
     "output_type": "stream",
     "text": [
      "              precision    recall  f1-score   support\n",
      "\n",
      "           0       1.00      1.00      1.00      5052\n",
      "           1       1.00      1.00      1.00      5664\n",
      "\n",
      "    accuracy                           1.00     10716\n",
      "   macro avg       1.00      1.00      1.00     10716\n",
      "weighted avg       1.00      1.00      1.00     10716\n",
      "\n"
     ]
    }
   ],
   "source": [
    "from sklearn.metrics import classification_report\n",
    "print(classification_report(true_values,pred_values))"
   ]
  },
  {
   "cell_type": "code",
   "execution_count": null,
   "id": "50c25347",
   "metadata": {},
   "outputs": [],
   "source": [
    "import io\n",
    "out_v = io.open('vectors_test_multi.tsv', 'w', encoding='utf-8')\n",
    "out_m = io.open('metadata_test_multi.tsv', 'w', encoding='utf-8')\n",
    "\n",
    "for index, word in enumerate(vocab):\n",
    "    vec = embeddings[index]\n",
    "    out_v.write('\\t'.join([str(x) for x in vec]) + \"\\n\")\n",
    "    out_m.write(word + \"\\n\")\n",
    "out_v.close()\n",
    "out_m.close()"
   ]
  },
  {
   "cell_type": "code",
   "execution_count": null,
   "id": "7ff2b099",
   "metadata": {},
   "outputs": [],
   "source": [
    "text=np.array(['lakini ambacho zaidi ujumbe wachezaji wawili'])\n",
    "text = tokenizer.texts_to_sequences(text)\n",
    "text = pad_sequences(text,maxlen=max_length,padding='post',truncating='post')\n",
    "prediction = model.predict(text)\n",
    "\n",
    "prediction = np.argmax(prediction,1).astype('int').tolist()\n",
    "inverse_classes[prediction[0]]"
   ]
  },
  {
   "cell_type": "code",
   "execution_count": null,
   "id": "9e25aa5e",
   "metadata": {},
   "outputs": [],
   "source": []
  },
  {
   "cell_type": "code",
   "execution_count": null,
   "id": "ce339e03",
   "metadata": {
    "scrolled": true
   },
   "outputs": [],
   "source": [
    "import gradio as gr\n",
    "# dict_={value:key for key,value in classes.items()}\n",
    "\n",
    "\n",
    "def function_(input_):\n",
    "#     text=to_lower(remove_punctuation(input_))\n",
    "    text=np.array([input_])\n",
    "    text = tokenizer.texts_to_sequences(text)\n",
    "    text = pad_sequences(text,maxlen=max_length,padding='post',truncating='post')\n",
    "    prediction = model.predict(text)\n",
    "   \n",
    "    prediction = np.argmax(prediction,1).astype('int').tolist()\n",
    "    return inverse_classes[prediction[0]]\n",
    "\n",
    "\n",
    "ui = gr.Interface(\n",
    "    function_,\n",
    "    title=\"Language Classification\",\n",
    "    description='Enter Text',\n",
    "    inputs=gr.inputs.Textbox(lines=5),\n",
    "    outputs=gr.outputs.Textbox(label='Language')\n",
    ")\n",
    "ui.launch(share=True)"
   ]
  },
  {
   "cell_type": "code",
   "execution_count": null,
   "id": "e67362fa",
   "metadata": {},
   "outputs": [],
   "source": []
  },
  {
   "cell_type": "code",
   "execution_count": null,
   "id": "7722a7c9",
   "metadata": {},
   "outputs": [],
   "source": [
    "test_data[test_data.luganda==1]"
   ]
  },
  {
   "cell_type": "code",
   "execution_count": null,
   "id": "713d8599",
   "metadata": {},
   "outputs": [],
   "source": []
  },
  {
   "cell_type": "code",
   "execution_count": null,
   "id": "2472226b",
   "metadata": {},
   "outputs": [],
   "source": [
    "test_data=test_data[['text','english','acholi','luganda','lumasaba','runyankore','swahili']]"
   ]
  },
  {
   "cell_type": "code",
   "execution_count": null,
   "id": "7a1b6419",
   "metadata": {},
   "outputs": [],
   "source": [
    "false_pred_index=np.where((true_values!=pred_values)==True,)"
   ]
  },
  {
   "cell_type": "code",
   "execution_count": null,
   "id": "018355e0",
   "metadata": {},
   "outputs": [],
   "source": [
    "test_data.iloc[false_pred_index[0]]"
   ]
  },
  {
   "cell_type": "code",
   "execution_count": null,
   "id": "2b449075",
   "metadata": {},
   "outputs": [],
   "source": [
    "false_pred_classes=pred_values[true_values!=pred_values]"
   ]
  },
  {
   "cell_type": "code",
   "execution_count": null,
   "id": "f3ce47bd",
   "metadata": {},
   "outputs": [],
   "source": [
    "false_pred_classes"
   ]
  },
  {
   "cell_type": "code",
   "execution_count": null,
   "id": "61c48406",
   "metadata": {},
   "outputs": [],
   "source": [
    "test_data[true_values!=pred_values]"
   ]
  },
  {
   "cell_type": "code",
   "execution_count": null,
   "id": "62a5b7f0",
   "metadata": {},
   "outputs": [],
   "source": [
    "true_values"
   ]
  },
  {
   "cell_type": "code",
   "execution_count": null,
   "id": "42856fb1",
   "metadata": {},
   "outputs": [],
   "source": [
    "test_data"
   ]
  },
  {
   "cell_type": "code",
   "execution_count": null,
   "id": "fe39fcf1",
   "metadata": {},
   "outputs": [],
   "source": [
    "!ls ../data/processed"
   ]
  },
  {
   "cell_type": "code",
   "execution_count": null,
   "id": "297c212e",
   "metadata": {},
   "outputs": [],
   "source": [
    "test_meta=pd.read_csv('../data/processed/metadata_@40000.csv')"
   ]
  },
  {
   "cell_type": "code",
   "execution_count": null,
   "id": "9426d122",
   "metadata": {},
   "outputs": [],
   "source": [
    "classes_df=pd.get_dummies(test_meta['classes'])"
   ]
  },
  {
   "cell_type": "code",
   "execution_count": null,
   "id": "f7529313",
   "metadata": {},
   "outputs": [],
   "source": [
    "test_meta=pd.concat([test_meta['text'],classes_df],axis=1)"
   ]
  },
  {
   "cell_type": "code",
   "execution_count": null,
   "id": "6381138f",
   "metadata": {},
   "outputs": [],
   "source": [
    "test_meta=test_meta.drop(columns=['luo'])"
   ]
  },
  {
   "cell_type": "code",
   "execution_count": null,
   "id": "60aa51be",
   "metadata": {},
   "outputs": [],
   "source": [
    "test_meta[['acholi','english','lumasaba','runyankore']]=np.zeros([len(test_meta),4]).astype('int')"
   ]
  },
  {
   "cell_type": "code",
   "execution_count": null,
   "id": "cd3dd20b",
   "metadata": {},
   "outputs": [],
   "source": [
    "test_meta.iloc[:,1:].sum()"
   ]
  },
  {
   "cell_type": "code",
   "execution_count": null,
   "id": "524f39a7",
   "metadata": {},
   "outputs": [],
   "source": [
    "test_meta_sequences=tokenizer.texts_to_sequences(test_meta.text)\n",
    "test_meta_padded_sequences = pad_sequences(test_meta_sequences,maxlen=max_length,padding='post',truncating='post')"
   ]
  },
  {
   "cell_type": "code",
   "execution_count": null,
   "id": "4f963449",
   "metadata": {},
   "outputs": [],
   "source": [
    "import numpy as np\n",
    "pred_meta_values=model.predict(test_meta_padded_sequences)\n",
    "pred_meta_values = np.argmax(pred_meta_values,1).astype('int')\n",
    "true_meta_values=test_meta[['english','acholi','luganda','lumasaba','runyankore','swahili']].values\n",
    "true_meta_values=np.argmax(true_meta_values,1).astype('int')"
   ]
  },
  {
   "cell_type": "code",
   "execution_count": null,
   "id": "b3122cb3",
   "metadata": {},
   "outputs": [],
   "source": [
    "from sklearn.metrics import confusion_matrix\n",
    "import seaborn as sns\n",
    "cm=confusion_matrix(true_meta_values,pred_meta_values)\n",
    "\n",
    "cm_df=pd.DataFrame(cm,index=['english','acholi','luganda','lumasaba','runyankore','swahili'],\\\n",
    "                   columns=['english','acholi','luganda','lumasaba','runyankore','swahili'])"
   ]
  },
  {
   "cell_type": "code",
   "execution_count": null,
   "id": "95e65454",
   "metadata": {},
   "outputs": [],
   "source": [
    "import matplotlib.pyplot as plt\n",
    "sns.heatmap(cm_df,annot=True)\n",
    "plt.ylabel('Y_TRUE')\n",
    "plt.xlabel('Y_PRED')"
   ]
  },
  {
   "cell_type": "code",
   "execution_count": null,
   "id": "f0bfc1a3",
   "metadata": {},
   "outputs": [],
   "source": []
  },
  {
   "cell_type": "code",
   "execution_count": null,
   "id": "fb9496d3",
   "metadata": {},
   "outputs": [],
   "source": [
    "train_corpus = ' '.join(train_data.text.values.tolist())\n",
    "train_corpus_list=train_corpus.split()\n",
    "\n",
    "test_corpus = ' '.join(test_meta.text.values.tolist())\n",
    "test_corpus_list=test_corpus.split()"
   ]
  },
  {
   "cell_type": "code",
   "execution_count": null,
   "id": "d85533c6",
   "metadata": {},
   "outputs": [],
   "source": [
    "from collections import Counter"
   ]
  },
  {
   "cell_type": "code",
   "execution_count": null,
   "id": "50f8bf7a",
   "metadata": {},
   "outputs": [],
   "source": [
    "len(Counter(train_corpus_list))"
   ]
  },
  {
   "cell_type": "code",
   "execution_count": null,
   "id": "ca7ea950",
   "metadata": {},
   "outputs": [],
   "source": [
    "len(Counter(test_corpus_list))"
   ]
  },
  {
   "cell_type": "code",
   "execution_count": null,
   "id": "1780ed31",
   "metadata": {},
   "outputs": [],
   "source": [
    "len(set(train_corpus_list) &set(test_corpus_list))"
   ]
  },
  {
   "cell_type": "code",
   "execution_count": null,
   "id": "8b837d36",
   "metadata": {},
   "outputs": [],
   "source": [
    "len(set(test_corpus_list)-(set(train_corpus_list).intersection(test_corpus_list)))"
   ]
  },
  {
   "cell_type": "code",
   "execution_count": null,
   "id": "bf0493af",
   "metadata": {},
   "outputs": [],
   "source": [
    "len(train_data)"
   ]
  },
  {
   "cell_type": "code",
   "execution_count": null,
   "id": "43cd5669",
   "metadata": {},
   "outputs": [],
   "source": []
  },
  {
   "cell_type": "code",
   "execution_count": 2,
   "id": "d2c79075",
   "metadata": {},
   "outputs": [],
   "source": [
    "from typing import List"
   ]
  },
  {
   "cell_type": "code",
   "execution_count": 10,
   "id": "afa46b71",
   "metadata": {},
   "outputs": [],
   "source": [
    "def h(g:list[str]):\n",
    "    print(g)"
   ]
  },
  {
   "cell_type": "code",
   "execution_count": 11,
   "id": "c22f141f",
   "metadata": {},
   "outputs": [
    {
     "name": "stdout",
     "output_type": "stream",
     "text": [
      "[1, 2, 4.6]\n"
     ]
    }
   ],
   "source": [
    "h([1,2,4.6])"
   ]
  },
  {
   "cell_type": "code",
   "execution_count": 12,
   "id": "f5afd760",
   "metadata": {},
   "outputs": [
    {
     "data": {
      "text/plain": [
       "[1, 2, 3]"
      ]
     },
     "execution_count": 12,
     "metadata": {},
     "output_type": "execute_result"
    }
   ],
   "source": [
    "[1,2,3,4][:-1]"
   ]
  },
  {
   "cell_type": "code",
   "execution_count": null,
   "id": "ae763a79",
   "metadata": {},
   "outputs": [],
   "source": []
  }
 ],
 "metadata": {
  "kernelspec": {
   "display_name": "Python 3 (ipykernel)",
   "language": "python",
   "name": "python3"
  },
  "language_info": {
   "codemirror_mode": {
    "name": "ipython",
    "version": 3
   },
   "file_extension": ".py",
   "mimetype": "text/x-python",
   "name": "python",
   "nbconvert_exporter": "python",
   "pygments_lexer": "ipython3",
   "version": "3.9.13"
  },
  "vscode": {
   "interpreter": {
    "hash": "66fd51a57f43b7ba50756ff627caf27d7d3963e902b62de7a58895d73994d658"
   }
  }
 },
 "nbformat": 4,
 "nbformat_minor": 5
}
