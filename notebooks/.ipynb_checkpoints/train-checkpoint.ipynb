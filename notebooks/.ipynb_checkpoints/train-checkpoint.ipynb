{
 "cells": [
  {
   "cell_type": "code",
   "execution_count": 2,
   "id": "5c1fc41b",
   "metadata": {},
   "outputs": [
    {
     "name": "stdout",
     "output_type": "stream",
     "text": [
      "['/home/g007markphillip/language_classification/notebooks', '/home/g007markphillip/anaconda3/envs/tf/lib/python39.zip', '/home/g007markphillip/anaconda3/envs/tf/lib/python3.9', '/home/g007markphillip/anaconda3/envs/tf/lib/python3.9/lib-dynload', '', '/home/g007markphillip/anaconda3/envs/tf/lib/python3.9/site-packages', '/home/g007markphillip/language_classification/', '/home/g007markphillip/language_classification/src']\n"
     ]
    }
   ],
   "source": [
    "import pandas as pd\n",
    "import tensorflow as tf\n",
    "from tensorflow.keras.preprocessing.text import Tokenizer\n",
    "from tensorflow.keras.preprocessing.sequence import pad_sequences\n",
    "import sys\n",
    "import os\n",
    "sys.path.append('/home/g007markphillip/language_classification/src')\n",
    "from src.config import Config\n",
    "from src.models import transformer\n",
    "from src.losses import *\n",
    "import numpy as np"
   ]
  },
  {
   "cell_type": "code",
   "execution_count": 3,
   "id": "6f7ccb5a",
   "metadata": {},
   "outputs": [
    {
     "name": "stdout",
     "output_type": "stream",
     "text": [
      "57202\n",
      "10\n"
     ]
    }
   ],
   "source": [
    "config=Config()\n",
    "count=config.count\n",
    "max_length = config.max_length\n",
    "\n",
    "print(count)\n",
    "print(max_length)"
   ]
  },
  {
   "cell_type": "code",
   "execution_count": 4,
   "id": "22d03f7d",
   "metadata": {},
   "outputs": [],
   "source": [
    "new_data = pd.read_csv('../data/processed/processed_2.csv')"
   ]
  },
  {
   "cell_type": "code",
   "execution_count": 5,
   "id": "825b336d",
   "metadata": {},
   "outputs": [],
   "source": [
    "train_data=new_data[new_data.folds.isin([0,1,2])].reset_index(drop=True)\n",
    "# train_data=shuffle(train_data).reset_index().drop(columns='index')\n",
    "val_data = new_data[new_data.folds==3].reset_index().drop(columns='index')\n",
    "test_data = new_data[new_data.folds==4].reset_index().drop(columns='index')"
   ]
  },
  {
   "cell_type": "code",
   "execution_count": 6,
   "id": "e5246b3d",
   "metadata": {},
   "outputs": [
    {
     "data": {
      "text/html": [
       "<div>\n",
       "<style scoped>\n",
       "    .dataframe tbody tr th:only-of-type {\n",
       "        vertical-align: middle;\n",
       "    }\n",
       "\n",
       "    .dataframe tbody tr th {\n",
       "        vertical-align: top;\n",
       "    }\n",
       "\n",
       "    .dataframe thead th {\n",
       "        text-align: right;\n",
       "    }\n",
       "</style>\n",
       "<table border=\"1\" class=\"dataframe\">\n",
       "  <thead>\n",
       "    <tr style=\"text-align: right;\">\n",
       "      <th></th>\n",
       "      <th>text</th>\n",
       "      <th>folds</th>\n",
       "      <th>acholi</th>\n",
       "      <th>english</th>\n",
       "      <th>luganda</th>\n",
       "      <th>lumasaba</th>\n",
       "      <th>runyankore</th>\n",
       "      <th>swahili</th>\n",
       "    </tr>\n",
       "  </thead>\n",
       "  <tbody>\n",
       "    <tr>\n",
       "      <th>0</th>\n",
       "      <td>government constructed better health centers r...</td>\n",
       "      <td>0</td>\n",
       "      <td>0</td>\n",
       "      <td>1</td>\n",
       "      <td>0</td>\n",
       "      <td>0</td>\n",
       "      <td>0</td>\n",
       "      <td>0</td>\n",
       "    </tr>\n",
       "    <tr>\n",
       "      <th>1</th>\n",
       "      <td>company celebrated twenty years existence last...</td>\n",
       "      <td>0</td>\n",
       "      <td>0</td>\n",
       "      <td>1</td>\n",
       "      <td>0</td>\n",
       "      <td>0</td>\n",
       "      <td>0</td>\n",
       "      <td>0</td>\n",
       "    </tr>\n",
       "    <tr>\n",
       "      <th>2</th>\n",
       "      <td>many people have lost their lives sexually tra...</td>\n",
       "      <td>0</td>\n",
       "      <td>0</td>\n",
       "      <td>1</td>\n",
       "      <td>0</td>\n",
       "      <td>0</td>\n",
       "      <td>0</td>\n",
       "      <td>0</td>\n",
       "    </tr>\n",
       "    <tr>\n",
       "      <th>3</th>\n",
       "      <td>civil servants receive their pension fund upon...</td>\n",
       "      <td>0</td>\n",
       "      <td>0</td>\n",
       "      <td>1</td>\n",
       "      <td>0</td>\n",
       "      <td>0</td>\n",
       "      <td>0</td>\n",
       "      <td>0</td>\n",
       "    </tr>\n",
       "    <tr>\n",
       "      <th>4</th>\n",
       "      <td>teachers also among civil servants</td>\n",
       "      <td>0</td>\n",
       "      <td>0</td>\n",
       "      <td>1</td>\n",
       "      <td>0</td>\n",
       "      <td>0</td>\n",
       "      <td>0</td>\n",
       "      <td>0</td>\n",
       "    </tr>\n",
       "    <tr>\n",
       "      <th>...</th>\n",
       "      <td>...</td>\n",
       "      <td>...</td>\n",
       "      <td>...</td>\n",
       "      <td>...</td>\n",
       "      <td>...</td>\n",
       "      <td>...</td>\n",
       "      <td>...</td>\n",
       "      <td>...</td>\n",
       "    </tr>\n",
       "    <tr>\n",
       "      <th>36793</th>\n",
       "      <td>abeesiga ebiragiro kuri nibo bahunguzi okwikir...</td>\n",
       "      <td>2</td>\n",
       "      <td>0</td>\n",
       "      <td>0</td>\n",
       "      <td>0</td>\n",
       "      <td>0</td>\n",
       "      <td>1</td>\n",
       "      <td>0</td>\n",
       "    </tr>\n",
       "    <tr>\n",
       "      <th>36794</th>\n",
       "      <td>ahabw ekyo okuhikiirira kuruga kwikiriza ebyar...</td>\n",
       "      <td>2</td>\n",
       "      <td>0</td>\n",
       "      <td>0</td>\n",
       "      <td>0</td>\n",
       "      <td>0</td>\n",
       "      <td>1</td>\n",
       "      <td>0</td>\n",
       "    </tr>\n",
       "    <tr>\n",
       "      <th>36795</th>\n",
       "      <td>abarikwesiga biragiro bonka kureka nabo abarik...</td>\n",
       "      <td>2</td>\n",
       "      <td>0</td>\n",
       "      <td>0</td>\n",
       "      <td>0</td>\n",
       "      <td>0</td>\n",
       "      <td>1</td>\n",
       "      <td>0</td>\n",
       "    </tr>\n",
       "    <tr>\n",
       "      <th>36796</th>\n",
       "      <td>ahabw okuba niwe tatenkuriitwe twena kyahandii...</td>\n",
       "      <td>2</td>\n",
       "      <td>0</td>\n",
       "      <td>0</td>\n",
       "      <td>0</td>\n",
       "      <td>0</td>\n",
       "      <td>1</td>\n",
       "      <td>0</td>\n",
       "    </tr>\n",
       "    <tr>\n",
       "      <th>36797</th>\n",
       "      <td>nkakugira ishenkuru amahanga maingi maisho ogw...</td>\n",
       "      <td>2</td>\n",
       "      <td>0</td>\n",
       "      <td>0</td>\n",
       "      <td>0</td>\n",
       "      <td>0</td>\n",
       "      <td>1</td>\n",
       "      <td>0</td>\n",
       "    </tr>\n",
       "  </tbody>\n",
       "</table>\n",
       "<p>36798 rows × 8 columns</p>\n",
       "</div>"
      ],
      "text/plain": [
       "                                                    text  folds  acholi  \\\n",
       "0      government constructed better health centers r...      0       0   \n",
       "1      company celebrated twenty years existence last...      0       0   \n",
       "2      many people have lost their lives sexually tra...      0       0   \n",
       "3      civil servants receive their pension fund upon...      0       0   \n",
       "4                     teachers also among civil servants      0       0   \n",
       "...                                                  ...    ...     ...   \n",
       "36793  abeesiga ebiragiro kuri nibo bahunguzi okwikir...      2       0   \n",
       "36794  ahabw ekyo okuhikiirira kuruga kwikiriza ebyar...      2       0   \n",
       "36795  abarikwesiga biragiro bonka kureka nabo abarik...      2       0   \n",
       "36796  ahabw okuba niwe tatenkuriitwe twena kyahandii...      2       0   \n",
       "36797  nkakugira ishenkuru amahanga maingi maisho ogw...      2       0   \n",
       "\n",
       "       english  luganda  lumasaba  runyankore  swahili  \n",
       "0            1        0         0           0        0  \n",
       "1            1        0         0           0        0  \n",
       "2            1        0         0           0        0  \n",
       "3            1        0         0           0        0  \n",
       "4            1        0         0           0        0  \n",
       "...        ...      ...       ...         ...      ...  \n",
       "36793        0        0         0           1        0  \n",
       "36794        0        0         0           1        0  \n",
       "36795        0        0         0           1        0  \n",
       "36796        0        0         0           1        0  \n",
       "36797        0        0         0           1        0  \n",
       "\n",
       "[36798 rows x 8 columns]"
      ]
     },
     "execution_count": 6,
     "metadata": {},
     "output_type": "execute_result"
    }
   ],
   "source": [
    "train_data"
   ]
  },
  {
   "cell_type": "code",
   "execution_count": 7,
   "id": "0017c7ed",
   "metadata": {},
   "outputs": [
    {
     "data": {
      "text/plain": [
       "acholi        7046\n",
       "english       2218\n",
       "luganda       3758\n",
       "lumasaba      5893\n",
       "runyankore    8883\n",
       "swahili       9000\n",
       "dtype: int64"
      ]
     },
     "execution_count": 7,
     "metadata": {},
     "output_type": "execute_result"
    }
   ],
   "source": [
    "train_data.iloc[:,2:].sum()"
   ]
  },
  {
   "cell_type": "code",
   "execution_count": 8,
   "id": "aa611426",
   "metadata": {},
   "outputs": [],
   "source": [
    "tokenizer = Tokenizer(num_words=count)\n",
    "tokenizer.fit_on_texts(train_data.text)"
   ]
  },
  {
   "cell_type": "code",
   "execution_count": 9,
   "id": "ce35b1e2",
   "metadata": {},
   "outputs": [],
   "source": [
    "train_sequences=tokenizer.texts_to_sequences(train_data.text)\n",
    "train_padded_sequences = pad_sequences(train_sequences,maxlen=max_length,padding='post',truncating='post')\n",
    "\n",
    "val_sequences=tokenizer.texts_to_sequences(val_data.text)\n",
    "val_padded_sequences = pad_sequences(val_sequences,maxlen=max_length,padding='post',truncating='post')\n",
    "\n",
    "test_sequences=tokenizer.texts_to_sequences(test_data.text)\n",
    "test_padded_sequences = pad_sequences(test_sequences,maxlen=max_length,padding='post',truncating='post')"
   ]
  },
  {
   "cell_type": "code",
   "execution_count": 10,
   "id": "7153af26",
   "metadata": {},
   "outputs": [
    {
     "data": {
      "text/plain": [
       "acholi        7046\n",
       "english       2218\n",
       "luganda       3758\n",
       "lumasaba      5893\n",
       "runyankore    8883\n",
       "swahili       9000\n",
       "dtype: int64"
      ]
     },
     "execution_count": 10,
     "metadata": {},
     "output_type": "execute_result"
    }
   ],
   "source": [
    "train_data.iloc[:,2:].sum()"
   ]
  },
  {
   "cell_type": "code",
   "execution_count": 11,
   "id": "becbdeb2",
   "metadata": {
    "scrolled": true
   },
   "outputs": [
    {
     "name": "stdout",
     "output_type": "stream",
     "text": [
      "WARNING:tensorflow:AutoGraph could not transform <bound method TokenAndPositionEmbedding.call of <src.models.TokenAndPositionEmbedding object at 0x7f16245f85b0>> and will run it as-is.\n",
      "Please report this to the TensorFlow team. When filing the bug, set the verbosity to 10 (on Linux, `export AUTOGRAPH_VERBOSITY=10`) and attach the full output.\n",
      "Cause: module 'gast' has no attribute 'Index'\n",
      "To silence this warning, decorate the function with @tf.autograph.experimental.do_not_convert\n",
      "WARNING: AutoGraph could not transform <bound method TokenAndPositionEmbedding.call of <src.models.TokenAndPositionEmbedding object at 0x7f16245f85b0>> and will run it as-is.\n",
      "Please report this to the TensorFlow team. When filing the bug, set the verbosity to 10 (on Linux, `export AUTOGRAPH_VERBOSITY=10`) and attach the full output.\n",
      "Cause: module 'gast' has no attribute 'Index'\n",
      "To silence this warning, decorate the function with @tf.autograph.experimental.do_not_convert\n"
     ]
    },
    {
     "name": "stderr",
     "output_type": "stream",
     "text": [
      "2022-08-07 14:20:45.316711: I tensorflow/compiler/jit/xla_cpu_device.cc:41] Not creating XLA devices, tf_xla_enable_xla_devices not set\n",
      "2022-08-07 14:20:45.317913: I tensorflow/stream_executor/platform/default/dso_loader.cc:49] Successfully opened dynamic library libcuda.so.1\n",
      "2022-08-07 14:20:47.395995: I tensorflow/stream_executor/cuda/cuda_gpu_executor.cc:941] successful NUMA node read from SysFS had negative value (-1), but there must be at least one NUMA node, so returning NUMA node zero\n",
      "2022-08-07 14:20:47.396907: I tensorflow/core/common_runtime/gpu/gpu_device.cc:1720] Found device 0 with properties: \n",
      "pciBusID: 0000:00:04.0 name: Tesla K80 computeCapability: 3.7\n",
      "coreClock: 0.8235GHz coreCount: 13 deviceMemorySize: 11.17GiB deviceMemoryBandwidth: 223.96GiB/s\n",
      "2022-08-07 14:20:47.396943: I tensorflow/stream_executor/platform/default/dso_loader.cc:49] Successfully opened dynamic library libcudart.so.10.1\n",
      "2022-08-07 14:20:47.399208: I tensorflow/stream_executor/platform/default/dso_loader.cc:49] Successfully opened dynamic library libcublas.so.10\n",
      "2022-08-07 14:20:47.399273: I tensorflow/stream_executor/platform/default/dso_loader.cc:49] Successfully opened dynamic library libcublasLt.so.10\n",
      "2022-08-07 14:20:47.401098: I tensorflow/stream_executor/platform/default/dso_loader.cc:49] Successfully opened dynamic library libcufft.so.10\n",
      "2022-08-07 14:20:47.401421: I tensorflow/stream_executor/platform/default/dso_loader.cc:49] Successfully opened dynamic library libcurand.so.10\n",
      "2022-08-07 14:20:47.403507: I tensorflow/stream_executor/platform/default/dso_loader.cc:49] Successfully opened dynamic library libcusolver.so.10\n",
      "2022-08-07 14:20:47.404563: I tensorflow/stream_executor/platform/default/dso_loader.cc:49] Successfully opened dynamic library libcusparse.so.10\n",
      "2022-08-07 14:20:47.409746: I tensorflow/stream_executor/platform/default/dso_loader.cc:49] Successfully opened dynamic library libcudnn.so.7\n",
      "2022-08-07 14:20:47.409900: I tensorflow/stream_executor/cuda/cuda_gpu_executor.cc:941] successful NUMA node read from SysFS had negative value (-1), but there must be at least one NUMA node, so returning NUMA node zero\n",
      "2022-08-07 14:20:47.410788: I tensorflow/stream_executor/cuda/cuda_gpu_executor.cc:941] successful NUMA node read from SysFS had negative value (-1), but there must be at least one NUMA node, so returning NUMA node zero\n",
      "2022-08-07 14:20:47.411477: I tensorflow/core/common_runtime/gpu/gpu_device.cc:1862] Adding visible gpu devices: 0\n",
      "2022-08-07 14:20:47.412174: I tensorflow/core/platform/cpu_feature_guard.cc:142] This TensorFlow binary is optimized with oneAPI Deep Neural Network Library (oneDNN) to use the following CPU instructions in performance-critical operations:  SSE4.1 SSE4.2 AVX AVX2 FMA\n",
      "To enable them in other operations, rebuild TensorFlow with the appropriate compiler flags.\n",
      "2022-08-07 14:20:47.412558: I tensorflow/compiler/jit/xla_gpu_device.cc:99] Not creating XLA devices, tf_xla_enable_xla_devices not set\n",
      "2022-08-07 14:20:47.412677: I tensorflow/stream_executor/cuda/cuda_gpu_executor.cc:941] successful NUMA node read from SysFS had negative value (-1), but there must be at least one NUMA node, so returning NUMA node zero\n",
      "2022-08-07 14:20:47.413383: I tensorflow/core/common_runtime/gpu/gpu_device.cc:1720] Found device 0 with properties: \n",
      "pciBusID: 0000:00:04.0 name: Tesla K80 computeCapability: 3.7\n",
      "coreClock: 0.8235GHz coreCount: 13 deviceMemorySize: 11.17GiB deviceMemoryBandwidth: 223.96GiB/s\n",
      "2022-08-07 14:20:47.413416: I tensorflow/stream_executor/platform/default/dso_loader.cc:49] Successfully opened dynamic library libcudart.so.10.1\n",
      "2022-08-07 14:20:47.413439: I tensorflow/stream_executor/platform/default/dso_loader.cc:49] Successfully opened dynamic library libcublas.so.10\n",
      "2022-08-07 14:20:47.413459: I tensorflow/stream_executor/platform/default/dso_loader.cc:49] Successfully opened dynamic library libcublasLt.so.10\n",
      "2022-08-07 14:20:47.413479: I tensorflow/stream_executor/platform/default/dso_loader.cc:49] Successfully opened dynamic library libcufft.so.10\n",
      "2022-08-07 14:20:47.413498: I tensorflow/stream_executor/platform/default/dso_loader.cc:49] Successfully opened dynamic library libcurand.so.10\n",
      "2022-08-07 14:20:47.413527: I tensorflow/stream_executor/platform/default/dso_loader.cc:49] Successfully opened dynamic library libcusolver.so.10\n",
      "2022-08-07 14:20:47.413552: I tensorflow/stream_executor/platform/default/dso_loader.cc:49] Successfully opened dynamic library libcusparse.so.10\n",
      "2022-08-07 14:20:47.413571: I tensorflow/stream_executor/platform/default/dso_loader.cc:49] Successfully opened dynamic library libcudnn.so.7\n",
      "2022-08-07 14:20:47.413638: I tensorflow/stream_executor/cuda/cuda_gpu_executor.cc:941] successful NUMA node read from SysFS had negative value (-1), but there must be at least one NUMA node, so returning NUMA node zero\n",
      "2022-08-07 14:20:47.414376: I tensorflow/stream_executor/cuda/cuda_gpu_executor.cc:941] successful NUMA node read from SysFS had negative value (-1), but there must be at least one NUMA node, so returning NUMA node zero\n",
      "2022-08-07 14:20:47.415063: I tensorflow/core/common_runtime/gpu/gpu_device.cc:1862] Adding visible gpu devices: 0\n",
      "2022-08-07 14:20:47.415116: I tensorflow/stream_executor/platform/default/dso_loader.cc:49] Successfully opened dynamic library libcudart.so.10.1\n",
      "2022-08-07 14:20:47.952181: I tensorflow/core/common_runtime/gpu/gpu_device.cc:1261] Device interconnect StreamExecutor with strength 1 edge matrix:\n",
      "2022-08-07 14:20:47.952221: I tensorflow/core/common_runtime/gpu/gpu_device.cc:1267]      0 \n",
      "2022-08-07 14:20:47.952229: I tensorflow/core/common_runtime/gpu/gpu_device.cc:1280] 0:   N \n",
      "2022-08-07 14:20:47.952475: I tensorflow/stream_executor/cuda/cuda_gpu_executor.cc:941] successful NUMA node read from SysFS had negative value (-1), but there must be at least one NUMA node, so returning NUMA node zero\n",
      "2022-08-07 14:20:47.953308: I tensorflow/stream_executor/cuda/cuda_gpu_executor.cc:941] successful NUMA node read from SysFS had negative value (-1), but there must be at least one NUMA node, so returning NUMA node zero\n",
      "2022-08-07 14:20:47.954070: I tensorflow/stream_executor/cuda/cuda_gpu_executor.cc:941] successful NUMA node read from SysFS had negative value (-1), but there must be at least one NUMA node, so returning NUMA node zero\n",
      "2022-08-07 14:20:47.954793: I tensorflow/core/common_runtime/gpu/gpu_device.cc:1406] Created TensorFlow device (/job:localhost/replica:0/task:0/device:GPU:0 with 10624 MB memory) -> physical GPU (device: 0, name: Tesla K80, pci bus id: 0000:00:04.0, compute capability: 3.7)\n"
     ]
    },
    {
     "name": "stdout",
     "output_type": "stream",
     "text": [
      "Model: \"model\"\n",
      "_________________________________________________________________\n",
      "Layer (type)                 Output Shape              Param #   \n",
      "=================================================================\n",
      "input_1 (InputLayer)         [(None, 10)]              0         \n",
      "_________________________________________________________________\n",
      "token_and_position_embedding (None, 10, 16)            915392    \n",
      "_________________________________________________________________\n",
      "transformer_block (Transform (None, 10, 16)            10208     \n",
      "_________________________________________________________________\n",
      "global_average_pooling1d (Gl (None, 16)                0         \n",
      "_________________________________________________________________\n",
      "dense_3 (Dense)              (None, 6)                 102       \n",
      "=================================================================\n",
      "Total params: 925,702\n",
      "Trainable params: 925,702\n",
      "Non-trainable params: 0\n",
      "_________________________________________________________________\n",
      "Epoch 1/10\n",
      "WARNING:tensorflow:AutoGraph could not transform <bound method WeightedCategoricalCrossentropy.call of <src.losses.WeightedCategoricalCrossentropy object at 0x7f161fcb81c0>> and will run it as-is.\n",
      "Please report this to the TensorFlow team. When filing the bug, set the verbosity to 10 (on Linux, `export AUTOGRAPH_VERBOSITY=10`) and attach the full output.\n",
      "Cause: module 'gast' has no attribute 'Index'\n",
      "To silence this warning, decorate the function with @tf.autograph.experimental.do_not_convert\n",
      "WARNING: AutoGraph could not transform <bound method WeightedCategoricalCrossentropy.call of <src.losses.WeightedCategoricalCrossentropy object at 0x7f161fcb81c0>> and will run it as-is.\n",
      "Please report this to the TensorFlow team. When filing the bug, set the verbosity to 10 (on Linux, `export AUTOGRAPH_VERBOSITY=10`) and attach the full output.\n",
      "Cause: module 'gast' has no attribute 'Index'\n",
      "To silence this warning, decorate the function with @tf.autograph.experimental.do_not_convert\n"
     ]
    },
    {
     "name": "stderr",
     "output_type": "stream",
     "text": [
      "2022-08-07 14:20:48.495418: I tensorflow/compiler/mlir/mlir_graph_optimization_pass.cc:116] None of the MLIR optimization passes are enabled (registered 2)\n",
      "2022-08-07 14:20:48.495998: I tensorflow/core/platform/profile_utils/cpu_utils.cc:112] CPU Frequency: 2299995000 Hz\n"
     ]
    },
    {
     "name": "stdout",
     "output_type": "stream",
     "text": [
      "\r",
      " 1/72 [..............................] - ETA: 3:10 - loss: 1.9050 - accuracy: 0.1445"
     ]
    },
    {
     "name": "stderr",
     "output_type": "stream",
     "text": [
      "2022-08-07 14:20:51.032678: I tensorflow/stream_executor/platform/default/dso_loader.cc:49] Successfully opened dynamic library libcublas.so.10\n"
     ]
    },
    {
     "name": "stdout",
     "output_type": "stream",
     "text": [
      "72/72 [==============================] - 5s 36ms/step - loss: 1.4918 - accuracy: 0.5086 - val_loss: 0.3950 - val_accuracy: 0.9369\n",
      "Epoch 2/10\n",
      "72/72 [==============================] - 2s 23ms/step - loss: 0.2024 - accuracy: 0.9875 - val_loss: 0.1095 - val_accuracy: 0.9806\n",
      "Epoch 3/10\n",
      "72/72 [==============================] - 2s 23ms/step - loss: 0.0299 - accuracy: 1.0000 - val_loss: 0.0694 - val_accuracy: 0.9861\n",
      "Epoch 4/10\n",
      "72/72 [==============================] - 2s 23ms/step - loss: 0.0159 - accuracy: 1.0000 - val_loss: 0.0577 - val_accuracy: 0.9891\n",
      "Epoch 5/10\n",
      "72/72 [==============================] - 2s 23ms/step - loss: 0.0104 - accuracy: 1.0000 - val_loss: 0.0515 - val_accuracy: 0.9889\n",
      "Epoch 6/10\n",
      "72/72 [==============================] - 2s 23ms/step - loss: 0.0074 - accuracy: 1.0000 - val_loss: 0.0499 - val_accuracy: 0.9896\n",
      "Epoch 7/10\n",
      "72/72 [==============================] - 2s 23ms/step - loss: 0.0056 - accuracy: 1.0000 - val_loss: 0.0466 - val_accuracy: 0.9898\n",
      "Epoch 8/10\n",
      "72/72 [==============================] - 2s 23ms/step - loss: 0.0044 - accuracy: 1.0000 - val_loss: 0.0459 - val_accuracy: 0.9901\n",
      "Epoch 9/10\n",
      "72/72 [==============================] - 2s 23ms/step - loss: 0.0035 - accuracy: 1.0000 - val_loss: 0.0446 - val_accuracy: 0.9901\n",
      "Epoch 10/10\n",
      "72/72 [==============================] - 2s 23ms/step - loss: 0.0029 - accuracy: 1.0000 - val_loss: 0.0433 - val_accuracy: 0.9903\n"
     ]
    },
    {
     "data": {
      "text/plain": [
       "<tensorflow.python.keras.callbacks.History at 0x7f161fc4f8b0>"
      ]
     },
     "execution_count": 11,
     "metadata": {},
     "output_type": "execute_result"
    }
   ],
   "source": [
    "cp_callback = tf.keras.callbacks.ModelCheckpoint(\n",
    "                    filepath='/home/g007markphillip/language_classification/weights/cp-{epoch:04d}.ckpt',\n",
    "                    save_weights_only=True,\n",
    "                    save_freq='epoch')\n",
    "\n",
    "w_array = np.ones([6,6])\n",
    "# w_array[3,0]=10\n",
    "w_array[3,1]=10\n",
    "# w_array[3,2]=10\n",
    "# w_array[3,4]=10\n",
    "\n",
    "model = transformer()\n",
    "optimizer = tf.keras.optimizers.Adam(1e-3)\n",
    "loss = WeightedCategoricalCrossentropy(w_array)\n",
    "# np.array([2.76560245,0.87037352,1.63233259,1.04079693,0.69032665,0.68144444])\n",
    "# 'acholi', 'english', 'luganda', 'lumasaba', 'runyankore',\n",
    "#        'swahili'\n",
    "model.compile(optimizer=optimizer,loss=loss,metrics=['accuracy'])\n",
    "model.summary()\n",
    "# model.load_weights('/home/g007markphillip/language_classification/weights/cp-0004.ckpt')\n",
    "model.fit(train_padded_sequences, train_data[['english','acholi','luganda','lumasaba','runyankore','swahili']].values,\n",
    "      validation_data=(val_padded_sequences ,val_data[['english','acholi','luganda','lumasaba','runyankore','swahili']].values),\n",
    "      epochs=10,\n",
    "      batch_size=512,\n",
    "      callbacks=[cp_callback])"
   ]
  },
  {
   "cell_type": "code",
   "execution_count": 12,
   "id": "c1aa39a8",
   "metadata": {},
   "outputs": [],
   "source": [
    "# tf.train.latest_checkpoint('/home/g007markphillip/language_classification/weights/')\n",
    "# model.load_weights('/home/g007markphillip/language_classification/weights/cp-0003.ckpt')"
   ]
  },
  {
   "cell_type": "code",
   "execution_count": 13,
   "id": "b70d09a9",
   "metadata": {},
   "outputs": [],
   "source": [
    "# !ls /home/g007markphillip/language_classification/weights/weights2"
   ]
  },
  {
   "cell_type": "code",
   "execution_count": 19,
   "id": "41a34197",
   "metadata": {},
   "outputs": [],
   "source": [
    "import numpy as np\n",
    "pred_values=model.predict(test_padded_sequences)\n",
    "pred_values = np.argmax(pred_values,1).astype('int')\n",
    "true_values=test_data[['english','acholi','luganda','lumasaba','runyankore','swahili']].values\n",
    "true_values=np.argmax(true_values,1).astype('int')"
   ]
  },
  {
   "cell_type": "code",
   "execution_count": 20,
   "id": "60ea0a47",
   "metadata": {},
   "outputs": [
    {
     "data": {
      "text/plain": [
       "array([0, 0, 0, ..., 4, 4, 4])"
      ]
     },
     "execution_count": 20,
     "metadata": {},
     "output_type": "execute_result"
    }
   ],
   "source": [
    "pred_values"
   ]
  },
  {
   "cell_type": "code",
   "execution_count": 21,
   "id": "fb9e4bb2",
   "metadata": {},
   "outputs": [],
   "source": [
    "from sklearn.metrics import confusion_matrix\n",
    "import seaborn as sns\n",
    "cm=confusion_matrix(true_values,pred_values)\n",
    "\n",
    "cm_df=pd.DataFrame(cm,index=['english','acholi','luganda','lumaasaba','runyankore','swahili'],\\\n",
    "                   columns=['english','acholi','luganda','lumaasaba','runyankore','swahili'])"
   ]
  },
  {
   "cell_type": "code",
   "execution_count": 22,
   "id": "e683cd09",
   "metadata": {},
   "outputs": [
    {
     "data": {
      "text/plain": [
       "Text(0.5, 15.0, 'Y_PRED')"
      ]
     },
     "execution_count": 22,
     "metadata": {},
     "output_type": "execute_result"
    },
    {
     "data": {
      "image/png": "[encoded data removed]",
      "text/plain": [
       "<Figure size 432x288 with 2 Axes>"
      ]
     },
     "metadata": {
      "needs_background": "light"
     },
     "output_type": "display_data"
    }
   ],
   "source": [
    "import matplotlib.pyplot as plt\n",
    "sns.heatmap(cm_df,annot=True)\n",
    "plt.ylabel('Y_TRUE')\n",
    "plt.xlabel('Y_PRED')"
   ]
  },
  {
   "cell_type": "code",
   "execution_count": 23,
   "id": "ec30c410",
   "metadata": {},
   "outputs": [
    {
     "name": "stdout",
     "output_type": "stream",
     "text": [
      "              precision    recall  f1-score   support\n",
      "\n",
      "           0       0.99      0.99      0.99       739\n",
      "           1       1.00      1.00      1.00      2349\n",
      "           2       0.98      0.95      0.96      1252\n",
      "           3       0.97      0.97      0.97      1964\n",
      "           4       0.98      0.99      0.98      2962\n",
      "           5       1.00      1.00      1.00      3000\n",
      "\n",
      "    accuracy                           0.99     12266\n",
      "   macro avg       0.99      0.98      0.98     12266\n",
      "weighted avg       0.99      0.99      0.99     12266\n",
      "\n"
     ]
    }
   ],
   "source": [
    "from sklearn.metrics import classification_report\n",
    "print(classification_report(true_values,pred_values))"
   ]
  },
  {
   "cell_type": "code",
   "execution_count": 24,
   "id": "36d16498",
   "metadata": {},
   "outputs": [],
   "source": [
    "embeddings=model.layers[1](test_padded_sequences).numpy().sum(1)"
   ]
  },
  {
   "cell_type": "code",
   "execution_count": 25,
   "id": "00509399",
   "metadata": {},
   "outputs": [
    {
     "data": {
      "text/plain": [
       "(12266, 16)"
      ]
     },
     "execution_count": 25,
     "metadata": {},
     "output_type": "execute_result"
    }
   ],
   "source": [
    "embeddings.shape"
   ]
  },
  {
   "cell_type": "code",
   "execution_count": 26,
   "id": "61713c06",
   "metadata": {},
   "outputs": [],
   "source": [
    "inverse_classes={0:'english',1:'acholi',2:'luganda',3:'lumaasaba',4:'runyankore',5:'swahili'}\n",
    "vocab=pd.DataFrame(pred_values)[0].map(inverse_classes).tolist()"
   ]
  },
  {
   "cell_type": "code",
   "execution_count": 27,
   "id": "d12f7c92",
   "metadata": {},
   "outputs": [],
   "source": [
    "import io\n",
    "out_v = io.open('vectors_test_multi.tsv', 'w', encoding='utf-8')\n",
    "out_m = io.open('metadata_test_multi.tsv', 'w', encoding='utf-8')\n",
    "\n",
    "for index, word in enumerate(vocab):\n",
    "    vec = embeddings[index]\n",
    "    out_v.write('\\t'.join([str(x) for x in vec]) + \"\\n\")\n",
    "    out_m.write(word + \"\\n\")\n",
    "out_v.close()\n",
    "out_m.close()"
   ]
  },
  {
   "cell_type": "code",
   "execution_count": null,
   "id": "1e00eb98",
   "metadata": {},
   "outputs": [],
   "source": []
  },
  {
   "cell_type": "code",
   "execution_count": null,
   "id": "71f65110",
   "metadata": {},
   "outputs": [],
   "source": []
  },
  {
   "cell_type": "code",
   "execution_count": null,
   "id": "3cd6a0f9",
   "metadata": {},
   "outputs": [],
   "source": []
  },
  {
   "cell_type": "code",
   "execution_count": null,
   "id": "38c1c6cb",
   "metadata": {},
   "outputs": [],
   "source": []
  },
  {
   "cell_type": "code",
   "execution_count": null,
   "id": "27e07793",
   "metadata": {},
   "outputs": [],
   "source": []
  },
  {
   "cell_type": "code",
   "execution_count": 45,
   "id": "2472226b",
   "metadata": {},
   "outputs": [],
   "source": [
    "test_data=test_data[['text','english','acholi','luganda','lumasaba','runyankore','swahili']]"
   ]
  },
  {
   "cell_type": "code",
   "execution_count": 46,
   "id": "7a1b6419",
   "metadata": {},
   "outputs": [],
   "source": [
    "false_pred_index=np.where((true_values!=pred_values)==True,)"
   ]
  },
  {
   "cell_type": "code",
   "execution_count": 47,
   "id": "018355e0",
   "metadata": {},
   "outputs": [
    {
     "data": {
      "text/html": [
       "<div>\n",
       "<style scoped>\n",
       "    .dataframe tbody tr th:only-of-type {\n",
       "        vertical-align: middle;\n",
       "    }\n",
       "\n",
       "    .dataframe tbody tr th {\n",
       "        vertical-align: top;\n",
       "    }\n",
       "\n",
       "    .dataframe thead th {\n",
       "        text-align: right;\n",
       "    }\n",
       "</style>\n",
       "<table border=\"1\" class=\"dataframe\">\n",
       "  <thead>\n",
       "    <tr style=\"text-align: right;\">\n",
       "      <th></th>\n",
       "      <th>text</th>\n",
       "      <th>english</th>\n",
       "      <th>acholi</th>\n",
       "      <th>luganda</th>\n",
       "      <th>lumasaba</th>\n",
       "      <th>runyankore</th>\n",
       "      <th>swahili</th>\n",
       "    </tr>\n",
       "  </thead>\n",
       "  <tbody>\n",
       "    <tr>\n",
       "      <th>292</th>\n",
       "      <td>institutes signed memorandum understanding</td>\n",
       "      <td>1</td>\n",
       "      <td>0</td>\n",
       "      <td>0</td>\n",
       "      <td>0</td>\n",
       "      <td>0</td>\n",
       "      <td>0</td>\n",
       "    </tr>\n",
       "    <tr>\n",
       "      <th>490</th>\n",
       "      <td>uganda railway developed shipping services lak...</td>\n",
       "      <td>1</td>\n",
       "      <td>0</td>\n",
       "      <td>0</td>\n",
       "      <td>0</td>\n",
       "      <td>0</td>\n",
       "      <td>0</td>\n",
       "    </tr>\n",
       "    <tr>\n",
       "      <th>533</th>\n",
       "      <td>child born either koboko kampala</td>\n",
       "      <td>1</td>\n",
       "      <td>0</td>\n",
       "      <td>0</td>\n",
       "      <td>0</td>\n",
       "      <td>0</td>\n",
       "      <td>0</td>\n",
       "    </tr>\n",
       "    <tr>\n",
       "      <th>768</th>\n",
       "      <td>abaafudde sandi mwanje katwe juma sendagire lu...</td>\n",
       "      <td>0</td>\n",
       "      <td>0</td>\n",
       "      <td>1</td>\n",
       "      <td>0</td>\n",
       "      <td>0</td>\n",
       "      <td>0</td>\n",
       "    </tr>\n",
       "    <tr>\n",
       "      <th>805</th>\n",
       "      <td>omupiira nnayigirako okukola emmeeza nagusaba ...</td>\n",
       "      <td>0</td>\n",
       "      <td>0</td>\n",
       "      <td>1</td>\n",
       "      <td>0</td>\n",
       "      <td>0</td>\n",
       "      <td>0</td>\n",
       "    </tr>\n",
       "    <tr>\n",
       "      <th>...</th>\n",
       "      <td>...</td>\n",
       "      <td>...</td>\n",
       "      <td>...</td>\n",
       "      <td>...</td>\n",
       "      <td>...</td>\n",
       "      <td>...</td>\n",
       "      <td>...</td>\n",
       "    </tr>\n",
       "    <tr>\n",
       "      <th>12058</th>\n",
       "      <td>entambwe endaingwa ziryahindurwa ngufu</td>\n",
       "      <td>0</td>\n",
       "      <td>0</td>\n",
       "      <td>0</td>\n",
       "      <td>0</td>\n",
       "      <td>1</td>\n",
       "      <td>0</td>\n",
       "    </tr>\n",
       "    <tr>\n",
       "      <th>12221</th>\n",
       "      <td>baraara batajwaire burugaho busheesha</td>\n",
       "      <td>0</td>\n",
       "      <td>0</td>\n",
       "      <td>0</td>\n",
       "      <td>0</td>\n",
       "      <td>1</td>\n",
       "      <td>0</td>\n",
       "    </tr>\n",
       "    <tr>\n",
       "      <th>12222</th>\n",
       "      <td>beekinga mabaare babuzire obwegamo</td>\n",
       "      <td>0</td>\n",
       "      <td>0</td>\n",
       "      <td>0</td>\n",
       "      <td>0</td>\n",
       "      <td>1</td>\n",
       "      <td>0</td>\n",
       "    </tr>\n",
       "    <tr>\n",
       "      <th>12230</th>\n",
       "      <td>eriisho enshambani ritegyereza orwitawaabo</td>\n",
       "      <td>0</td>\n",
       "      <td>0</td>\n",
       "      <td>0</td>\n",
       "      <td>0</td>\n",
       "      <td>1</td>\n",
       "      <td>0</td>\n",
       "    </tr>\n",
       "    <tr>\n",
       "      <th>12241</th>\n",
       "      <td>baba beehweire amatsiko abaimutsya</td>\n",
       "      <td>0</td>\n",
       "      <td>0</td>\n",
       "      <td>0</td>\n",
       "      <td>0</td>\n",
       "      <td>1</td>\n",
       "      <td>0</td>\n",
       "    </tr>\n",
       "  </tbody>\n",
       "</table>\n",
       "<p>375 rows × 7 columns</p>\n",
       "</div>"
      ],
      "text/plain": [
       "                                                    text  english  acholi  \\\n",
       "292           institutes signed memorandum understanding        1       0   \n",
       "490    uganda railway developed shipping services lak...        1       0   \n",
       "533                     child born either koboko kampala        1       0   \n",
       "768    abaafudde sandi mwanje katwe juma sendagire lu...        0       0   \n",
       "805    omupiira nnayigirako okukola emmeeza nagusaba ...        0       0   \n",
       "...                                                  ...      ...     ...   \n",
       "12058             entambwe endaingwa ziryahindurwa ngufu        0       0   \n",
       "12221              baraara batajwaire burugaho busheesha        0       0   \n",
       "12222                 beekinga mabaare babuzire obwegamo        0       0   \n",
       "12230         eriisho enshambani ritegyereza orwitawaabo        0       0   \n",
       "12241                 baba beehweire amatsiko abaimutsya        0       0   \n",
       "\n",
       "       luganda  lumasaba  runyankore  swahili  \n",
       "292          0         0           0        0  \n",
       "490          0         0           0        0  \n",
       "533          0         0           0        0  \n",
       "768          1         0           0        0  \n",
       "805          1         0           0        0  \n",
       "...        ...       ...         ...      ...  \n",
       "12058        0         0           1        0  \n",
       "12221        0         0           1        0  \n",
       "12222        0         0           1        0  \n",
       "12230        0         0           1        0  \n",
       "12241        0         0           1        0  \n",
       "\n",
       "[375 rows x 7 columns]"
      ]
     },
     "execution_count": 47,
     "metadata": {},
     "output_type": "execute_result"
    }
   ],
   "source": [
    "test_data.iloc[false_pred_index[0]]"
   ]
  },
  {
   "cell_type": "code",
   "execution_count": 48,
   "id": "2b449075",
   "metadata": {},
   "outputs": [],
   "source": [
    "false_pred_classes=pred_values[true_values!=pred_values]"
   ]
  },
  {
   "cell_type": "code",
   "execution_count": 49,
   "id": "f3ce47bd",
   "metadata": {},
   "outputs": [
    {
     "data": {
      "text/plain": [
       "array([4, 1, 1, 1, 4, 1, 4, 4, 5, 1, 4, 4, 4, 1, 1, 1, 4, 3, 3, 4, 3, 3,\n",
       "       1, 4, 0, 4, 4, 4, 3, 1, 1, 0, 0, 0, 0, 3, 3, 4, 1, 1, 1, 1, 1, 1,\n",
       "       4, 4, 4, 4, 3, 1, 0, 1, 4, 1, 1, 4, 3, 1, 4, 4, 4, 1, 4, 3, 3, 4,\n",
       "       1, 0, 4, 3, 4, 1, 3, 0, 1, 1, 4, 1, 1, 1, 4, 4, 1, 4, 1, 2, 2, 1,\n",
       "       1, 4, 2, 1, 1, 4, 1, 4, 1, 1, 4, 1, 1, 1, 1, 1, 1, 1, 1, 1, 1, 1,\n",
       "       1, 2, 0, 1, 1, 1, 1, 1, 1, 1, 1, 1, 1, 0, 1, 1, 1, 4, 1, 1, 1, 0,\n",
       "       1, 4, 1, 1, 1, 0, 1, 1, 1, 1, 1, 1, 1, 1, 1, 1, 1, 4, 1, 1, 1, 4,\n",
       "       1, 1, 1, 1, 0, 1, 1, 1, 1, 1, 1, 1, 1, 2, 1, 2, 4, 1, 1, 1, 2, 1,\n",
       "       1, 1, 1, 1, 1, 1, 1, 1, 1, 1, 1, 1, 1, 0, 2, 1, 1, 1, 1, 1, 0, 1,\n",
       "       1, 1, 1, 4, 1, 1, 2, 1, 2, 1, 1, 1, 4, 1, 2, 1, 1, 1, 1, 1, 1, 4,\n",
       "       2, 1, 1, 1, 1, 1, 1, 4, 1, 1, 1, 4, 0, 1, 2, 1, 1, 4, 1, 1, 1, 1,\n",
       "       1, 1, 1, 1, 2, 1, 0, 0, 1, 1, 4, 4, 1, 1, 1, 1, 1, 1, 0, 1, 1, 1,\n",
       "       1, 4, 1, 4, 1, 1, 1, 1, 1, 1, 1, 1, 1, 1, 0, 1, 4, 1, 1, 1, 4, 1,\n",
       "       1, 0, 1, 4, 2, 4, 1, 1, 1, 1, 4, 4, 1, 4, 4, 1, 1, 1, 1, 2, 1, 1,\n",
       "       1, 1, 4, 1, 1, 1, 1, 1, 1, 1, 1, 1, 1, 1, 3, 0, 3, 1, 1, 1, 2, 1,\n",
       "       1, 3, 1, 1, 3, 3, 3, 2, 1, 1, 2, 1, 1, 1, 2, 1, 1, 1, 1, 0, 2, 1,\n",
       "       2, 1, 1, 1, 1, 1, 2, 1, 1, 3, 3, 3, 2, 2, 3, 3, 3, 1, 0, 1, 1, 3,\n",
       "       3])"
      ]
     },
     "execution_count": 49,
     "metadata": {},
     "output_type": "execute_result"
    }
   ],
   "source": [
    "false_pred_classes"
   ]
  },
  {
   "cell_type": "code",
   "execution_count": 22,
   "id": "61c48406",
   "metadata": {},
   "outputs": [
    {
     "data": {
      "text/html": [
       "<div>\n",
       "<style scoped>\n",
       "    .dataframe tbody tr th:only-of-type {\n",
       "        vertical-align: middle;\n",
       "    }\n",
       "\n",
       "    .dataframe tbody tr th {\n",
       "        vertical-align: top;\n",
       "    }\n",
       "\n",
       "    .dataframe thead th {\n",
       "        text-align: right;\n",
       "    }\n",
       "</style>\n",
       "<table border=\"1\" class=\"dataframe\">\n",
       "  <thead>\n",
       "    <tr style=\"text-align: right;\">\n",
       "      <th></th>\n",
       "      <th>text</th>\n",
       "      <th>english</th>\n",
       "      <th>acholi</th>\n",
       "      <th>luganda</th>\n",
       "      <th>lumasaba</th>\n",
       "      <th>runyankore</th>\n",
       "      <th>swahili</th>\n",
       "    </tr>\n",
       "  </thead>\n",
       "  <tbody>\n",
       "    <tr>\n",
       "      <th>172</th>\n",
       "      <td>build stronger foundation group</td>\n",
       "      <td>1</td>\n",
       "      <td>0</td>\n",
       "      <td>0</td>\n",
       "      <td>0</td>\n",
       "      <td>0</td>\n",
       "      <td>0</td>\n",
       "    </tr>\n",
       "    <tr>\n",
       "      <th>292</th>\n",
       "      <td>institutes signed memorandum understanding</td>\n",
       "      <td>1</td>\n",
       "      <td>0</td>\n",
       "      <td>0</td>\n",
       "      <td>0</td>\n",
       "      <td>0</td>\n",
       "      <td>0</td>\n",
       "    </tr>\n",
       "    <tr>\n",
       "      <th>313</th>\n",
       "      <td>boats stop port anymore</td>\n",
       "      <td>1</td>\n",
       "      <td>0</td>\n",
       "      <td>0</td>\n",
       "      <td>0</td>\n",
       "      <td>0</td>\n",
       "      <td>0</td>\n",
       "    </tr>\n",
       "    <tr>\n",
       "      <th>324</th>\n",
       "      <td>several natural resources available</td>\n",
       "      <td>1</td>\n",
       "      <td>0</td>\n",
       "      <td>0</td>\n",
       "      <td>0</td>\n",
       "      <td>0</td>\n",
       "      <td>0</td>\n",
       "    </tr>\n",
       "    <tr>\n",
       "      <th>448</th>\n",
       "      <td>experienced civil engineer tasked build railway</td>\n",
       "      <td>1</td>\n",
       "      <td>0</td>\n",
       "      <td>0</td>\n",
       "      <td>0</td>\n",
       "      <td>0</td>\n",
       "      <td>0</td>\n",
       "    </tr>\n",
       "    <tr>\n",
       "      <th>...</th>\n",
       "      <td>...</td>\n",
       "      <td>...</td>\n",
       "      <td>...</td>\n",
       "      <td>...</td>\n",
       "      <td>...</td>\n",
       "      <td>...</td>\n",
       "      <td>...</td>\n",
       "    </tr>\n",
       "    <tr>\n",
       "      <th>12116</th>\n",
       "      <td>oruzaaro rwazo rugumaho nizirureeba</td>\n",
       "      <td>0</td>\n",
       "      <td>0</td>\n",
       "      <td>0</td>\n",
       "      <td>0</td>\n",
       "      <td>1</td>\n",
       "      <td>0</td>\n",
       "    </tr>\n",
       "    <tr>\n",
       "      <th>12221</th>\n",
       "      <td>baraara batajwaire burugaho busheesha</td>\n",
       "      <td>0</td>\n",
       "      <td>0</td>\n",
       "      <td>0</td>\n",
       "      <td>0</td>\n",
       "      <td>1</td>\n",
       "      <td>0</td>\n",
       "    </tr>\n",
       "    <tr>\n",
       "      <th>12222</th>\n",
       "      <td>beekinga mabaare babuzire obwegamo</td>\n",
       "      <td>0</td>\n",
       "      <td>0</td>\n",
       "      <td>0</td>\n",
       "      <td>0</td>\n",
       "      <td>1</td>\n",
       "      <td>0</td>\n",
       "    </tr>\n",
       "    <tr>\n",
       "      <th>12230</th>\n",
       "      <td>eriisho enshambani ritegyereza orwitawaabo</td>\n",
       "      <td>0</td>\n",
       "      <td>0</td>\n",
       "      <td>0</td>\n",
       "      <td>0</td>\n",
       "      <td>1</td>\n",
       "      <td>0</td>\n",
       "    </tr>\n",
       "    <tr>\n",
       "      <th>12241</th>\n",
       "      <td>baba beehweire amatsiko abaimutsya</td>\n",
       "      <td>0</td>\n",
       "      <td>0</td>\n",
       "      <td>0</td>\n",
       "      <td>0</td>\n",
       "      <td>1</td>\n",
       "      <td>0</td>\n",
       "    </tr>\n",
       "  </tbody>\n",
       "</table>\n",
       "<p>278 rows × 7 columns</p>\n",
       "</div>"
      ],
      "text/plain": [
       "                                                  text  english  acholi  \\\n",
       "172                    build stronger foundation group        1       0   \n",
       "292         institutes signed memorandum understanding        1       0   \n",
       "313                            boats stop port anymore        1       0   \n",
       "324                several natural resources available        1       0   \n",
       "448    experienced civil engineer tasked build railway        1       0   \n",
       "...                                                ...      ...     ...   \n",
       "12116              oruzaaro rwazo rugumaho nizirureeba        0       0   \n",
       "12221            baraara batajwaire burugaho busheesha        0       0   \n",
       "12222               beekinga mabaare babuzire obwegamo        0       0   \n",
       "12230       eriisho enshambani ritegyereza orwitawaabo        0       0   \n",
       "12241               baba beehweire amatsiko abaimutsya        0       0   \n",
       "\n",
       "       luganda  lumasaba  runyankore  swahili  \n",
       "172          0         0           0        0  \n",
       "292          0         0           0        0  \n",
       "313          0         0           0        0  \n",
       "324          0         0           0        0  \n",
       "448          0         0           0        0  \n",
       "...        ...       ...         ...      ...  \n",
       "12116        0         0           1        0  \n",
       "12221        0         0           1        0  \n",
       "12222        0         0           1        0  \n",
       "12230        0         0           1        0  \n",
       "12241        0         0           1        0  \n",
       "\n",
       "[278 rows x 7 columns]"
      ]
     },
     "execution_count": 22,
     "metadata": {},
     "output_type": "execute_result"
    }
   ],
   "source": [
    "test_data[true_values!=pred_values]"
   ]
  },
  {
   "cell_type": "code",
   "execution_count": 40,
   "id": "62a5b7f0",
   "metadata": {},
   "outputs": [
    {
     "data": {
      "text/plain": [
       "array([0, 0, 0, ..., 4, 4, 4])"
      ]
     },
     "execution_count": 40,
     "metadata": {},
     "output_type": "execute_result"
    }
   ],
   "source": [
    "true_values"
   ]
  },
  {
   "cell_type": "code",
   "execution_count": 41,
   "id": "42856fb1",
   "metadata": {},
   "outputs": [
    {
     "data": {
      "text/html": [
       "<div>\n",
       "<style scoped>\n",
       "    .dataframe tbody tr th:only-of-type {\n",
       "        vertical-align: middle;\n",
       "    }\n",
       "\n",
       "    .dataframe tbody tr th {\n",
       "        vertical-align: top;\n",
       "    }\n",
       "\n",
       "    .dataframe thead th {\n",
       "        text-align: right;\n",
       "    }\n",
       "</style>\n",
       "<table border=\"1\" class=\"dataframe\">\n",
       "  <thead>\n",
       "    <tr style=\"text-align: right;\">\n",
       "      <th></th>\n",
       "      <th>text</th>\n",
       "      <th>folds</th>\n",
       "      <th>acholi</th>\n",
       "      <th>english</th>\n",
       "      <th>luganda</th>\n",
       "      <th>lumasaba</th>\n",
       "      <th>runyankore</th>\n",
       "      <th>swahili</th>\n",
       "    </tr>\n",
       "  </thead>\n",
       "  <tbody>\n",
       "    <tr>\n",
       "      <th>0</th>\n",
       "      <td>many people uganda ignorant about insurance po...</td>\n",
       "      <td>4</td>\n",
       "      <td>0</td>\n",
       "      <td>1</td>\n",
       "      <td>0</td>\n",
       "      <td>0</td>\n",
       "      <td>0</td>\n",
       "      <td>0</td>\n",
       "    </tr>\n",
       "    <tr>\n",
       "      <th>1</th>\n",
       "      <td>country maintained peace with neighbors long time</td>\n",
       "      <td>4</td>\n",
       "      <td>0</td>\n",
       "      <td>1</td>\n",
       "      <td>0</td>\n",
       "      <td>0</td>\n",
       "      <td>0</td>\n",
       "      <td>0</td>\n",
       "    </tr>\n",
       "    <tr>\n",
       "      <th>2</th>\n",
       "      <td>executive meeting will held monday</td>\n",
       "      <td>4</td>\n",
       "      <td>0</td>\n",
       "      <td>1</td>\n",
       "      <td>0</td>\n",
       "      <td>0</td>\n",
       "      <td>0</td>\n",
       "      <td>0</td>\n",
       "    </tr>\n",
       "    <tr>\n",
       "      <th>3</th>\n",
       "      <td>national army safeguards country border from u...</td>\n",
       "      <td>4</td>\n",
       "      <td>0</td>\n",
       "      <td>1</td>\n",
       "      <td>0</td>\n",
       "      <td>0</td>\n",
       "      <td>0</td>\n",
       "      <td>0</td>\n",
       "    </tr>\n",
       "    <tr>\n",
       "      <th>4</th>\n",
       "      <td>army commander urged soldiers committed their ...</td>\n",
       "      <td>4</td>\n",
       "      <td>0</td>\n",
       "      <td>1</td>\n",
       "      <td>0</td>\n",
       "      <td>0</td>\n",
       "      <td>0</td>\n",
       "      <td>0</td>\n",
       "    </tr>\n",
       "    <tr>\n",
       "      <th>...</th>\n",
       "      <td>...</td>\n",
       "      <td>...</td>\n",
       "      <td>...</td>\n",
       "      <td>...</td>\n",
       "      <td>...</td>\n",
       "      <td>...</td>\n",
       "      <td>...</td>\n",
       "      <td>...</td>\n",
       "    </tr>\n",
       "    <tr>\n",
       "      <th>12261</th>\n",
       "      <td>okuzimu maisho ruhanga ejwaire busha</td>\n",
       "      <td>4</td>\n",
       "      <td>0</td>\n",
       "      <td>0</td>\n",
       "      <td>0</td>\n",
       "      <td>0</td>\n",
       "      <td>1</td>\n",
       "      <td>0</td>\n",
       "    </tr>\n",
       "    <tr>\n",
       "      <th>12262</th>\n",
       "      <td>kandi nyamuteza taine okweshweka</td>\n",
       "      <td>4</td>\n",
       "      <td>0</td>\n",
       "      <td>0</td>\n",
       "      <td>0</td>\n",
       "      <td>0</td>\n",
       "      <td>1</td>\n",
       "      <td>0</td>\n",
       "    </tr>\n",
       "    <tr>\n",
       "      <th>12263</th>\n",
       "      <td>akabamba obukiizibwabumosho mwanya kwonka</td>\n",
       "      <td>4</td>\n",
       "      <td>0</td>\n",
       "      <td>0</td>\n",
       "      <td>0</td>\n",
       "      <td>0</td>\n",
       "      <td>1</td>\n",
       "      <td>0</td>\n",
       "    </tr>\n",
       "    <tr>\n",
       "      <th>12264</th>\n",
       "      <td>ensi yaagihanika ahari busha</td>\n",
       "      <td>4</td>\n",
       "      <td>0</td>\n",
       "      <td>0</td>\n",
       "      <td>0</td>\n",
       "      <td>0</td>\n",
       "      <td>1</td>\n",
       "      <td>0</td>\n",
       "    </tr>\n",
       "    <tr>\n",
       "      <th>12265</th>\n",
       "      <td>yaakoma amaizi bicu bikwataine</td>\n",
       "      <td>4</td>\n",
       "      <td>0</td>\n",
       "      <td>0</td>\n",
       "      <td>0</td>\n",
       "      <td>0</td>\n",
       "      <td>1</td>\n",
       "      <td>0</td>\n",
       "    </tr>\n",
       "  </tbody>\n",
       "</table>\n",
       "<p>12266 rows × 8 columns</p>\n",
       "</div>"
      ],
      "text/plain": [
       "                                                    text  folds  acholi  \\\n",
       "0      many people uganda ignorant about insurance po...      4       0   \n",
       "1      country maintained peace with neighbors long time      4       0   \n",
       "2                     executive meeting will held monday      4       0   \n",
       "3      national army safeguards country border from u...      4       0   \n",
       "4      army commander urged soldiers committed their ...      4       0   \n",
       "...                                                  ...    ...     ...   \n",
       "12261               okuzimu maisho ruhanga ejwaire busha      4       0   \n",
       "12262                   kandi nyamuteza taine okweshweka      4       0   \n",
       "12263          akabamba obukiizibwabumosho mwanya kwonka      4       0   \n",
       "12264                       ensi yaagihanika ahari busha      4       0   \n",
       "12265                     yaakoma amaizi bicu bikwataine      4       0   \n",
       "\n",
       "       english  luganda  lumasaba  runyankore  swahili  \n",
       "0            1        0         0           0        0  \n",
       "1            1        0         0           0        0  \n",
       "2            1        0         0           0        0  \n",
       "3            1        0         0           0        0  \n",
       "4            1        0         0           0        0  \n",
       "...        ...      ...       ...         ...      ...  \n",
       "12261        0        0         0           1        0  \n",
       "12262        0        0         0           1        0  \n",
       "12263        0        0         0           1        0  \n",
       "12264        0        0         0           1        0  \n",
       "12265        0        0         0           1        0  \n",
       "\n",
       "[12266 rows x 8 columns]"
      ]
     },
     "execution_count": 41,
     "metadata": {},
     "output_type": "execute_result"
    }
   ],
   "source": [
    "test_data"
   ]
  },
  {
   "cell_type": "code",
   "execution_count": null,
   "id": "297c212e",
   "metadata": {},
   "outputs": [],
   "source": []
  }
 ],
 "metadata": {
  "kernelspec": {
   "display_name": "Python 3 (ipykernel)",
   "language": "python",
   "name": "python3"
  },
  "language_info": {
   "codemirror_mode": {
    "name": "ipython",
    "version": 3
   },
   "file_extension": ".py",
   "mimetype": "text/x-python",
   "name": "python",
   "nbconvert_exporter": "python",
   "pygments_lexer": "ipython3",
   "version": "3.9.12"
  }
 },
 "nbformat": 4,
 "nbformat_minor": 5
}
