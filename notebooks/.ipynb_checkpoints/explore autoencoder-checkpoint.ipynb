{
 "cells": [
  {
   "cell_type": "code",
   "execution_count": 46,
   "id": "e823479f",
   "metadata": {},
   "outputs": [],
   "source": [
    "import sys\n",
    "import os\n",
    "# sys.path.append('/home/g007markphillip/language_classification/')\n",
    "# sys.path.append('/home/g007markphillip/language_classification/src')\n",
    "import tensorflow as tf\n",
    "import pandas as pd\n",
    "import matplotlib.pyplot as plt\n",
    "import matplotlib.ticker as ticker"
   ]
  },
  {
   "cell_type": "code",
   "execution_count": 3,
   "id": "5a139bb6",
   "metadata": {},
   "outputs": [],
   "source": [
    "new_data = pd.read_csv('../data/processed/processed_3.csv')"
   ]
  },
  {
   "cell_type": "code",
   "execution_count": 4,
   "id": "f4775f6b",
   "metadata": {},
   "outputs": [
    {
     "data": {
      "text/html": [
       "<div>\n",
       "<style scoped>\n",
       "    .dataframe tbody tr th:only-of-type {\n",
       "        vertical-align: middle;\n",
       "    }\n",
       "\n",
       "    .dataframe tbody tr th {\n",
       "        vertical-align: top;\n",
       "    }\n",
       "\n",
       "    .dataframe thead th {\n",
       "        text-align: right;\n",
       "    }\n",
       "</style>\n",
       "<table border=\"1\" class=\"dataframe\">\n",
       "  <thead>\n",
       "    <tr style=\"text-align: right;\">\n",
       "      <th></th>\n",
       "      <th>text</th>\n",
       "      <th>folds</th>\n",
       "      <th>acholi</th>\n",
       "      <th>english</th>\n",
       "      <th>luganda</th>\n",
       "      <th>lumasaba</th>\n",
       "      <th>runyankore</th>\n",
       "      <th>swahili</th>\n",
       "    </tr>\n",
       "  </thead>\n",
       "  <tbody>\n",
       "    <tr>\n",
       "      <th>0</th>\n",
       "      <td>government constructed better health centers r...</td>\n",
       "      <td>0</td>\n",
       "      <td>0</td>\n",
       "      <td>1</td>\n",
       "      <td>0</td>\n",
       "      <td>0</td>\n",
       "      <td>0</td>\n",
       "      <td>0</td>\n",
       "    </tr>\n",
       "    <tr>\n",
       "      <th>1</th>\n",
       "      <td>company celebrated twenty years existence last...</td>\n",
       "      <td>0</td>\n",
       "      <td>0</td>\n",
       "      <td>1</td>\n",
       "      <td>0</td>\n",
       "      <td>0</td>\n",
       "      <td>0</td>\n",
       "      <td>0</td>\n",
       "    </tr>\n",
       "    <tr>\n",
       "      <th>2</th>\n",
       "      <td>many people have lost their lives sexually tra...</td>\n",
       "      <td>0</td>\n",
       "      <td>0</td>\n",
       "      <td>1</td>\n",
       "      <td>0</td>\n",
       "      <td>0</td>\n",
       "      <td>0</td>\n",
       "      <td>0</td>\n",
       "    </tr>\n",
       "    <tr>\n",
       "      <th>3</th>\n",
       "      <td>civil servants receive their pension fund upon...</td>\n",
       "      <td>0</td>\n",
       "      <td>0</td>\n",
       "      <td>1</td>\n",
       "      <td>0</td>\n",
       "      <td>0</td>\n",
       "      <td>0</td>\n",
       "      <td>0</td>\n",
       "    </tr>\n",
       "    <tr>\n",
       "      <th>4</th>\n",
       "      <td>teachers also among civil servants</td>\n",
       "      <td>0</td>\n",
       "      <td>0</td>\n",
       "      <td>1</td>\n",
       "      <td>0</td>\n",
       "      <td>0</td>\n",
       "      <td>0</td>\n",
       "      <td>0</td>\n",
       "    </tr>\n",
       "    <tr>\n",
       "      <th>...</th>\n",
       "      <td>...</td>\n",
       "      <td>...</td>\n",
       "      <td>...</td>\n",
       "      <td>...</td>\n",
       "      <td>...</td>\n",
       "      <td>...</td>\n",
       "      <td>...</td>\n",
       "      <td>...</td>\n",
       "    </tr>\n",
       "    <tr>\n",
       "      <th>174599</th>\n",
       "      <td>cukulwa onongo awano gudu</td>\n",
       "      <td>4</td>\n",
       "      <td>1</td>\n",
       "      <td>0</td>\n",
       "      <td>0</td>\n",
       "      <td>0</td>\n",
       "      <td>0</td>\n",
       "      <td>0</td>\n",
       "    </tr>\n",
       "    <tr>\n",
       "      <th>174600</th>\n",
       "      <td>motoka kare medo dwong gudu odiko otyeno</td>\n",
       "      <td>4</td>\n",
       "      <td>1</td>\n",
       "      <td>0</td>\n",
       "      <td>0</td>\n",
       "      <td>0</td>\n",
       "      <td>0</td>\n",
       "      <td>0</td>\n",
       "    </tr>\n",
       "    <tr>\n",
       "      <th>174601</th>\n",
       "      <td>okwonge tyeko culo banyane mwaka otum</td>\n",
       "      <td>4</td>\n",
       "      <td>1</td>\n",
       "      <td>0</td>\n",
       "      <td>0</td>\n",
       "      <td>0</td>\n",
       "      <td>0</td>\n",
       "      <td>0</td>\n",
       "    </tr>\n",
       "    <tr>\n",
       "      <th>174602</th>\n",
       "      <td>motoka onongo ngwec cipid ogoyo abili doro mot...</td>\n",
       "      <td>4</td>\n",
       "      <td>1</td>\n",
       "      <td>0</td>\n",
       "      <td>0</td>\n",
       "      <td>0</td>\n",
       "      <td>0</td>\n",
       "      <td>0</td>\n",
       "    </tr>\n",
       "    <tr>\n",
       "      <th>174603</th>\n",
       "      <td>gamente tiyo cente dwong adada gero roco gudu</td>\n",
       "      <td>4</td>\n",
       "      <td>1</td>\n",
       "      <td>0</td>\n",
       "      <td>0</td>\n",
       "      <td>0</td>\n",
       "      <td>0</td>\n",
       "      <td>0</td>\n",
       "    </tr>\n",
       "  </tbody>\n",
       "</table>\n",
       "<p>174604 rows × 8 columns</p>\n",
       "</div>"
      ],
      "text/plain": [
       "                                                     text  folds  acholi  \\\n",
       "0       government constructed better health centers r...      0       0   \n",
       "1       company celebrated twenty years existence last...      0       0   \n",
       "2       many people have lost their lives sexually tra...      0       0   \n",
       "3       civil servants receive their pension fund upon...      0       0   \n",
       "4                      teachers also among civil servants      0       0   \n",
       "...                                                   ...    ...     ...   \n",
       "174599                          cukulwa onongo awano gudu      4       1   \n",
       "174600           motoka kare medo dwong gudu odiko otyeno      4       1   \n",
       "174601              okwonge tyeko culo banyane mwaka otum      4       1   \n",
       "174602  motoka onongo ngwec cipid ogoyo abili doro mot...      4       1   \n",
       "174603      gamente tiyo cente dwong adada gero roco gudu      4       1   \n",
       "\n",
       "        english  luganda  lumasaba  runyankore  swahili  \n",
       "0             1        0         0           0        0  \n",
       "1             1        0         0           0        0  \n",
       "2             1        0         0           0        0  \n",
       "3             1        0         0           0        0  \n",
       "4             1        0         0           0        0  \n",
       "...         ...      ...       ...         ...      ...  \n",
       "174599        0        0         0           0        0  \n",
       "174600        0        0         0           0        0  \n",
       "174601        0        0         0           0        0  \n",
       "174602        0        0         0           0        0  \n",
       "174603        0        0         0           0        0  \n",
       "\n",
       "[174604 rows x 8 columns]"
      ]
     },
     "execution_count": 4,
     "metadata": {},
     "output_type": "execute_result"
    }
   ],
   "source": [
    "new_data"
   ]
  },
  {
   "cell_type": "code",
   "execution_count": 35,
   "id": "c3b70fb8",
   "metadata": {},
   "outputs": [],
   "source": [
    "train_data=new_data[new_data.folds.isin([0,1,2])].reset_index(drop=True)\n",
    "# train_data=shuffle(train_data).reset_index().drop(columns='index')\n",
    "val_data = new_data[new_data.folds==3].reset_index().drop(columns='index')\n",
    "test_data = new_data[new_data.folds==4].reset_index().drop(columns='index')"
   ]
  },
  {
   "cell_type": "code",
   "execution_count": 36,
   "id": "6e70ecd0",
   "metadata": {},
   "outputs": [],
   "source": [
    "train_data.text=train_data.text.apply(lambda x:' '.join(['[START]', x, '[END]']))"
   ]
  },
  {
   "cell_type": "code",
   "execution_count": 38,
   "id": "ccc19335",
   "metadata": {},
   "outputs": [],
   "source": [
    "input_text_processor = tf.keras.layers.experimental.preprocessing.TextVectorization(\n",
    "    max_tokens=102544)"
   ]
  },
  {
   "cell_type": "code",
   "execution_count": 44,
   "id": "62260cc3",
   "metadata": {},
   "outputs": [
    {
     "name": "stderr",
     "output_type": "stream",
     "text": [
      "2022-08-16 23:48:23.566190: W tensorflow/core/framework/cpu_allocator_impl.cc:80] Allocation of 20197728 exceeds 10% of free system memory.\n",
      "2022-08-16 23:48:23.566280: W tensorflow/core/framework/cpu_allocator_impl.cc:80] Allocation of 30296592 exceeds 10% of free system memory.\n"
     ]
    },
    {
     "data": {
      "text/plain": [
       "['',\n",
       " '[UNK]',\n",
       " 'start',\n",
       " 'end',\n",
       " 'katika',\n",
       " 'kuwa',\n",
       " 'alisema',\n",
       " 'hiyo',\n",
       " 'bwana',\n",
       " 'abantu']"
      ]
     },
     "execution_count": 44,
     "metadata": {},
     "output_type": "execute_result"
    }
   ],
   "source": [
    "input_text_processor.adapt(train_data.text.values)\n",
    "\n",
    "input_text_processor.get_vocabulary()[:10]"
   ]
  },
  {
   "cell_type": "code",
   "execution_count": 48,
   "id": "099cedb7",
   "metadata": {},
   "outputs": [
    {
     "data": {
      "text/plain": [
       "<tf.Tensor: shape=(3, 10), dtype=int64, numpy=\n",
       "array([[    2,   194,  3851,  1480,   341, 12641,  2862,  1871,     3,\n",
       "            0],\n",
       "       [    2,   851,  6421,  5443,  1180,  9564,   946,   523,     3,\n",
       "            0],\n",
       "       [    2,   191,    38,    54,  2046,    91,  1760, 12025, 12963,\n",
       "         1560]])>"
      ]
     },
     "execution_count": 48,
     "metadata": {},
     "output_type": "execute_result"
    }
   ],
   "source": [
    "example_tokens = input_text_processor(train_data.text[:50])\n",
    "example_tokens[:3, :10]"
   ]
  },
  {
   "cell_type": "code",
   "execution_count": 49,
   "id": "b07fe0f9",
   "metadata": {},
   "outputs": [
    {
     "data": {
      "text/plain": [
       "Text(0.5, 1.0, 'Mask')"
      ]
     },
     "execution_count": 49,
     "metadata": {},
     "output_type": "execute_result"
    },
    {
     "data": {
      "image/png": "[encoded data removed]",
      "text/plain": [
       "<Figure size 432x288 with 2 Axes>"
      ]
     },
     "metadata": {
      "needs_background": "light"
     },
     "output_type": "display_data"
    }
   ],
   "source": [
    "plt.subplot(1, 2, 1)\n",
    "plt.pcolormesh(example_tokens)\n",
    "plt.title('Token IDs')\n",
    "\n",
    "plt.subplot(1, 2, 2)\n",
    "plt.pcolormesh(example_tokens != 0)\n",
    "plt.title('Mask')"
   ]
  },
  {
   "cell_type": "code",
   "execution_count": null,
   "id": "c70efaab",
   "metadata": {},
   "outputs": [],
   "source": []
  }
 ],
 "metadata": {
  "kernelspec": {
   "display_name": "Python 3 (ipykernel)",
   "language": "python",
   "name": "python3"
  },
  "language_info": {
   "codemirror_mode": {
    "name": "ipython",
    "version": 3
   },
   "file_extension": ".py",
   "mimetype": "text/x-python",
   "name": "python",
   "nbconvert_exporter": "python",
   "pygments_lexer": "ipython3",
   "version": "3.9.12"
  }
 },
 "nbformat": 4,
 "nbformat_minor": 5
}
