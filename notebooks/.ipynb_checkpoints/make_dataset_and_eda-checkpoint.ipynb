{
 "cells": [
  {
   "cell_type": "code",
   "execution_count": 1,
   "metadata": {},
   "outputs": [],
   "source": [
    "import pandas as pd\n",
    "import os\n",
    "import matplotlib.pyplot as plt"
   ]
  },
  {
   "cell_type": "code",
   "execution_count": 2,
   "metadata": {
    "pycharm": {
     "name": "#%%\n"
    }
   },
   "outputs": [],
   "source": [
    "data = pd.read_csv('../data/raw/Master_file.csv')\n",
    "lug = pd.read_csv('../data/raw/luganda.csv')\n",
    "swa = pd.read_csv('../data/raw/swahili.csv')\n",
    "runy = pd.read_excel('../data/raw/runyankore.xls')\n",
    "runy2 = pd.read_excel('../data/raw/runyankore_c.xlsx')\n",
    "lumas = pd.read_excel('../data/raw/lumasaba.xlsx')\n",
    "acholi = pd.read_excel('../data/raw/acholi.xlsx')"
   ]
  },
  {
   "cell_type": "code",
   "execution_count": 3,
   "metadata": {
    "pycharm": {
     "name": "#%%\n"
    }
   },
   "outputs": [
    {
     "data": {
      "text/html": [
       "<div>\n",
       "<style scoped>\n",
       "    .dataframe tbody tr th:only-of-type {\n",
       "        vertical-align: middle;\n",
       "    }\n",
       "\n",
       "    .dataframe tbody tr th {\n",
       "        vertical-align: top;\n",
       "    }\n",
       "\n",
       "    .dataframe thead th {\n",
       "        text-align: right;\n",
       "    }\n",
       "</style>\n",
       "<table border=\"1\" class=\"dataframe\">\n",
       "  <thead>\n",
       "    <tr style=\"text-align: right;\">\n",
       "      <th></th>\n",
       "      <th>English Sentence</th>\n",
       "      <th>Acoli Translation</th>\n",
       "      <th>Luganda Translation</th>\n",
       "      <th>Lumasaaba Translation</th>\n",
       "      <th>Runyakore Translation</th>\n",
       "    </tr>\n",
       "  </thead>\n",
       "  <tbody>\n",
       "    <tr>\n",
       "      <th>0</th>\n",
       "      <td>The government has constructed better health c...</td>\n",
       "      <td>Gamente oyubo odi yadi mabeco ikin gang.</td>\n",
       "      <td>Gavumenti ezimbye amalwaliro agasingako obulun...</td>\n",
       "      <td>Linamboo Lyombekhele kamakangillo kamalayi mub...</td>\n",
       "      <td>Gavumenti eyombekire amarwariro amarungi omu b...</td>\n",
       "    </tr>\n",
       "    <tr>\n",
       "      <th>1</th>\n",
       "      <td>His death was so sudden.</td>\n",
       "      <td>Toone obedo atura.</td>\n",
       "      <td>Enfa ye yali ya kibwatukira.</td>\n",
       "      <td>Khuufwa khwe Khwobele Khwokhangu</td>\n",
       "      <td>Akafa ekitaraariraine.</td>\n",
       "    </tr>\n",
       "    <tr>\n",
       "      <th>2</th>\n",
       "      <td>Our company celebrated twenty years of existen...</td>\n",
       "      <td>Kampuniwa okwero mwaka pyere aryo me rii.</td>\n",
       "      <td>Omwaka oguwedde kampuni yaffe yajaguza emyaka ...</td>\n",
       "      <td>Sitongoole syeffe syekhoyele kimiko kabili kye...</td>\n",
       "      <td>Kampuni yaitu ekajaguza emyaka makumi abiri, e...</td>\n",
       "    </tr>\n",
       "    <tr>\n",
       "      <th>3</th>\n",
       "      <td>Many people have lost their lives due to sexua...</td>\n",
       "      <td>Dano mapol gurwenyo kwogi pi two makobo ki ibuto.</td>\n",
       "      <td>Abantu bangi abafudde olw'endwadde z'ekikaba.</td>\n",
       "      <td>Bbabandu bakaalii bafwiile khulwe bulwale bwe ...</td>\n",
       "      <td>Abantu baingi bafiire ahabw'endwara z'obushamb...</td>\n",
       "    </tr>\n",
       "    <tr>\n",
       "      <th>4</th>\n",
       "      <td>Civil servants receive their pension fund upon...</td>\n",
       "      <td>Lutic pa gamente gigamo centegi me pencon ka g...</td>\n",
       "      <td>Abakozi ba gavumenti bafuna akasiimo kaabwe ng...</td>\n",
       "      <td>Barambi be Linambo baba wumula kye linambo baf...</td>\n",
       "      <td>Abakozi ba gavumenti nibatunga akasiimo kaabo ...</td>\n",
       "    </tr>\n",
       "    <tr>\n",
       "      <th>...</th>\n",
       "      <td>...</td>\n",
       "      <td>...</td>\n",
       "      <td>...</td>\n",
       "      <td>...</td>\n",
       "      <td>...</td>\n",
       "    </tr>\n",
       "    <tr>\n",
       "      <th>4766</th>\n",
       "      <td>His brother was murdered last year.</td>\n",
       "      <td>Omine kineko i mwaka ma okato ni.</td>\n",
       "      <td>Muganda we yatemulwa omwaka oguwedde.</td>\n",
       "      <td>Wanaye bamwira kumwiko kubirire.</td>\n",
       "      <td>NaN</td>\n",
       "    </tr>\n",
       "    <tr>\n",
       "      <th>4767</th>\n",
       "      <td>Laws prohibiting same-sex were first put in pl...</td>\n",
       "      <td>Cik ma gengo butu i kin laco ki laco onyo dako...</td>\n",
       "      <td>Amateeka agakugira okwegatta wakati w'abantu a...</td>\n",
       "      <td>Kamakmabila ka khasisa bye khubira inyuma kany...</td>\n",
       "      <td>NaN</td>\n",
       "    </tr>\n",
       "    <tr>\n",
       "      <th>4768</th>\n",
       "      <td>We have not changed our laws since independence.</td>\n",
       "      <td>Nicakke ma wanong kwede loc ken, pud pe waloko...</td>\n",
       "      <td>Tetukyusanga mateeka gaffe okuva lwe twafuna o...</td>\n",
       "      <td>Sikhwa yusa kamakambila kefwe khukhwama imbuka...</td>\n",
       "      <td>NaN</td>\n",
       "    </tr>\n",
       "    <tr>\n",
       "      <th>4769</th>\n",
       "      <td>The law has several important provisions.</td>\n",
       "      <td>Cik eni tye ki jami mogo mapol ma pigi tego.</td>\n",
       "      <td>Etteeka lirimu obutundu bungi obw'omugaso.</td>\n",
       "      <td>Likambila lili ni tsisakya tsye kumukaso nabbi.</td>\n",
       "      <td>NaN</td>\n",
       "    </tr>\n",
       "    <tr>\n",
       "      <th>4770</th>\n",
       "      <td>Any person can be imprisoned for the rest of t...</td>\n",
       "      <td>Ngat mo keken kiromo tweyone pi kwone kulu.</td>\n",
       "      <td>Omuntu yenna asobola okusibwa amayisa.</td>\n",
       "      <td>Umundu essi anyal khukbweyiwa limenya lyewe ly...</td>\n",
       "      <td>NaN</td>\n",
       "    </tr>\n",
       "  </tbody>\n",
       "</table>\n",
       "<p>4771 rows × 5 columns</p>\n",
       "</div>"
      ],
      "text/plain": [
       "                                       English Sentence  \\\n",
       "0     The government has constructed better health c...   \n",
       "1                              His death was so sudden.   \n",
       "2     Our company celebrated twenty years of existen...   \n",
       "3     Many people have lost their lives due to sexua...   \n",
       "4     Civil servants receive their pension fund upon...   \n",
       "...                                                 ...   \n",
       "4766                His brother was murdered last year.   \n",
       "4767  Laws prohibiting same-sex were first put in pl...   \n",
       "4768   We have not changed our laws since independence.   \n",
       "4769          The law has several important provisions.   \n",
       "4770  Any person can be imprisoned for the rest of t...   \n",
       "\n",
       "                                      Acoli Translation  \\\n",
       "0              Gamente oyubo odi yadi mabeco ikin gang.   \n",
       "1                                    Toone obedo atura.   \n",
       "2             Kampuniwa okwero mwaka pyere aryo me rii.   \n",
       "3     Dano mapol gurwenyo kwogi pi two makobo ki ibuto.   \n",
       "4     Lutic pa gamente gigamo centegi me pencon ka g...   \n",
       "...                                                 ...   \n",
       "4766                  Omine kineko i mwaka ma okato ni.   \n",
       "4767  Cik ma gengo butu i kin laco ki laco onyo dako...   \n",
       "4768  Nicakke ma wanong kwede loc ken, pud pe waloko...   \n",
       "4769       Cik eni tye ki jami mogo mapol ma pigi tego.   \n",
       "4770        Ngat mo keken kiromo tweyone pi kwone kulu.   \n",
       "\n",
       "                                    Luganda Translation  \\\n",
       "0     Gavumenti ezimbye amalwaliro agasingako obulun...   \n",
       "1                          Enfa ye yali ya kibwatukira.   \n",
       "2     Omwaka oguwedde kampuni yaffe yajaguza emyaka ...   \n",
       "3         Abantu bangi abafudde olw'endwadde z'ekikaba.   \n",
       "4     Abakozi ba gavumenti bafuna akasiimo kaabwe ng...   \n",
       "...                                                 ...   \n",
       "4766              Muganda we yatemulwa omwaka oguwedde.   \n",
       "4767  Amateeka agakugira okwegatta wakati w'abantu a...   \n",
       "4768  Tetukyusanga mateeka gaffe okuva lwe twafuna o...   \n",
       "4769         Etteeka lirimu obutundu bungi obw'omugaso.   \n",
       "4770             Omuntu yenna asobola okusibwa amayisa.   \n",
       "\n",
       "                                  Lumasaaba Translation  \\\n",
       "0     Linamboo Lyombekhele kamakangillo kamalayi mub...   \n",
       "1                      Khuufwa khwe Khwobele Khwokhangu   \n",
       "2     Sitongoole syeffe syekhoyele kimiko kabili kye...   \n",
       "3     Bbabandu bakaalii bafwiile khulwe bulwale bwe ...   \n",
       "4     Barambi be Linambo baba wumula kye linambo baf...   \n",
       "...                                                 ...   \n",
       "4766                   Wanaye bamwira kumwiko kubirire.   \n",
       "4767  Kamakmabila ka khasisa bye khubira inyuma kany...   \n",
       "4768  Sikhwa yusa kamakambila kefwe khukhwama imbuka...   \n",
       "4769    Likambila lili ni tsisakya tsye kumukaso nabbi.   \n",
       "4770  Umundu essi anyal khukbweyiwa limenya lyewe ly...   \n",
       "\n",
       "                                  Runyakore Translation  \n",
       "0     Gavumenti eyombekire amarwariro amarungi omu b...  \n",
       "1                                Akafa ekitaraariraine.  \n",
       "2     Kampuni yaitu ekajaguza emyaka makumi abiri, e...  \n",
       "3     Abantu baingi bafiire ahabw'endwara z'obushamb...  \n",
       "4     Abakozi ba gavumenti nibatunga akasiimo kaabo ...  \n",
       "...                                                 ...  \n",
       "4766                                                NaN  \n",
       "4767                                                NaN  \n",
       "4768                                                NaN  \n",
       "4769                                                NaN  \n",
       "4770                                                NaN  \n",
       "\n",
       "[4771 rows x 5 columns]"
      ]
     },
     "execution_count": 3,
     "metadata": {},
     "output_type": "execute_result"
    }
   ],
   "source": [
    "data"
   ]
  },
  {
   "cell_type": "code",
   "execution_count": 4,
   "metadata": {
    "pycharm": {
     "name": "#%%\n"
    }
   },
   "outputs": [
    {
     "data": {
      "text/html": [
       "<div>\n",
       "<style scoped>\n",
       "    .dataframe tbody tr th:only-of-type {\n",
       "        vertical-align: middle;\n",
       "    }\n",
       "\n",
       "    .dataframe tbody tr th {\n",
       "        vertical-align: top;\n",
       "    }\n",
       "\n",
       "    .dataframe thead th {\n",
       "        text-align: right;\n",
       "    }\n",
       "</style>\n",
       "<table border=\"1\" class=\"dataframe\">\n",
       "  <thead>\n",
       "    <tr style=\"text-align: right;\">\n",
       "      <th></th>\n",
       "      <th>language</th>\n",
       "    </tr>\n",
       "  </thead>\n",
       "  <tbody>\n",
       "    <tr>\n",
       "      <th>0</th>\n",
       "      <td>Abadde atawaanyizibwa endwadde z'ekibumba.</td>\n",
       "    </tr>\n",
       "    <tr>\n",
       "      <th>1</th>\n",
       "      <td>Vision Group yaakukwatagana ne URSB okukituuki...</td>\n",
       "    </tr>\n",
       "    <tr>\n",
       "      <th>2</th>\n",
       "      <td>Kisse omuvubuka ow'emyaka 17 abadde akisulamu.</td>\n",
       "    </tr>\n",
       "    <tr>\n",
       "      <th>3</th>\n",
       "      <td>baweereddwa ebirabo.</td>\n",
       "    </tr>\n",
       "    <tr>\n",
       "      <th>4</th>\n",
       "      <td>ABataano abaasukkuluma baakutwalibwa e China o...</td>\n",
       "    </tr>\n",
       "    <tr>\n",
       "      <th>...</th>\n",
       "      <td>...</td>\n",
       "    </tr>\n",
       "    <tr>\n",
       "      <th>2689</th>\n",
       "      <td>OMUVUBUKA eyakwatiddwa ku gw'okumenya amayumba...</td>\n",
       "    </tr>\n",
       "    <tr>\n",
       "      <th>2690</th>\n",
       "      <td>Abanene okuli mmeeya w’e Lubaga, Joyce Ssebugg...</td>\n",
       "    </tr>\n",
       "    <tr>\n",
       "      <th>2691</th>\n",
       "      <td>Mmeeya wa Makindye Ssaabagabo Gerald Lumbuye N...</td>\n",
       "    </tr>\n",
       "    <tr>\n",
       "      <th>2692</th>\n",
       "      <td>Sentebe wa Buyinja-Kasangati e kyalo ewawangaa...</td>\n",
       "    </tr>\n",
       "    <tr>\n",
       "      <th>2693</th>\n",
       "      <td>Ono omulamuzi we daala erisooka e Kasangati Ns...</td>\n",
       "    </tr>\n",
       "  </tbody>\n",
       "</table>\n",
       "<p>2694 rows × 1 columns</p>\n",
       "</div>"
      ],
      "text/plain": [
       "                                               language\n",
       "0            Abadde atawaanyizibwa endwadde z'ekibumba.\n",
       "1     Vision Group yaakukwatagana ne URSB okukituuki...\n",
       "2        Kisse omuvubuka ow'emyaka 17 abadde akisulamu.\n",
       "3                                  baweereddwa ebirabo.\n",
       "4     ABataano abaasukkuluma baakutwalibwa e China o...\n",
       "...                                                 ...\n",
       "2689  OMUVUBUKA eyakwatiddwa ku gw'okumenya amayumba...\n",
       "2690  Abanene okuli mmeeya w’e Lubaga, Joyce Ssebugg...\n",
       "2691  Mmeeya wa Makindye Ssaabagabo Gerald Lumbuye N...\n",
       "2692  Sentebe wa Buyinja-Kasangati e kyalo ewawangaa...\n",
       "2693  Ono omulamuzi we daala erisooka e Kasangati Ns...\n",
       "\n",
       "[2694 rows x 1 columns]"
      ]
     },
     "execution_count": 4,
     "metadata": {},
     "output_type": "execute_result"
    }
   ],
   "source": [
    "lug"
   ]
  },
  {
   "cell_type": "code",
   "execution_count": 5,
   "metadata": {
    "pycharm": {
     "name": "#%%\n"
    }
   },
   "outputs": [
    {
     "data": {
      "text/html": [
       "<div>\n",
       "<style scoped>\n",
       "    .dataframe tbody tr th:only-of-type {\n",
       "        vertical-align: middle;\n",
       "    }\n",
       "\n",
       "    .dataframe tbody tr th {\n",
       "        vertical-align: top;\n",
       "    }\n",
       "\n",
       "    .dataframe thead th {\n",
       "        text-align: right;\n",
       "    }\n",
       "</style>\n",
       "<table border=\"1\" class=\"dataframe\">\n",
       "  <thead>\n",
       "    <tr style=\"text-align: right;\">\n",
       "      <th></th>\n",
       "      <th>language</th>\n",
       "    </tr>\n",
       "  </thead>\n",
       "  <tbody>\n",
       "    <tr>\n",
       "      <th>0</th>\n",
       "      <td>taarifa hiyo ilisema kuwa ongezeko la joto la...</td>\n",
       "    </tr>\n",
       "    <tr>\n",
       "      <th>1</th>\n",
       "      <td>aidha ilisema kuwa mwelekeo wa kupungua kwa j...</td>\n",
       "    </tr>\n",
       "    <tr>\n",
       "      <th>2</th>\n",
       "      <td>mwelekeo wa mvua wa septemba hadi desemba ish...</td>\n",
       "    </tr>\n",
       "    <tr>\n",
       "      <th>3</th>\n",
       "      <td>ilifafanua kuwa msimu wa vuli UNK maeneo amba...</td>\n",
       "    </tr>\n",
       "    <tr>\n",
       "      <th>4</th>\n",
       "      <td>katika maeneo hayo mvua zinatarajiwa kunyesha...</td>\n",
       "    </tr>\n",
       "    <tr>\n",
       "      <th>...</th>\n",
       "      <td>...</td>\n",
       "    </tr>\n",
       "    <tr>\n",
       "      <th>42063</th>\n",
       "      <td>sioni kama bwana mengi amefanya ujasiri wowot...</td>\n",
       "    </tr>\n",
       "    <tr>\n",
       "      <th>42064</th>\n",
       "      <td>jambo la busara ilikuwa kuchukua ushahidi ali...</td>\n",
       "    </tr>\n",
       "    <tr>\n",
       "      <th>42065</th>\n",
       "      <td>kama rais UNK ushahidi huo ndipo UNK na kuele...</td>\n",
       "    </tr>\n",
       "    <tr>\n",
       "      <th>42066</th>\n",
       "      <td>profesa lipumba alidai bwana mengi anacheza k...</td>\n",
       "    </tr>\n",
       "    <tr>\n",
       "      <th>42067</th>\n",
       "      <td>kwa kutaja majina hayo anataka kuufanya umma ...</td>\n",
       "    </tr>\n",
       "  </tbody>\n",
       "</table>\n",
       "<p>42068 rows × 1 columns</p>\n",
       "</div>"
      ],
      "text/plain": [
       "                                                language\n",
       "0       taarifa hiyo ilisema kuwa ongezeko la joto la...\n",
       "1       aidha ilisema kuwa mwelekeo wa kupungua kwa j...\n",
       "2       mwelekeo wa mvua wa septemba hadi desemba ish...\n",
       "3       ilifafanua kuwa msimu wa vuli UNK maeneo amba...\n",
       "4       katika maeneo hayo mvua zinatarajiwa kunyesha...\n",
       "...                                                  ...\n",
       "42063   sioni kama bwana mengi amefanya ujasiri wowot...\n",
       "42064   jambo la busara ilikuwa kuchukua ushahidi ali...\n",
       "42065   kama rais UNK ushahidi huo ndipo UNK na kuele...\n",
       "42066   profesa lipumba alidai bwana mengi anacheza k...\n",
       "42067   kwa kutaja majina hayo anataka kuufanya umma ...\n",
       "\n",
       "[42068 rows x 1 columns]"
      ]
     },
     "execution_count": 5,
     "metadata": {},
     "output_type": "execute_result"
    }
   ],
   "source": [
    "swa"
   ]
  },
  {
   "cell_type": "code",
   "execution_count": 6,
   "metadata": {
    "pycharm": {
     "name": "#%%\n"
    }
   },
   "outputs": [
    {
     "data": {
      "text/plain": [
       "0       Ebigyenderwaho omu kooti y’ekyanga  etebeekani...\n",
       "1       Ba memba ba kooti bashemereire kufayo munonga ...\n",
       "2                    Reeba Ebiragiro bya kooti z’ebyanga.\n",
       "3       Okuhaburwa okundi okweyongyeireho kuri omu  Ng...\n",
       "4       okuhurira omushango Kutandika kuhurira omushan...\n",
       "                              ...                        \n",
       "1771                                boona ni banywani be.\n",
       "1772        kweyihaho engambo zirikumusiisira ekitiinisa.\n",
       "1773       August atandika kurira ngu okuhoza kugumizemu.\n",
       "1774    Agira ngu kimutwariire bingikureeba ngu areesi...\n",
       "1775    Atwire nanteera kumaraemyaka 10 n'okurengamu.\\...\n",
       "Name: N’emishango eri omu kooti eshemereire eine  kukuuma obugabe bw’abo boona abarikugiizamu  kurabira omu muhanda oguri gwe., Length: 1776, dtype: object"
      ]
     },
     "execution_count": 6,
     "metadata": {},
     "output_type": "execute_result"
    }
   ],
   "source": [
    "runy.iloc[:,0]"
   ]
  },
  {
   "cell_type": "code",
   "execution_count": 7,
   "metadata": {
    "pycharm": {
     "name": "#%%\n"
    }
   },
   "outputs": [
    {
     "data": {
      "text/plain": [
       "0                Byesi kulima bilini ku tundiwa mu katale.\n",
       "1                                    Usana wilinde musale.\n",
       "2                               Inzila yefe inzila indeyi.\n",
       "3                              Bageni badabula namwe pawo?\n",
       "4        Ilomba nabi Baba Wele agende ninawe mu zinzila...\n",
       "                               ...                        \n",
       "10382    Isomelo,nasasulekho tsinusu shisintsa,tsiramil...\n",
       "10383    Papawenywe ashili akhuleyi busa,anatabula mang...\n",
       "10384            Nakhumanya uwama khuyila umwaana wowo ta.\n",
       "10385                   Mwareye wahena kamaleesi ko mwana?\n",
       "10386          Nimwakamilewo khuramba mutsye muwumulekho .\n",
       "Name: Lumasaaba Nothern and Southern Dialect, Length: 10387, dtype: object"
      ]
     },
     "execution_count": 7,
     "metadata": {},
     "output_type": "execute_result"
    }
   ],
   "source": [
    "lumas.iloc[:,0]"
   ]
  },
  {
   "cell_type": "code",
   "execution_count": 8,
   "metadata": {
    "pycharm": {
     "name": "#%%\n"
    }
   },
   "outputs": [
    {
     "data": {
      "text/html": [
       "<div>\n",
       "<style scoped>\n",
       "    .dataframe tbody tr th:only-of-type {\n",
       "        vertical-align: middle;\n",
       "    }\n",
       "\n",
       "    .dataframe tbody tr th {\n",
       "        vertical-align: top;\n",
       "    }\n",
       "\n",
       "    .dataframe thead th {\n",
       "        text-align: right;\n",
       "    }\n",
       "</style>\n",
       "<table border=\"1\" class=\"dataframe\">\n",
       "  <thead>\n",
       "    <tr style=\"text-align: right;\">\n",
       "      <th></th>\n",
       "      <th>Kwai Nyig lok I leb Acholi</th>\n",
       "    </tr>\n",
       "  </thead>\n",
       "  <tbody>\n",
       "    <tr>\n",
       "      <th>0</th>\n",
       "      <td>Abicito i gang kwan.</td>\n",
       "    </tr>\n",
       "    <tr>\n",
       "      <th>1</th>\n",
       "      <td>Abipwonyo litino ki kwan.</td>\n",
       "    </tr>\n",
       "    <tr>\n",
       "      <th>2</th>\n",
       "      <td>Abiloko kit ma akwano kwede woko.</td>\n",
       "    </tr>\n",
       "    <tr>\n",
       "      <th>3</th>\n",
       "      <td>Abedo ka kwano buk baibol.</td>\n",
       "    </tr>\n",
       "    <tr>\n",
       "      <th>4</th>\n",
       "      <td>Abalo kwan pa latin nyako ni woko.</td>\n",
       "    </tr>\n",
       "    <tr>\n",
       "      <th>...</th>\n",
       "      <td>...</td>\n",
       "    </tr>\n",
       "    <tr>\n",
       "      <th>10097</th>\n",
       "      <td>En owaco ki anyakani ni pi tye cok kenyo.</td>\n",
       "    </tr>\n",
       "    <tr>\n",
       "      <th>10098</th>\n",
       "      <td>Kiwace ni wel ojol pi ijeriken egini weng.</td>\n",
       "    </tr>\n",
       "    <tr>\n",
       "      <th>10099</th>\n",
       "      <td>En otye cawa manok keken.</td>\n",
       "    </tr>\n",
       "    <tr>\n",
       "      <th>10100</th>\n",
       "      <td>Mam dong in imito ni amini cente adi?</td>\n",
       "    </tr>\n",
       "    <tr>\n",
       "      <th>10101</th>\n",
       "      <td>En owaco ni kitmo keken tiyo.</td>\n",
       "    </tr>\n",
       "  </tbody>\n",
       "</table>\n",
       "<p>10102 rows × 1 columns</p>\n",
       "</div>"
      ],
      "text/plain": [
       "                       Kwai Nyig lok I leb Acholi\n",
       "0                            Abicito i gang kwan.\n",
       "1                       Abipwonyo litino ki kwan.\n",
       "2               Abiloko kit ma akwano kwede woko.\n",
       "3                      Abedo ka kwano buk baibol.\n",
       "4              Abalo kwan pa latin nyako ni woko.\n",
       "...                                           ...\n",
       "10097   En owaco ki anyakani ni pi tye cok kenyo.\n",
       "10098  Kiwace ni wel ojol pi ijeriken egini weng.\n",
       "10099                   En otye cawa manok keken.\n",
       "10100       Mam dong in imito ni amini cente adi?\n",
       "10101               En owaco ni kitmo keken tiyo.\n",
       "\n",
       "[10102 rows x 1 columns]"
      ]
     },
     "execution_count": 8,
     "metadata": {},
     "output_type": "execute_result"
    }
   ],
   "source": [
    "acholi"
   ]
  },
  {
   "cell_type": "code",
   "execution_count": 9,
   "metadata": {},
   "outputs": [
    {
     "data": {
      "text/html": [
       "<div>\n",
       "<style scoped>\n",
       "    .dataframe tbody tr th:only-of-type {\n",
       "        vertical-align: middle;\n",
       "    }\n",
       "\n",
       "    .dataframe tbody tr th {\n",
       "        vertical-align: top;\n",
       "    }\n",
       "\n",
       "    .dataframe thead th {\n",
       "        text-align: right;\n",
       "    }\n",
       "</style>\n",
       "<table border=\"1\" class=\"dataframe\">\n",
       "  <thead>\n",
       "    <tr style=\"text-align: right;\">\n",
       "      <th></th>\n",
       "      <th>Ni Kristo wenka oikiriziibwe</th>\n",
       "      <th>Unnamed: 1</th>\n",
       "    </tr>\n",
       "  </thead>\n",
       "  <tbody>\n",
       "    <tr>\n",
       "      <th>0</th>\n",
       "      <td>N'eshagama ya Yesu yonka, eyaasheeshekire aha ...</td>\n",
       "      <td>NaN</td>\n",
       "    </tr>\n",
       "    <tr>\n",
       "      <th>1</th>\n",
       "      <td>Eikiriziibwe Ruhanga aha bw'ebibi by'omuntu.</td>\n",
       "      <td>NaN</td>\n",
       "    </tr>\n",
       "    <tr>\n",
       "      <th>2</th>\n",
       "      <td>Eshagama ye y'omuhendo eine amaani gataine buk...</td>\n",
       "      <td>NaN</td>\n",
       "    </tr>\n",
       "    <tr>\n",
       "      <th>3</th>\n",
       "      <td>Embabazi n'obusaasizi, ahabwaitu, akabihangura.</td>\n",
       "      <td>NaN</td>\n",
       "    </tr>\n",
       "    <tr>\n",
       "      <th>4</th>\n",
       "      <td>Ni Yesu wenka owaabaasize kwikiriza</td>\n",
       "      <td>NaN</td>\n",
       "    </tr>\n",
       "    <tr>\n",
       "      <th>...</th>\n",
       "      <td>...</td>\n",
       "      <td>...</td>\n",
       "    </tr>\n",
       "    <tr>\n",
       "      <th>14374</th>\n",
       "      <td>NaN</td>\n",
       "      <td>Ebicu tibyataaguka.</td>\n",
       "    </tr>\n",
       "    <tr>\n",
       "      <th>14375</th>\n",
       "      <td>NaN</td>\n",
       "      <td>Ekitebe kye atuura akikingiire,</td>\n",
       "    </tr>\n",
       "    <tr>\n",
       "      <th>14376</th>\n",
       "      <td>NaN</td>\n",
       "      <td>Akishwekire ekicu kye.</td>\n",
       "    </tr>\n",
       "    <tr>\n",
       "      <th>14377</th>\n",
       "      <td>NaN</td>\n",
       "      <td>Amaizi akagateeraho obugarukiro,</td>\n",
       "    </tr>\n",
       "    <tr>\n",
       "      <th>14378</th>\n",
       "      <td>NaN</td>\n",
       "      <td>Ahu omushana n'omwirima byatanira.</td>\n",
       "    </tr>\n",
       "  </tbody>\n",
       "</table>\n",
       "<p>14379 rows × 2 columns</p>\n",
       "</div>"
      ],
      "text/plain": [
       "                            Ni Kristo wenka oikiriziibwe  \\\n",
       "0      N'eshagama ya Yesu yonka, eyaasheeshekire aha ...   \n",
       "1           Eikiriziibwe Ruhanga aha bw'ebibi by'omuntu.   \n",
       "2      Eshagama ye y'omuhendo eine amaani gataine buk...   \n",
       "3        Embabazi n'obusaasizi, ahabwaitu, akabihangura.   \n",
       "4                    Ni Yesu wenka owaabaasize kwikiriza   \n",
       "...                                                  ...   \n",
       "14374                                                NaN   \n",
       "14375                                                NaN   \n",
       "14376                                                NaN   \n",
       "14377                                                NaN   \n",
       "14378                                                NaN   \n",
       "\n",
       "                               Unnamed: 1  \n",
       "0                                     NaN  \n",
       "1                                     NaN  \n",
       "2                                     NaN  \n",
       "3                                     NaN  \n",
       "4                                     NaN  \n",
       "...                                   ...  \n",
       "14374                 Ebicu tibyataaguka.  \n",
       "14375     Ekitebe kye atuura akikingiire,  \n",
       "14376              Akishwekire ekicu kye.  \n",
       "14377    Amaizi akagateeraho obugarukiro,  \n",
       "14378  Ahu omushana n'omwirima byatanira.  \n",
       "\n",
       "[14379 rows x 2 columns]"
      ]
     },
     "execution_count": 9,
     "metadata": {},
     "output_type": "execute_result"
    }
   ],
   "source": [
    "runy2"
   ]
  },
  {
   "cell_type": "code",
   "execution_count": 10,
   "metadata": {},
   "outputs": [],
   "source": [
    "# runy2[runy2.iloc[:,0].str.isdigit()]"
   ]
  },
  {
   "cell_type": "code",
   "execution_count": 11,
   "metadata": {},
   "outputs": [],
   "source": [
    "runy2=pd.concat([\n",
    "    runy2.iloc[:,0],\n",
    "    runy2.iloc[:,1]\n",
    "]).dropna().reset_index(drop=True)\n",
    "\n"
   ]
  },
  {
   "cell_type": "code",
   "execution_count": 12,
   "metadata": {
    "pycharm": {
     "name": "#%%\n"
    }
   },
   "outputs": [],
   "source": [
    "languages = pd.concat([data['English Sentence'],\n",
    "                       data['Acoli Translation'],\n",
    "                       data['Luganda Translation'],\n",
    "                       data['Lumasaaba Translation'],\n",
    "                       data['Runyakore Translation'],\n",
    "                       lug['language'],\n",
    "                       swa.loc[:,'language'],\n",
    "                       runy.iloc[:,0],\n",
    "                       lumas.iloc[:,0],\n",
    "                       acholi.iloc[:,0],\n",
    "                       runy2\n",
    "                       ]).reset_index(drop=True)"
   ]
  },
  {
   "cell_type": "code",
   "execution_count": 13,
   "metadata": {
    "pycharm": {
     "name": "#%%\n"
    }
   },
   "outputs": [
    {
     "data": {
      "text/plain": [
       "0         The government has constructed better health c...\n",
       "1                                  His death was so sudden.\n",
       "2         Our company celebrated twenty years of existen...\n",
       "3         Many people have lost their lives due to sexua...\n",
       "4         Civil servants receive their pension fund upon...\n",
       "                                ...                        \n",
       "114630                                  Ebicu tibyataaguka.\n",
       "114631                      Ekitebe kye atuura akikingiire,\n",
       "114632                               Akishwekire ekicu kye.\n",
       "114633                     Amaizi akagateeraho obugarukiro,\n",
       "114634                   Ahu omushana n'omwirima byatanira.\n",
       "Length: 114635, dtype: object"
      ]
     },
     "execution_count": 13,
     "metadata": {},
     "output_type": "execute_result"
    }
   ],
   "source": [
    "languages"
   ]
  },
  {
   "cell_type": "code",
   "execution_count": 94,
   "metadata": {
    "pycharm": {
     "name": "#%%\n"
    }
   },
   "outputs": [],
   "source": [
    "new_data=pd.DataFrame({'text':languages,'classes':['english']*len(data['English Sentence'])+\n",
    "                                                       ['acholi']*len(data['Acoli Translation'])+\n",
    "                                                       ['luganda']*len(data['Luganda Translation'])+\n",
    "                                                       ['lumasaba']*len(data['Lumasaaba Translation'])+\n",
    "                                                       ['runyankore']*len(data['Runyakore Translation'])+\n",
    "                                                       ['luganda']*len(lug['language'])+\n",
    "                                                       ['swahili']*len(swa.loc[:,'language'])+\n",
    "                                                       ['runyankore']*len(runy.iloc[:,0])+\n",
    "                                                       ['lumasaba']*len(lumas.iloc[:,0])+\n",
    "                                                       ['acholi']*len(acholi.iloc[:,0])+\n",
    "                                                       ['runyankore']*len(runy2)\n",
    "                                                      }).reset_index(drop=True)"
   ]
  },
  {
   "cell_type": "code",
   "execution_count": 95,
   "metadata": {
    "pycharm": {
     "name": "#%%\n"
    }
   },
   "outputs": [
    {
     "data": {
      "text/html": [
       "<div>\n",
       "<style scoped>\n",
       "    .dataframe tbody tr th:only-of-type {\n",
       "        vertical-align: middle;\n",
       "    }\n",
       "\n",
       "    .dataframe tbody tr th {\n",
       "        vertical-align: top;\n",
       "    }\n",
       "\n",
       "    .dataframe thead th {\n",
       "        text-align: right;\n",
       "    }\n",
       "</style>\n",
       "<table border=\"1\" class=\"dataframe\">\n",
       "  <thead>\n",
       "    <tr style=\"text-align: right;\">\n",
       "      <th></th>\n",
       "      <th>text</th>\n",
       "      <th>classes</th>\n",
       "    </tr>\n",
       "  </thead>\n",
       "  <tbody>\n",
       "    <tr>\n",
       "      <th>0</th>\n",
       "      <td>The government has constructed better health centers in rural areas.</td>\n",
       "      <td>english</td>\n",
       "    </tr>\n",
       "    <tr>\n",
       "      <th>1</th>\n",
       "      <td>His death was so sudden.</td>\n",
       "      <td>english</td>\n",
       "    </tr>\n",
       "    <tr>\n",
       "      <th>2</th>\n",
       "      <td>Our company celebrated twenty years of existence last year.</td>\n",
       "      <td>english</td>\n",
       "    </tr>\n",
       "    <tr>\n",
       "      <th>3</th>\n",
       "      <td>Many people have lost their lives due to sexually transmitted diseases.</td>\n",
       "      <td>english</td>\n",
       "    </tr>\n",
       "    <tr>\n",
       "      <th>4</th>\n",
       "      <td>Civil servants receive their pension fund upon retirement.</td>\n",
       "      <td>english</td>\n",
       "    </tr>\n",
       "    <tr>\n",
       "      <th>...</th>\n",
       "      <td>...</td>\n",
       "      <td>...</td>\n",
       "    </tr>\n",
       "    <tr>\n",
       "      <th>114630</th>\n",
       "      <td>Ebicu tibyataaguka.</td>\n",
       "      <td>runyankore</td>\n",
       "    </tr>\n",
       "    <tr>\n",
       "      <th>114631</th>\n",
       "      <td>Ekitebe kye atuura akikingiire,</td>\n",
       "      <td>runyankore</td>\n",
       "    </tr>\n",
       "    <tr>\n",
       "      <th>114632</th>\n",
       "      <td>Akishwekire ekicu kye.</td>\n",
       "      <td>runyankore</td>\n",
       "    </tr>\n",
       "    <tr>\n",
       "      <th>114633</th>\n",
       "      <td>Amaizi akagateeraho obugarukiro,</td>\n",
       "      <td>runyankore</td>\n",
       "    </tr>\n",
       "    <tr>\n",
       "      <th>114634</th>\n",
       "      <td>Ahu omushana n'omwirima byatanira.</td>\n",
       "      <td>runyankore</td>\n",
       "    </tr>\n",
       "  </tbody>\n",
       "</table>\n",
       "<p>114635 rows × 2 columns</p>\n",
       "</div>"
      ],
      "text/plain": [
       "                                                                           text  \\\n",
       "0          The government has constructed better health centers in rural areas.   \n",
       "1                                                      His death was so sudden.   \n",
       "2                   Our company celebrated twenty years of existence last year.   \n",
       "3       Many people have lost their lives due to sexually transmitted diseases.   \n",
       "4                    Civil servants receive their pension fund upon retirement.   \n",
       "...                                                                         ...   \n",
       "114630                                                      Ebicu tibyataaguka.   \n",
       "114631                                          Ekitebe kye atuura akikingiire,   \n",
       "114632                                                   Akishwekire ekicu kye.   \n",
       "114633                                         Amaizi akagateeraho obugarukiro,   \n",
       "114634                                       Ahu omushana n'omwirima byatanira.   \n",
       "\n",
       "           classes  \n",
       "0          english  \n",
       "1          english  \n",
       "2          english  \n",
       "3          english  \n",
       "4          english  \n",
       "...            ...  \n",
       "114630  runyankore  \n",
       "114631  runyankore  \n",
       "114632  runyankore  \n",
       "114633  runyankore  \n",
       "114634  runyankore  \n",
       "\n",
       "[114635 rows x 2 columns]"
      ]
     },
     "execution_count": 95,
     "metadata": {},
     "output_type": "execute_result"
    }
   ],
   "source": [
    "new_data"
   ]
  },
  {
   "cell_type": "code",
   "execution_count": 96,
   "metadata": {},
   "outputs": [
    {
     "data": {
      "text/html": [
       "<div>\n",
       "<style scoped>\n",
       "    .dataframe tbody tr th:only-of-type {\n",
       "        vertical-align: middle;\n",
       "    }\n",
       "\n",
       "    .dataframe tbody tr th {\n",
       "        vertical-align: top;\n",
       "    }\n",
       "\n",
       "    .dataframe thead th {\n",
       "        text-align: right;\n",
       "    }\n",
       "</style>\n",
       "<table border=\"1\" class=\"dataframe\">\n",
       "  <thead>\n",
       "    <tr style=\"text-align: right;\">\n",
       "      <th></th>\n",
       "      <th>text</th>\n",
       "      <th>classes</th>\n",
       "    </tr>\n",
       "  </thead>\n",
       "  <tbody>\n",
       "    <tr>\n",
       "      <th>23136</th>\n",
       "      <td>NaN</td>\n",
       "      <td>runyankore</td>\n",
       "    </tr>\n",
       "    <tr>\n",
       "      <th>23137</th>\n",
       "      <td>NaN</td>\n",
       "      <td>runyankore</td>\n",
       "    </tr>\n",
       "    <tr>\n",
       "      <th>23138</th>\n",
       "      <td>NaN</td>\n",
       "      <td>runyankore</td>\n",
       "    </tr>\n",
       "    <tr>\n",
       "      <th>23139</th>\n",
       "      <td>NaN</td>\n",
       "      <td>runyankore</td>\n",
       "    </tr>\n",
       "    <tr>\n",
       "      <th>23140</th>\n",
       "      <td>NaN</td>\n",
       "      <td>runyankore</td>\n",
       "    </tr>\n",
       "    <tr>\n",
       "      <th>...</th>\n",
       "      <td>...</td>\n",
       "      <td>...</td>\n",
       "    </tr>\n",
       "    <tr>\n",
       "      <th>23851</th>\n",
       "      <td>NaN</td>\n",
       "      <td>runyankore</td>\n",
       "    </tr>\n",
       "    <tr>\n",
       "      <th>23852</th>\n",
       "      <td>NaN</td>\n",
       "      <td>runyankore</td>\n",
       "    </tr>\n",
       "    <tr>\n",
       "      <th>23853</th>\n",
       "      <td>NaN</td>\n",
       "      <td>runyankore</td>\n",
       "    </tr>\n",
       "    <tr>\n",
       "      <th>23854</th>\n",
       "      <td>NaN</td>\n",
       "      <td>runyankore</td>\n",
       "    </tr>\n",
       "    <tr>\n",
       "      <th>79718</th>\n",
       "      <td>NaN</td>\n",
       "      <td>lumasaba</td>\n",
       "    </tr>\n",
       "  </tbody>\n",
       "</table>\n",
       "<p>720 rows × 2 columns</p>\n",
       "</div>"
      ],
      "text/plain": [
       "      text     classes\n",
       "23136  NaN  runyankore\n",
       "23137  NaN  runyankore\n",
       "23138  NaN  runyankore\n",
       "23139  NaN  runyankore\n",
       "23140  NaN  runyankore\n",
       "...    ...         ...\n",
       "23851  NaN  runyankore\n",
       "23852  NaN  runyankore\n",
       "23853  NaN  runyankore\n",
       "23854  NaN  runyankore\n",
       "79718  NaN    lumasaba\n",
       "\n",
       "[720 rows x 2 columns]"
      ]
     },
     "execution_count": 96,
     "metadata": {},
     "output_type": "execute_result"
    }
   ],
   "source": [
    "new_data[new_data.text.isna()]"
   ]
  },
  {
   "cell_type": "code",
   "execution_count": 97,
   "metadata": {
    "pycharm": {
     "name": "#%%\n"
    }
   },
   "outputs": [],
   "source": [
    "new_data=new_data.dropna().reset_index(drop=True)\n",
    "new_data.text=new_data.text.astype(str)"
   ]
  },
  {
   "cell_type": "code",
   "execution_count": 57,
   "metadata": {},
   "outputs": [],
   "source": [
    "import re\n"
   ]
  },
  {
   "cell_type": "code",
   "execution_count": 58,
   "metadata": {},
   "outputs": [],
   "source": [
    "import string\n",
    "def split_sent(text):\n",
    "    text = text.split(\"'\")\n",
    "    text = \" \".join(text)\n",
    "    return text\n",
    "\n",
    "def remove_short_word_char(text):\n",
    "    text= [word for word in text.split() if len(word)>3]\n",
    "    text = \" \".join(text)\n",
    "    return text\n",
    "    \n",
    "def remove_punctuation(text):\n",
    "    table = str.maketrans(\"\",\"\",string.punctuation)\n",
    "    return text.translate(table)\n",
    "\n",
    "def to_lower(text):\n",
    "    text =[word.lower() for word in text.split(' ')]\n",
    "    return \" \".join(text)"
   ]
  },
  {
   "cell_type": "code",
   "execution_count": 59,
   "metadata": {},
   "outputs": [],
   "source": [
    "new_data.text = new_data.text.apply(split_sent)\n",
    "'''\n",
    "input: Abantu bangi abafudde olw'endwadde z'ekikaba.\n",
    "returns: 'Abantu bangi abafudde olw endwadde z ekikaba.'\n",
    "'''\n",
    "new_data.text = new_data.text.apply(remove_short_word_char)\n",
    "'''\n",
    "imput:  'Abantu bangi abafudde olw endwadde z ekikaba.'\n",
    "returns: 'Abantu bangi abafudde endwadde ekikaba.'\n",
    "'''\n",
    "new_data.text=new_data.text.apply(remove_punctuation)\n",
    "new_data.text=new_data.text.apply(to_lower)\n",
    "new_data.text=new_data.text.apply(lambda x: re.sub(\"\\d+\",\"\",x))  #remove digits"
   ]
  },
  {
   "cell_type": "code",
   "execution_count": 60,
   "metadata": {},
   "outputs": [],
   "source": [
    "pd.options.display.max_colwidth=None"
   ]
  },
  {
   "cell_type": "code",
   "execution_count": 63,
   "metadata": {},
   "outputs": [],
   "source": [
    "new_data=new_data[new_data.text.apply(lambda x:len(x.split())>3)] ### remove short word sentences"
   ]
  },
  {
   "cell_type": "code",
   "execution_count": 64,
   "metadata": {},
   "outputs": [],
   "source": [
    "new_data = new_data.reset_index(drop=True)"
   ]
  },
  {
   "cell_type": "code",
   "execution_count": 65,
   "metadata": {},
   "outputs": [
    {
     "data": {
      "text/html": [
       "<div>\n",
       "<style scoped>\n",
       "    .dataframe tbody tr th:only-of-type {\n",
       "        vertical-align: middle;\n",
       "    }\n",
       "\n",
       "    .dataframe tbody tr th {\n",
       "        vertical-align: top;\n",
       "    }\n",
       "\n",
       "    .dataframe thead th {\n",
       "        text-align: right;\n",
       "    }\n",
       "</style>\n",
       "<table border=\"1\" class=\"dataframe\">\n",
       "  <thead>\n",
       "    <tr style=\"text-align: right;\">\n",
       "      <th></th>\n",
       "      <th>text</th>\n",
       "      <th>classes</th>\n",
       "    </tr>\n",
       "  </thead>\n",
       "  <tbody>\n",
       "    <tr>\n",
       "      <th>0</th>\n",
       "      <td>government constructed better health centers rural areas</td>\n",
       "      <td>english</td>\n",
       "    </tr>\n",
       "    <tr>\n",
       "      <th>1</th>\n",
       "      <td>company celebrated twenty years existence last year</td>\n",
       "      <td>english</td>\n",
       "    </tr>\n",
       "    <tr>\n",
       "      <th>2</th>\n",
       "      <td>many people have lost their lives sexually transmitted diseases</td>\n",
       "      <td>english</td>\n",
       "    </tr>\n",
       "    <tr>\n",
       "      <th>3</th>\n",
       "      <td>civil servants receive their pension fund upon retirement</td>\n",
       "      <td>english</td>\n",
       "    </tr>\n",
       "    <tr>\n",
       "      <th>4</th>\n",
       "      <td>teachers also among civil servants</td>\n",
       "      <td>english</td>\n",
       "    </tr>\n",
       "    <tr>\n",
       "      <th>...</th>\n",
       "      <td>...</td>\n",
       "      <td>...</td>\n",
       "    </tr>\n",
       "    <tr>\n",
       "      <th>87172</th>\n",
       "      <td>okuzimu maisho ruhanga ejwaire busha</td>\n",
       "      <td>runyankore</td>\n",
       "    </tr>\n",
       "    <tr>\n",
       "      <th>87173</th>\n",
       "      <td>kandi nyamuteza taine okweshweka</td>\n",
       "      <td>runyankore</td>\n",
       "    </tr>\n",
       "    <tr>\n",
       "      <th>87174</th>\n",
       "      <td>akabamba obukiizibwabumosho mwanya kwonka</td>\n",
       "      <td>runyankore</td>\n",
       "    </tr>\n",
       "    <tr>\n",
       "      <th>87175</th>\n",
       "      <td>ensi yaagihanika ahari busha</td>\n",
       "      <td>runyankore</td>\n",
       "    </tr>\n",
       "    <tr>\n",
       "      <th>87176</th>\n",
       "      <td>yaakoma amaizi bicu bikwataine</td>\n",
       "      <td>runyankore</td>\n",
       "    </tr>\n",
       "  </tbody>\n",
       "</table>\n",
       "<p>87177 rows × 2 columns</p>\n",
       "</div>"
      ],
      "text/plain": [
       "                                                                  text  \\\n",
       "0             government constructed better health centers rural areas   \n",
       "1                  company celebrated twenty years existence last year   \n",
       "2      many people have lost their lives sexually transmitted diseases   \n",
       "3            civil servants receive their pension fund upon retirement   \n",
       "4                                   teachers also among civil servants   \n",
       "...                                                                ...   \n",
       "87172                             okuzimu maisho ruhanga ejwaire busha   \n",
       "87173                                 kandi nyamuteza taine okweshweka   \n",
       "87174                        akabamba obukiizibwabumosho mwanya kwonka   \n",
       "87175                                     ensi yaagihanika ahari busha   \n",
       "87176                                   yaakoma amaizi bicu bikwataine   \n",
       "\n",
       "          classes  \n",
       "0         english  \n",
       "1         english  \n",
       "2         english  \n",
       "3         english  \n",
       "4         english  \n",
       "...           ...  \n",
       "87172  runyankore  \n",
       "87173  runyankore  \n",
       "87174  runyankore  \n",
       "87175  runyankore  \n",
       "87176  runyankore  \n",
       "\n",
       "[87177 rows x 2 columns]"
      ]
     },
     "execution_count": 65,
     "metadata": {},
     "output_type": "execute_result"
    }
   ],
   "source": [
    "new_data"
   ]
  },
  {
   "cell_type": "code",
   "execution_count": 66,
   "metadata": {},
   "outputs": [
    {
     "data": {
      "text/plain": [
       "Text(0, 0.5, 'counts')"
      ]
     },
     "execution_count": 66,
     "metadata": {},
     "output_type": "execute_result"
    },
    {
     "data": {
      "image/png": "[encoded data removed]",
      "text/plain": [
       "<Figure size 432x288 with 1 Axes>"
      ]
     },
     "metadata": {
      "needs_background": "light"
     },
     "output_type": "display_data"
    }
   ],
   "source": [
    "new_data.classes.value_counts().plot.bar()\n",
    "plt.ylabel('counts')"
   ]
  },
  {
   "cell_type": "code",
   "execution_count": 69,
   "metadata": {},
   "outputs": [],
   "source": [
    "index_todrop=new_data[new_data.classes=='swahili'].iloc[15000:].index.tolist()   ### reduce swahili sentences\n",
    "# index_todrop"
   ]
  },
  {
   "cell_type": "code",
   "execution_count": 70,
   "metadata": {},
   "outputs": [],
   "source": [
    "new_data=new_data.drop(index_todrop)"
   ]
  },
  {
   "cell_type": "code",
   "execution_count": 71,
   "metadata": {},
   "outputs": [],
   "source": [
    "new_data = new_data.reset_index(drop=True)"
   ]
  },
  {
   "cell_type": "code",
   "execution_count": 72,
   "metadata": {},
   "outputs": [
    {
     "data": {
      "text/plain": [
       "Text(0, 0.5, 'counts')"
      ]
     },
     "execution_count": 72,
     "metadata": {},
     "output_type": "execute_result"
    },
    {
     "data": {
      "image/png": "[encoded data removed]",
      "text/plain": [
       "<Figure size 432x288 with 1 Axes>"
      ]
     },
     "metadata": {
      "needs_background": "light"
     },
     "output_type": "display_data"
    }
   ],
   "source": [
    "new_data.classes.value_counts().plot.bar()\n",
    "plt.ylabel('counts')"
   ]
  },
  {
   "cell_type": "code",
   "execution_count": 73,
   "metadata": {},
   "outputs": [],
   "source": [
    "new_data['folds'] =-1\n",
    "from sklearn.model_selection import StratifiedKFold\n",
    "skf = StratifiedKFold(n_splits = 5)\n",
    "for i,(train_idx,val_idx) in enumerate(skf.split(new_data,new_data.classes)):\n",
    "    new_data.loc[val_idx,'folds']=i"
   ]
  },
  {
   "cell_type": "code",
   "execution_count": 74,
   "metadata": {},
   "outputs": [
    {
     "data": {
      "text/html": [
       "<div>\n",
       "<style scoped>\n",
       "    .dataframe tbody tr th:only-of-type {\n",
       "        vertical-align: middle;\n",
       "    }\n",
       "\n",
       "    .dataframe tbody tr th {\n",
       "        vertical-align: top;\n",
       "    }\n",
       "\n",
       "    .dataframe thead th {\n",
       "        text-align: right;\n",
       "    }\n",
       "</style>\n",
       "<table border=\"1\" class=\"dataframe\">\n",
       "  <thead>\n",
       "    <tr style=\"text-align: right;\">\n",
       "      <th></th>\n",
       "      <th>text</th>\n",
       "      <th>classes</th>\n",
       "      <th>folds</th>\n",
       "    </tr>\n",
       "  </thead>\n",
       "  <tbody>\n",
       "    <tr>\n",
       "      <th>0</th>\n",
       "      <td>government constructed better health centers rural areas</td>\n",
       "      <td>english</td>\n",
       "      <td>0</td>\n",
       "    </tr>\n",
       "    <tr>\n",
       "      <th>1</th>\n",
       "      <td>company celebrated twenty years existence last year</td>\n",
       "      <td>english</td>\n",
       "      <td>0</td>\n",
       "    </tr>\n",
       "    <tr>\n",
       "      <th>2</th>\n",
       "      <td>many people have lost their lives sexually transmitted diseases</td>\n",
       "      <td>english</td>\n",
       "      <td>0</td>\n",
       "    </tr>\n",
       "    <tr>\n",
       "      <th>3</th>\n",
       "      <td>civil servants receive their pension fund upon retirement</td>\n",
       "      <td>english</td>\n",
       "      <td>0</td>\n",
       "    </tr>\n",
       "    <tr>\n",
       "      <th>4</th>\n",
       "      <td>teachers also among civil servants</td>\n",
       "      <td>english</td>\n",
       "      <td>0</td>\n",
       "    </tr>\n",
       "    <tr>\n",
       "      <th>...</th>\n",
       "      <td>...</td>\n",
       "      <td>...</td>\n",
       "      <td>...</td>\n",
       "    </tr>\n",
       "    <tr>\n",
       "      <th>61325</th>\n",
       "      <td>okuzimu maisho ruhanga ejwaire busha</td>\n",
       "      <td>runyankore</td>\n",
       "      <td>4</td>\n",
       "    </tr>\n",
       "    <tr>\n",
       "      <th>61326</th>\n",
       "      <td>kandi nyamuteza taine okweshweka</td>\n",
       "      <td>runyankore</td>\n",
       "      <td>4</td>\n",
       "    </tr>\n",
       "    <tr>\n",
       "      <th>61327</th>\n",
       "      <td>akabamba obukiizibwabumosho mwanya kwonka</td>\n",
       "      <td>runyankore</td>\n",
       "      <td>4</td>\n",
       "    </tr>\n",
       "    <tr>\n",
       "      <th>61328</th>\n",
       "      <td>ensi yaagihanika ahari busha</td>\n",
       "      <td>runyankore</td>\n",
       "      <td>4</td>\n",
       "    </tr>\n",
       "    <tr>\n",
       "      <th>61329</th>\n",
       "      <td>yaakoma amaizi bicu bikwataine</td>\n",
       "      <td>runyankore</td>\n",
       "      <td>4</td>\n",
       "    </tr>\n",
       "  </tbody>\n",
       "</table>\n",
       "<p>61330 rows × 3 columns</p>\n",
       "</div>"
      ],
      "text/plain": [
       "                                                                  text  \\\n",
       "0             government constructed better health centers rural areas   \n",
       "1                  company celebrated twenty years existence last year   \n",
       "2      many people have lost their lives sexually transmitted diseases   \n",
       "3            civil servants receive their pension fund upon retirement   \n",
       "4                                   teachers also among civil servants   \n",
       "...                                                                ...   \n",
       "61325                             okuzimu maisho ruhanga ejwaire busha   \n",
       "61326                                 kandi nyamuteza taine okweshweka   \n",
       "61327                        akabamba obukiizibwabumosho mwanya kwonka   \n",
       "61328                                     ensi yaagihanika ahari busha   \n",
       "61329                                   yaakoma amaizi bicu bikwataine   \n",
       "\n",
       "          classes  folds  \n",
       "0         english      0  \n",
       "1         english      0  \n",
       "2         english      0  \n",
       "3         english      0  \n",
       "4         english      0  \n",
       "...           ...    ...  \n",
       "61325  runyankore      4  \n",
       "61326  runyankore      4  \n",
       "61327  runyankore      4  \n",
       "61328  runyankore      4  \n",
       "61329  runyankore      4  \n",
       "\n",
       "[61330 rows x 3 columns]"
      ]
     },
     "execution_count": 74,
     "metadata": {},
     "output_type": "execute_result"
    }
   ],
   "source": [
    "new_data"
   ]
  },
  {
   "cell_type": "code",
   "execution_count": 75,
   "metadata": {},
   "outputs": [
    {
     "data": {
      "text/plain": [
       "array(['acholi', 'english', 'luganda', 'lumasaba', 'runyankore',\n",
       "       'swahili'], dtype=object)"
      ]
     },
     "execution_count": 75,
     "metadata": {},
     "output_type": "execute_result"
    }
   ],
   "source": [
    "import numpy as np\n",
    "np.unique(new_data.classes)"
   ]
  },
  {
   "cell_type": "code",
   "execution_count": 78,
   "metadata": {},
   "outputs": [],
   "source": [
    "from sklearn.utils.class_weight import compute_class_weight\n",
    "class_weights = compute_class_weight(class_weight = \"balanced\", classes= np.unique(new_data.classes), y=new_data.classes)"
   ]
  },
  {
   "cell_type": "code",
   "execution_count": 79,
   "metadata": {},
   "outputs": [
    {
     "data": {
      "text/plain": [
       "array(['acholi', 'english', 'luganda', 'lumasaba', 'runyankore',\n",
       "       'swahili'], dtype=object)"
      ]
     },
     "execution_count": 79,
     "metadata": {},
     "output_type": "execute_result"
    }
   ],
   "source": [
    "np.unique(new_data.classes)"
   ]
  },
  {
   "cell_type": "code",
   "execution_count": 93,
   "metadata": {},
   "outputs": [
    {
     "data": {
      "text/plain": [
       "array([0.87037352, 2.76560245, 1.63233259, 1.04079693, 0.69032665,\n",
       "       0.68144444])"
      ]
     },
     "execution_count": 93,
     "metadata": {},
     "output_type": "execute_result"
    }
   ],
   "source": [
    "class_weights"
   ]
  },
  {
   "cell_type": "code",
   "execution_count": 81,
   "metadata": {},
   "outputs": [],
   "source": [
    "ohe_classes = pd.get_dummies(new_data.classes)"
   ]
  },
  {
   "cell_type": "code",
   "execution_count": 82,
   "metadata": {},
   "outputs": [
    {
     "name": "stderr",
     "output_type": "stream",
     "text": [
      "/tmp/ipykernel_2842/900613341.py:1: FutureWarning: In a future version of pandas all arguments of concat except for the argument 'objs' will be keyword-only.\n",
      "  new_data = pd.concat([new_data.text,\n"
     ]
    }
   ],
   "source": [
    "new_data = pd.concat([new_data.text,\n",
    "           new_data.folds,\n",
    "          ohe_classes],1)"
   ]
  },
  {
   "cell_type": "code",
   "execution_count": 83,
   "metadata": {},
   "outputs": [
    {
     "data": {
      "text/html": [
       "<div>\n",
       "<style scoped>\n",
       "    .dataframe tbody tr th:only-of-type {\n",
       "        vertical-align: middle;\n",
       "    }\n",
       "\n",
       "    .dataframe tbody tr th {\n",
       "        vertical-align: top;\n",
       "    }\n",
       "\n",
       "    .dataframe thead th {\n",
       "        text-align: right;\n",
       "    }\n",
       "</style>\n",
       "<table border=\"1\" class=\"dataframe\">\n",
       "  <thead>\n",
       "    <tr style=\"text-align: right;\">\n",
       "      <th></th>\n",
       "      <th>text</th>\n",
       "      <th>folds</th>\n",
       "      <th>acholi</th>\n",
       "      <th>english</th>\n",
       "      <th>luganda</th>\n",
       "      <th>lumasaba</th>\n",
       "      <th>runyankore</th>\n",
       "      <th>swahili</th>\n",
       "    </tr>\n",
       "  </thead>\n",
       "  <tbody>\n",
       "    <tr>\n",
       "      <th>0</th>\n",
       "      <td>government constructed better health centers rural areas</td>\n",
       "      <td>0</td>\n",
       "      <td>0</td>\n",
       "      <td>1</td>\n",
       "      <td>0</td>\n",
       "      <td>0</td>\n",
       "      <td>0</td>\n",
       "      <td>0</td>\n",
       "    </tr>\n",
       "    <tr>\n",
       "      <th>1</th>\n",
       "      <td>company celebrated twenty years existence last year</td>\n",
       "      <td>0</td>\n",
       "      <td>0</td>\n",
       "      <td>1</td>\n",
       "      <td>0</td>\n",
       "      <td>0</td>\n",
       "      <td>0</td>\n",
       "      <td>0</td>\n",
       "    </tr>\n",
       "    <tr>\n",
       "      <th>2</th>\n",
       "      <td>many people have lost their lives sexually transmitted diseases</td>\n",
       "      <td>0</td>\n",
       "      <td>0</td>\n",
       "      <td>1</td>\n",
       "      <td>0</td>\n",
       "      <td>0</td>\n",
       "      <td>0</td>\n",
       "      <td>0</td>\n",
       "    </tr>\n",
       "    <tr>\n",
       "      <th>3</th>\n",
       "      <td>civil servants receive their pension fund upon retirement</td>\n",
       "      <td>0</td>\n",
       "      <td>0</td>\n",
       "      <td>1</td>\n",
       "      <td>0</td>\n",
       "      <td>0</td>\n",
       "      <td>0</td>\n",
       "      <td>0</td>\n",
       "    </tr>\n",
       "    <tr>\n",
       "      <th>4</th>\n",
       "      <td>teachers also among civil servants</td>\n",
       "      <td>0</td>\n",
       "      <td>0</td>\n",
       "      <td>1</td>\n",
       "      <td>0</td>\n",
       "      <td>0</td>\n",
       "      <td>0</td>\n",
       "      <td>0</td>\n",
       "    </tr>\n",
       "    <tr>\n",
       "      <th>...</th>\n",
       "      <td>...</td>\n",
       "      <td>...</td>\n",
       "      <td>...</td>\n",
       "      <td>...</td>\n",
       "      <td>...</td>\n",
       "      <td>...</td>\n",
       "      <td>...</td>\n",
       "      <td>...</td>\n",
       "    </tr>\n",
       "    <tr>\n",
       "      <th>61325</th>\n",
       "      <td>okuzimu maisho ruhanga ejwaire busha</td>\n",
       "      <td>4</td>\n",
       "      <td>0</td>\n",
       "      <td>0</td>\n",
       "      <td>0</td>\n",
       "      <td>0</td>\n",
       "      <td>1</td>\n",
       "      <td>0</td>\n",
       "    </tr>\n",
       "    <tr>\n",
       "      <th>61326</th>\n",
       "      <td>kandi nyamuteza taine okweshweka</td>\n",
       "      <td>4</td>\n",
       "      <td>0</td>\n",
       "      <td>0</td>\n",
       "      <td>0</td>\n",
       "      <td>0</td>\n",
       "      <td>1</td>\n",
       "      <td>0</td>\n",
       "    </tr>\n",
       "    <tr>\n",
       "      <th>61327</th>\n",
       "      <td>akabamba obukiizibwabumosho mwanya kwonka</td>\n",
       "      <td>4</td>\n",
       "      <td>0</td>\n",
       "      <td>0</td>\n",
       "      <td>0</td>\n",
       "      <td>0</td>\n",
       "      <td>1</td>\n",
       "      <td>0</td>\n",
       "    </tr>\n",
       "    <tr>\n",
       "      <th>61328</th>\n",
       "      <td>ensi yaagihanika ahari busha</td>\n",
       "      <td>4</td>\n",
       "      <td>0</td>\n",
       "      <td>0</td>\n",
       "      <td>0</td>\n",
       "      <td>0</td>\n",
       "      <td>1</td>\n",
       "      <td>0</td>\n",
       "    </tr>\n",
       "    <tr>\n",
       "      <th>61329</th>\n",
       "      <td>yaakoma amaizi bicu bikwataine</td>\n",
       "      <td>4</td>\n",
       "      <td>0</td>\n",
       "      <td>0</td>\n",
       "      <td>0</td>\n",
       "      <td>0</td>\n",
       "      <td>1</td>\n",
       "      <td>0</td>\n",
       "    </tr>\n",
       "  </tbody>\n",
       "</table>\n",
       "<p>61330 rows × 8 columns</p>\n",
       "</div>"
      ],
      "text/plain": [
       "                                                                  text  folds  \\\n",
       "0             government constructed better health centers rural areas      0   \n",
       "1                  company celebrated twenty years existence last year      0   \n",
       "2      many people have lost their lives sexually transmitted diseases      0   \n",
       "3            civil servants receive their pension fund upon retirement      0   \n",
       "4                                   teachers also among civil servants      0   \n",
       "...                                                                ...    ...   \n",
       "61325                             okuzimu maisho ruhanga ejwaire busha      4   \n",
       "61326                                 kandi nyamuteza taine okweshweka      4   \n",
       "61327                        akabamba obukiizibwabumosho mwanya kwonka      4   \n",
       "61328                                     ensi yaagihanika ahari busha      4   \n",
       "61329                                   yaakoma amaizi bicu bikwataine      4   \n",
       "\n",
       "       acholi  english  luganda  lumasaba  runyankore  swahili  \n",
       "0           0        1        0         0           0        0  \n",
       "1           0        1        0         0           0        0  \n",
       "2           0        1        0         0           0        0  \n",
       "3           0        1        0         0           0        0  \n",
       "4           0        1        0         0           0        0  \n",
       "...       ...      ...      ...       ...         ...      ...  \n",
       "61325       0        0        0         0           1        0  \n",
       "61326       0        0        0         0           1        0  \n",
       "61327       0        0        0         0           1        0  \n",
       "61328       0        0        0         0           1        0  \n",
       "61329       0        0        0         0           1        0  \n",
       "\n",
       "[61330 rows x 8 columns]"
      ]
     },
     "execution_count": 83,
     "metadata": {},
     "output_type": "execute_result"
    }
   ],
   "source": [
    "new_data"
   ]
  },
  {
   "cell_type": "code",
   "execution_count": 84,
   "metadata": {},
   "outputs": [
    {
     "data": {
      "text/plain": [
       "Text(0, 0.5, 'Counts')"
      ]
     },
     "execution_count": 84,
     "metadata": {},
     "output_type": "execute_result"
    },
    {
     "data": {
      "image/png": "[encoded data removed]",
      "text/plain": [
       "<Figure size 720x360 with 1 Axes>"
      ]
     },
     "metadata": {
      "needs_background": "light"
     },
     "output_type": "display_data"
    }
   ],
   "source": [
    "fold_distributions=new_data.groupby('folds')[['english','acholi','luganda','lumasaba','runyankore','swahili']].sum()\n",
    "plt.rcParams[\"figure.figsize\"] = (10,5)\n",
    "fold_distributions.rename({0:'Fold 0',1:'Fold 1',2:'Fold 2',3:'Fold 3',4:'Fold 4'}).plot(kind='bar')\n",
    "plt.ylabel('Counts')"
   ]
  },
  {
   "cell_type": "code",
   "execution_count": 87,
   "metadata": {},
   "outputs": [],
   "source": [
    "new_data.to_csv('../data/processed/processed_2.csv',index=False)    #save processed data"
   ]
  },
  {
   "cell_type": "code",
   "execution_count": 88,
   "metadata": {},
   "outputs": [],
   "source": [
    "import pandas as pd\n",
    "from collections import Counter"
   ]
  },
  {
   "cell_type": "code",
   "execution_count": 89,
   "metadata": {},
   "outputs": [],
   "source": [
    "count = Counter()\n",
    "for i in new_data.text.values:\n",
    "    for word in i.split():\n",
    "        count[word]+=1"
   ]
  },
  {
   "cell_type": "code",
   "execution_count": 90,
   "metadata": {},
   "outputs": [
    {
     "data": {
      "text/plain": [
       "85499"
      ]
     },
     "execution_count": 90,
     "metadata": {},
     "output_type": "execute_result"
    }
   ],
   "source": [
    "len(count)"
   ]
  },
  {
   "cell_type": "code",
   "execution_count": null,
   "metadata": {},
   "outputs": [],
   "source": []
  }
 ],
 "metadata": {
  "kernelspec": {
   "display_name": "Python 3 (ipykernel)",
   "language": "python",
   "name": "python3"
  },
  "language_info": {
   "codemirror_mode": {
    "name": "ipython",
    "version": 3
   },
   "file_extension": ".py",
   "mimetype": "text/x-python",
   "name": "python",
   "nbconvert_exporter": "python",
   "pygments_lexer": "ipython3",
   "version": "3.9.12"
  }
 },
 "nbformat": 4,
 "nbformat_minor": 1
}
