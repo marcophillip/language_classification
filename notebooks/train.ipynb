{
 "cells": [
  {
   "cell_type": "code",
   "execution_count": 9,
   "id": "5c1fc41b",
   "metadata": {},
   "outputs": [],
   "source": [
    "import pandas as pd\n",
    "import tensorflow as tf\n",
    "from tensorflow.keras.preprocessing.text import Tokenizer\n",
    "from tensorflow.keras.preprocessing.sequence import pad_sequences\n",
    "import sys\n",
    "import os\n",
    "from config import Config\n",
    "from models import transformer\n",
    "from losses import *\n",
    "import numpy as np\n",
    "from collections import Counter\n",
    "import matplotlib.pyplot as plt\n",
    "import re"
   ]
  },
  {
   "cell_type": "code",
   "execution_count": 2,
   "id": "22d03f7d",
   "metadata": {},
   "outputs": [],
   "source": [
    "new_data = pd.read_csv('../data/processed/processed_6.csv')"
   ]
  },
  {
   "cell_type": "code",
   "execution_count": 3,
   "id": "825b336d",
   "metadata": {},
   "outputs": [],
   "source": [
    "train_data=new_data[new_data.folds.isin([0,1,2])].reset_index(drop=True)\n",
    "# train_data=shuffle(train_data).reset_index().drop(columns='index')\n",
    "val_data = new_data[new_data.folds==3].reset_index().drop(columns='index')\n",
    "test_data = new_data[new_data.folds==4].reset_index().drop(columns='index')"
   ]
  },
  {
   "cell_type": "code",
   "execution_count": 4,
   "id": "e5246b3d",
   "metadata": {},
   "outputs": [
    {
     "data": {
      "text/html": [
       "<div>\n",
       "<style scoped>\n",
       "    .dataframe tbody tr th:only-of-type {\n",
       "        vertical-align: middle;\n",
       "    }\n",
       "\n",
       "    .dataframe tbody tr th {\n",
       "        vertical-align: top;\n",
       "    }\n",
       "\n",
       "    .dataframe thead th {\n",
       "        text-align: right;\n",
       "    }\n",
       "</style>\n",
       "<table border=\"1\" class=\"dataframe\">\n",
       "  <thead>\n",
       "    <tr style=\"text-align: right;\">\n",
       "      <th></th>\n",
       "      <th>text</th>\n",
       "      <th>folds</th>\n",
       "      <th>acholi</th>\n",
       "      <th>english</th>\n",
       "      <th>luganda</th>\n",
       "      <th>lumasaba</th>\n",
       "      <th>runyankore</th>\n",
       "      <th>swahili</th>\n",
       "    </tr>\n",
       "  </thead>\n",
       "  <tbody>\n",
       "    <tr>\n",
       "      <th>0</th>\n",
       "      <td>government constructed better health centers r...</td>\n",
       "      <td>0</td>\n",
       "      <td>0</td>\n",
       "      <td>1</td>\n",
       "      <td>0</td>\n",
       "      <td>0</td>\n",
       "      <td>0</td>\n",
       "      <td>0</td>\n",
       "    </tr>\n",
       "    <tr>\n",
       "      <th>1</th>\n",
       "      <td>company celebrated twenty years existence last...</td>\n",
       "      <td>0</td>\n",
       "      <td>0</td>\n",
       "      <td>1</td>\n",
       "      <td>0</td>\n",
       "      <td>0</td>\n",
       "      <td>0</td>\n",
       "      <td>0</td>\n",
       "    </tr>\n",
       "    <tr>\n",
       "      <th>2</th>\n",
       "      <td>many people have lost their lives sexually tra...</td>\n",
       "      <td>0</td>\n",
       "      <td>0</td>\n",
       "      <td>1</td>\n",
       "      <td>0</td>\n",
       "      <td>0</td>\n",
       "      <td>0</td>\n",
       "      <td>0</td>\n",
       "    </tr>\n",
       "    <tr>\n",
       "      <th>3</th>\n",
       "      <td>civil servants receive their pension fund upon...</td>\n",
       "      <td>0</td>\n",
       "      <td>0</td>\n",
       "      <td>1</td>\n",
       "      <td>0</td>\n",
       "      <td>0</td>\n",
       "      <td>0</td>\n",
       "      <td>0</td>\n",
       "    </tr>\n",
       "    <tr>\n",
       "      <th>4</th>\n",
       "      <td>teachers also among civil servants</td>\n",
       "      <td>0</td>\n",
       "      <td>0</td>\n",
       "      <td>1</td>\n",
       "      <td>0</td>\n",
       "      <td>0</td>\n",
       "      <td>0</td>\n",
       "      <td>0</td>\n",
       "    </tr>\n",
       "    <tr>\n",
       "      <th>...</th>\n",
       "      <td>...</td>\n",
       "      <td>...</td>\n",
       "      <td>...</td>\n",
       "      <td>...</td>\n",
       "      <td>...</td>\n",
       "      <td>...</td>\n",
       "      <td>...</td>\n",
       "      <td>...</td>\n",
       "    </tr>\n",
       "    <tr>\n",
       "      <th>130704</th>\n",
       "      <td>okuyiikuula obugagga ttaka kusobola okubeera a...</td>\n",
       "      <td>2</td>\n",
       "      <td>0</td>\n",
       "      <td>0</td>\n",
       "      <td>1</td>\n",
       "      <td>0</td>\n",
       "      <td>0</td>\n",
       "      <td>0</td>\n",
       "    </tr>\n",
       "    <tr>\n",
       "      <th>130705</th>\n",
       "      <td>biki ebyetaagisa okusobola okukola omulimu oku...</td>\n",
       "      <td>2</td>\n",
       "      <td>0</td>\n",
       "      <td>0</td>\n",
       "      <td>1</td>\n",
       "      <td>0</td>\n",
       "      <td>0</td>\n",
       "      <td>0</td>\n",
       "    </tr>\n",
       "    <tr>\n",
       "      <th>130706</th>\n",
       "      <td>gavumenti ekoze enteekateeka ennungi abantu ok...</td>\n",
       "      <td>2</td>\n",
       "      <td>0</td>\n",
       "      <td>0</td>\n",
       "      <td>1</td>\n",
       "      <td>0</td>\n",
       "      <td>0</td>\n",
       "      <td>0</td>\n",
       "    </tr>\n",
       "    <tr>\n",
       "      <th>130707</th>\n",
       "      <td>abantu balina okulya okunywa</td>\n",
       "      <td>2</td>\n",
       "      <td>0</td>\n",
       "      <td>0</td>\n",
       "      <td>1</td>\n",
       "      <td>0</td>\n",
       "      <td>0</td>\n",
       "      <td>0</td>\n",
       "    </tr>\n",
       "    <tr>\n",
       "      <th>130708</th>\n",
       "      <td>emboozi ejja kweyongela maaso</td>\n",
       "      <td>2</td>\n",
       "      <td>0</td>\n",
       "      <td>0</td>\n",
       "      <td>1</td>\n",
       "      <td>0</td>\n",
       "      <td>0</td>\n",
       "      <td>0</td>\n",
       "    </tr>\n",
       "  </tbody>\n",
       "</table>\n",
       "<p>130709 rows × 8 columns</p>\n",
       "</div>"
      ],
      "text/plain": [
       "                                                     text  folds  acholi  \\\n",
       "0       government constructed better health centers r...      0       0   \n",
       "1       company celebrated twenty years existence last...      0       0   \n",
       "2       many people have lost their lives sexually tra...      0       0   \n",
       "3       civil servants receive their pension fund upon...      0       0   \n",
       "4                      teachers also among civil servants      0       0   \n",
       "...                                                   ...    ...     ...   \n",
       "130704  okuyiikuula obugagga ttaka kusobola okubeera a...      2       0   \n",
       "130705  biki ebyetaagisa okusobola okukola omulimu oku...      2       0   \n",
       "130706  gavumenti ekoze enteekateeka ennungi abantu ok...      2       0   \n",
       "130707                       abantu balina okulya okunywa      2       0   \n",
       "130708                      emboozi ejja kweyongela maaso      2       0   \n",
       "\n",
       "        english  luganda  lumasaba  runyankore  swahili  \n",
       "0             1        0         0           0        0  \n",
       "1             1        0         0           0        0  \n",
       "2             1        0         0           0        0  \n",
       "3             1        0         0           0        0  \n",
       "4             1        0         0           0        0  \n",
       "...         ...      ...       ...         ...      ...  \n",
       "130704        0        1         0           0        0  \n",
       "130705        0        1         0           0        0  \n",
       "130706        0        1         0           0        0  \n",
       "130707        0        1         0           0        0  \n",
       "130708        0        1         0           0        0  \n",
       "\n",
       "[130709 rows x 8 columns]"
      ]
     },
     "execution_count": 4,
     "metadata": {},
     "output_type": "execute_result"
    }
   ],
   "source": [
    "train_data"
   ]
  },
  {
   "cell_type": "code",
   "execution_count": 20,
   "id": "d838fcb1",
   "metadata": {},
   "outputs": [
    {
     "data": {
      "text/plain": [
       "' this is a boy />'"
      ]
     },
     "execution_count": 20,
     "metadata": {},
     "output_type": "execute_result"
    }
   ],
   "source": [
    "re.sub('<.*?>','','<html> this is a boy />')"
   ]
  },
  {
   "cell_type": "code",
   "execution_count": 28,
   "id": "d51101d7",
   "metadata": {},
   "outputs": [],
   "source": []
  },
  {
   "cell_type": "code",
   "execution_count": 29,
   "id": "7c549168",
   "metadata": {},
   "outputs": [
    {
     "data": {
      "text/html": [
       "<div>\n",
       "<style scoped>\n",
       "    .dataframe tbody tr th:only-of-type {\n",
       "        vertical-align: middle;\n",
       "    }\n",
       "\n",
       "    .dataframe tbody tr th {\n",
       "        vertical-align: top;\n",
       "    }\n",
       "\n",
       "    .dataframe thead th {\n",
       "        text-align: right;\n",
       "    }\n",
       "</style>\n",
       "<table border=\"1\" class=\"dataframe\">\n",
       "  <thead>\n",
       "    <tr style=\"text-align: right;\">\n",
       "      <th></th>\n",
       "      <th>text</th>\n",
       "      <th>folds</th>\n",
       "      <th>acholi</th>\n",
       "      <th>english</th>\n",
       "      <th>luganda</th>\n",
       "      <th>lumasaba</th>\n",
       "      <th>runyankore</th>\n",
       "      <th>swahili</th>\n",
       "    </tr>\n",
       "  </thead>\n",
       "  <tbody>\n",
       "  </tbody>\n",
       "</table>\n",
       "</div>"
      ],
      "text/plain": [
       "Empty DataFrame\n",
       "Columns: [text, folds, acholi, english, luganda, lumasaba, runyankore, swahili]\n",
       "Index: []"
      ]
     },
     "execution_count": 29,
     "metadata": {},
     "output_type": "execute_result"
    }
   ],
   "source": [
    "train_data[v]"
   ]
  },
  {
   "cell_type": "code",
   "execution_count": 5,
   "id": "ca5c024e",
   "metadata": {},
   "outputs": [],
   "source": [
    "# train_corpus = ' '.join(train_data.text.values.tolist())\n",
    "unique_word_count = Counter()\n",
    "for i in train_data.text.values:\n",
    "    for word in i.split():\n",
    "        unique_word_count[word]+=1"
   ]
  },
  {
   "cell_type": "code",
   "execution_count": 6,
   "id": "40b6a910",
   "metadata": {},
   "outputs": [],
   "source": [
    "word_counts=list(unique_word_count.values())\n",
    "words=list(unique_word_count.keys())\n",
    "indexes = sorted(range(len(word_counts)), key=lambda k: word_counts[k])\n",
    "sorted_words=np.array(words)[indexes]\n",
    "sorted_word_counts=np.array(word_counts)[indexes]"
   ]
  },
  {
   "cell_type": "code",
   "execution_count": 7,
   "id": "09c468f9",
   "metadata": {},
   "outputs": [],
   "source": [
    "word_number=list(Counter(sorted_word_counts).keys())\n",
    "word_number = [str(x) for x in word_number]\n",
    "word_number_count=list(Counter(sorted_word_counts).values())"
   ]
  },
  {
   "cell_type": "code",
   "execution_count": 8,
   "id": "9c316f2d",
   "metadata": {},
   "outputs": [
    {
     "data": {
      "text/plain": [
       "Text(0, 0.5, 'Counts')"
      ]
     },
     "execution_count": 8,
     "metadata": {},
     "output_type": "execute_result"
    },
    {
     "data": {
      "image/png": "[encoded data removed]",
      "text/plain": [
       "<Figure size 640x480 with 1 Axes>"
      ]
     },
     "metadata": {},
     "output_type": "display_data"
    }
   ],
   "source": [
    "plt.bar(word_number[:30],word_number_count[:30])\n",
    "plt.xticks(rotation=90)\n",
    "plt.title(\"Word Counts\")\n",
    "plt.xlabel(\"Word number\")\n",
    "plt.ylabel(\"Counts\")"
   ]
  },
  {
   "cell_type": "code",
   "execution_count": 9,
   "id": "aa611426",
   "metadata": {},
   "outputs": [],
   "source": [
    "tokenizer = Tokenizer(num_words=len(unique_word_count))\n",
    "tokenizer.fit_on_texts(train_data.text)"
   ]
  },
  {
   "cell_type": "code",
   "execution_count": 10,
   "id": "ce35b1e2",
   "metadata": {},
   "outputs": [],
   "source": [
    "max_length=8\n",
    "train_sequences=tokenizer.texts_to_sequences(train_data.text)\n",
    "train_padded_sequences = pad_sequences(train_sequences,maxlen=max_length,padding='post',truncating='post')\n",
    "\n",
    "val_sequences=tokenizer.texts_to_sequences(val_data.text)\n",
    "val_padded_sequences = pad_sequences(val_sequences,maxlen=max_length,padding='post',truncating='post')\n",
    "\n",
    "test_sequences=tokenizer.texts_to_sequences(test_data.text)\n",
    "test_padded_sequences = pad_sequences(test_sequences,maxlen=max_length,padding='post',truncating='post')"
   ]
  },
  {
   "cell_type": "code",
   "execution_count": 11,
   "id": "7153af26",
   "metadata": {},
   "outputs": [
    {
     "data": {
      "text/plain": [
       "acholi        33193\n",
       "english       15157\n",
       "luganda       16993\n",
       "lumasaba      18639\n",
       "runyankore    22218\n",
       "swahili       24509\n",
       "dtype: int64"
      ]
     },
     "execution_count": 11,
     "metadata": {},
     "output_type": "execute_result"
    }
   ],
   "source": [
    "train_data.iloc[:,2:].sum()"
   ]
  },
  {
   "cell_type": "code",
   "execution_count": 27,
   "id": "becbdeb2",
   "metadata": {
    "scrolled": true
   },
   "outputs": [
    {
     "name": "stdout",
     "output_type": "stream",
     "text": [
      "Model: \"model_1\"\n",
      "_________________________________________________________________\n",
      "Layer (type)                 Output Shape              Param #   \n",
      "=================================================================\n",
      "input_2 (InputLayer)         [(None, 8)]               0         \n",
      "_________________________________________________________________\n",
      "token_and_position_embedding (None, 8, 32)             3774336   \n",
      "_________________________________________________________________\n",
      "transformer_block_1 (Transfo (None, 8, 32)             30560     \n",
      "_________________________________________________________________\n",
      "global_average_pooling1d_1 ( (None, 32)                0         \n",
      "_________________________________________________________________\n",
      "dropout_5 (Dropout)          (None, 32)                0         \n",
      "_________________________________________________________________\n",
      "dense_7 (Dense)              (None, 6)                 198       \n",
      "=================================================================\n",
      "Total params: 3,805,094\n",
      "Trainable params: 3,805,094\n",
      "Non-trainable params: 0\n",
      "_________________________________________________________________\n",
      "Epoch 1/100\n",
      "256/256 [==============================] - 13s 40ms/step - loss: 3.9276 - accuracy: 0.1900 - val_loss: 5.3946 - val_accuracy: 0.1720\n",
      "Epoch 2/100\n",
      "256/256 [==============================] - 10s 38ms/step - loss: 5.4097 - accuracy: 0.1968 - val_loss: 4.8500 - val_accuracy: 0.2289\n",
      "Epoch 3/100\n",
      "256/256 [==============================] - 10s 38ms/step - loss: 4.9318 - accuracy: 0.2183 - val_loss: 4.3883 - val_accuracy: 0.2565\n",
      "Epoch 4/100\n",
      "256/256 [==============================] - 10s 38ms/step - loss: 4.4391 - accuracy: 0.2572 - val_loss: 3.9615 - val_accuracy: 0.2970\n",
      "Epoch 5/100\n",
      "256/256 [==============================] - 10s 38ms/step - loss: 4.0073 - accuracy: 0.3238 - val_loss: 3.5639 - val_accuracy: 0.3965\n",
      "Epoch 6/100\n",
      "256/256 [==============================] - 10s 38ms/step - loss: 3.5945 - accuracy: 0.4301 - val_loss: 3.1658 - val_accuracy: 0.5369\n",
      "Epoch 7/100\n",
      "256/256 [==============================] - 10s 38ms/step - loss: 3.1592 - accuracy: 0.5644 - val_loss: 2.7821 - val_accuracy: 0.6556\n",
      "Epoch 8/100\n",
      "256/256 [==============================] - 10s 38ms/step - loss: 2.7968 - accuracy: 0.6654 - val_loss: 2.4727 - val_accuracy: 0.7293\n",
      "Epoch 9/100\n",
      "256/256 [==============================] - 10s 38ms/step - loss: 2.3944 - accuracy: 0.7437 - val_loss: 2.1940 - val_accuracy: 0.7780\n",
      "Epoch 10/100\n",
      "256/256 [==============================] - 10s 38ms/step - loss: 2.1403 - accuracy: 0.7901 - val_loss: 1.9143 - val_accuracy: 0.8178\n",
      "Epoch 11/100\n",
      "256/256 [==============================] - 10s 38ms/step - loss: 1.8850 - accuracy: 0.8301 - val_loss: 1.6936 - val_accuracy: 0.8454\n",
      "Epoch 12/100\n",
      "256/256 [==============================] - 10s 39ms/step - loss: 1.6443 - accuracy: 0.8591 - val_loss: 1.5490 - val_accuracy: 0.8676\n",
      "Epoch 13/100\n",
      "256/256 [==============================] - 10s 38ms/step - loss: 1.4495 - accuracy: 0.8822 - val_loss: 1.3867 - val_accuracy: 0.8832\n",
      "Epoch 14/100\n",
      "256/256 [==============================] - 10s 38ms/step - loss: 1.2931 - accuracy: 0.8974 - val_loss: 1.2780 - val_accuracy: 0.8951\n",
      "Epoch 15/100\n",
      "256/256 [==============================] - 10s 39ms/step - loss: 1.1413 - accuracy: 0.9128 - val_loss: 1.1447 - val_accuracy: 0.9064\n",
      "Epoch 16/100\n",
      "256/256 [==============================] - 10s 38ms/step - loss: 0.9901 - accuracy: 0.9260 - val_loss: 1.0654 - val_accuracy: 0.9144\n",
      "Epoch 17/100\n",
      "256/256 [==============================] - 10s 38ms/step - loss: 0.8789 - accuracy: 0.9355 - val_loss: 0.9699 - val_accuracy: 0.9232\n",
      "Epoch 18/100\n",
      "256/256 [==============================] - 10s 39ms/step - loss: 0.7790 - accuracy: 0.9448 - val_loss: 0.8991 - val_accuracy: 0.9280\n",
      "Epoch 19/100\n",
      "256/256 [==============================] - 10s 38ms/step - loss: 0.7053 - accuracy: 0.9493 - val_loss: 0.8492 - val_accuracy: 0.9337\n",
      "Epoch 20/100\n",
      "256/256 [==============================] - 10s 38ms/step - loss: 0.5995 - accuracy: 0.9586 - val_loss: 0.7669 - val_accuracy: 0.9390\n",
      "Epoch 21/100\n",
      "256/256 [==============================] - 10s 38ms/step - loss: 0.5445 - accuracy: 0.9628 - val_loss: 0.7458 - val_accuracy: 0.9428\n",
      "Epoch 22/100\n",
      "256/256 [==============================] - 10s 38ms/step - loss: 0.4834 - accuracy: 0.9678 - val_loss: 0.6790 - val_accuracy: 0.9467\n",
      "Epoch 23/100\n",
      "256/256 [==============================] - 10s 39ms/step - loss: 0.4372 - accuracy: 0.9716 - val_loss: 0.6608 - val_accuracy: 0.9494\n",
      "Epoch 24/100\n",
      "256/256 [==============================] - 10s 39ms/step - loss: 0.3854 - accuracy: 0.9751 - val_loss: 0.6013 - val_accuracy: 0.9524\n",
      "Epoch 25/100\n",
      "256/256 [==============================] - 10s 38ms/step - loss: 0.3370 - accuracy: 0.9788 - val_loss: 0.5830 - val_accuracy: 0.9551\n",
      "Epoch 26/100\n",
      "256/256 [==============================] - 10s 38ms/step - loss: 0.3029 - accuracy: 0.9805 - val_loss: 0.5435 - val_accuracy: 0.9569\n",
      "Epoch 27/100\n",
      "256/256 [==============================] - 10s 38ms/step - loss: 0.2831 - accuracy: 0.9824 - val_loss: 0.5178 - val_accuracy: 0.9594\n",
      "Epoch 28/100\n",
      "256/256 [==============================] - 10s 38ms/step - loss: 0.2506 - accuracy: 0.9846 - val_loss: 0.5001 - val_accuracy: 0.9615\n",
      "Epoch 29/100\n",
      "256/256 [==============================] - 10s 38ms/step - loss: 0.2132 - accuracy: 0.9876 - val_loss: 0.4639 - val_accuracy: 0.9630\n",
      "Epoch 30/100\n",
      "256/256 [==============================] - 10s 39ms/step - loss: 0.1907 - accuracy: 0.9884 - val_loss: 0.4555 - val_accuracy: 0.9646\n",
      "Epoch 31/100\n",
      "256/256 [==============================] - 10s 38ms/step - loss: 0.1777 - accuracy: 0.9897 - val_loss: 0.4259 - val_accuracy: 0.9650\n",
      "Epoch 32/100\n",
      "256/256 [==============================] - 10s 38ms/step - loss: 0.1589 - accuracy: 0.9906 - val_loss: 0.4181 - val_accuracy: 0.9669\n",
      "Epoch 33/100\n",
      "256/256 [==============================] - 10s 39ms/step - loss: 0.1389 - accuracy: 0.9918 - val_loss: 0.4121 - val_accuracy: 0.9676\n",
      "Epoch 34/100\n",
      "256/256 [==============================] - 10s 39ms/step - loss: 0.1272 - accuracy: 0.9925 - val_loss: 0.4017 - val_accuracy: 0.9689\n",
      "Epoch 35/100\n",
      "256/256 [==============================] - 10s 38ms/step - loss: 0.1139 - accuracy: 0.9933 - val_loss: 0.3805 - val_accuracy: 0.9706\n",
      "Epoch 36/100\n",
      "256/256 [==============================] - 10s 38ms/step - loss: 0.1030 - accuracy: 0.9940 - val_loss: 0.3747 - val_accuracy: 0.9716\n",
      "Epoch 37/100\n",
      "256/256 [==============================] - 10s 39ms/step - loss: 0.0905 - accuracy: 0.9951 - val_loss: 0.3815 - val_accuracy: 0.9719\n",
      "Epoch 38/100\n",
      "256/256 [==============================] - 10s 38ms/step - loss: 0.0804 - accuracy: 0.9959 - val_loss: 0.3665 - val_accuracy: 0.9727\n",
      "Epoch 39/100\n",
      "256/256 [==============================] - 10s 38ms/step - loss: 0.0801 - accuracy: 0.9955 - val_loss: 0.3483 - val_accuracy: 0.9740\n",
      "Epoch 40/100\n",
      "256/256 [==============================] - 10s 38ms/step - loss: 0.0720 - accuracy: 0.9963 - val_loss: 0.3491 - val_accuracy: 0.9746\n",
      "Epoch 41/100\n",
      "256/256 [==============================] - 10s 38ms/step - loss: 0.0630 - accuracy: 0.9967 - val_loss: 0.3456 - val_accuracy: 0.9756\n",
      "Epoch 42/100\n",
      "256/256 [==============================] - 10s 39ms/step - loss: 0.0536 - accuracy: 0.9973 - val_loss: 0.3204 - val_accuracy: 0.9762\n",
      "Epoch 43/100\n",
      "256/256 [==============================] - 10s 38ms/step - loss: 0.0510 - accuracy: 0.9974 - val_loss: 0.3390 - val_accuracy: 0.9765\n",
      "Epoch 44/100\n",
      "256/256 [==============================] - 10s 38ms/step - loss: 0.0437 - accuracy: 0.9978 - val_loss: 0.3594 - val_accuracy: 0.9764\n",
      "Epoch 45/100\n",
      "256/256 [==============================] - 10s 38ms/step - loss: 0.0418 - accuracy: 0.9979 - val_loss: 0.3256 - val_accuracy: 0.9774\n",
      "Epoch 46/100\n",
      "256/256 [==============================] - 10s 39ms/step - loss: 0.0370 - accuracy: 0.9982 - val_loss: 0.3090 - val_accuracy: 0.9779\n",
      "Epoch 47/100\n",
      "256/256 [==============================] - 10s 39ms/step - loss: 0.0342 - accuracy: 0.9982 - val_loss: 0.3159 - val_accuracy: 0.9783\n",
      "Epoch 48/100\n",
      "256/256 [==============================] - 10s 38ms/step - loss: 0.0312 - accuracy: 0.9985 - val_loss: 0.3239 - val_accuracy: 0.9783\n",
      "Epoch 49/100\n",
      "256/256 [==============================] - 10s 38ms/step - loss: 0.0281 - accuracy: 0.9988 - val_loss: 0.2913 - val_accuracy: 0.9788\n",
      "Epoch 50/100\n",
      "256/256 [==============================] - 10s 38ms/step - loss: 0.0258 - accuracy: 0.9987 - val_loss: 0.3070 - val_accuracy: 0.9789\n",
      "Epoch 51/100\n",
      "256/256 [==============================] - 10s 38ms/step - loss: 0.0242 - accuracy: 0.9989 - val_loss: 0.3109 - val_accuracy: 0.9795\n",
      "Epoch 52/100\n",
      "256/256 [==============================] - 10s 38ms/step - loss: 0.0235 - accuracy: 0.9990 - val_loss: 0.2878 - val_accuracy: 0.9801\n",
      "Epoch 53/100\n",
      "256/256 [==============================] - 10s 38ms/step - loss: 0.0193 - accuracy: 0.9992 - val_loss: 0.2959 - val_accuracy: 0.9803\n",
      "Epoch 54/100\n",
      "256/256 [==============================] - 10s 38ms/step - loss: 0.0171 - accuracy: 0.9993 - val_loss: 0.2943 - val_accuracy: 0.9805\n",
      "Epoch 55/100\n",
      "256/256 [==============================] - 10s 38ms/step - loss: 0.0204 - accuracy: 0.9990 - val_loss: 0.3067 - val_accuracy: 0.9807\n",
      "Epoch 56/100\n",
      "256/256 [==============================] - 10s 39ms/step - loss: 0.0162 - accuracy: 0.9993 - val_loss: 0.3072 - val_accuracy: 0.9811\n",
      "Epoch 57/100\n",
      "256/256 [==============================] - 10s 38ms/step - loss: 0.0148 - accuracy: 0.9994 - val_loss: 0.3358 - val_accuracy: 0.9806\n",
      "Epoch 58/100\n",
      "256/256 [==============================] - 10s 38ms/step - loss: 0.0136 - accuracy: 0.9995 - val_loss: 0.2920 - val_accuracy: 0.9817\n",
      "Epoch 59/100\n",
      "256/256 [==============================] - 10s 38ms/step - loss: 0.0135 - accuracy: 0.9994 - val_loss: 0.2878 - val_accuracy: 0.9818\n",
      "Epoch 60/100\n",
      "256/256 [==============================] - 10s 39ms/step - loss: 0.0120 - accuracy: 0.9995 - val_loss: 0.2822 - val_accuracy: 0.9820\n",
      "Epoch 61/100\n",
      "256/256 [==============================] - 10s 38ms/step - loss: 0.0119 - accuracy: 0.9995 - val_loss: 0.2776 - val_accuracy: 0.9825\n",
      "Epoch 62/100\n",
      "256/256 [==============================] - 10s 39ms/step - loss: 0.0092 - accuracy: 0.9998 - val_loss: 0.2915 - val_accuracy: 0.9826\n",
      "Epoch 63/100\n",
      "256/256 [==============================] - 10s 38ms/step - loss: 0.0100 - accuracy: 0.9995 - val_loss: 0.2830 - val_accuracy: 0.9828\n",
      "Epoch 64/100\n",
      "256/256 [==============================] - 10s 38ms/step - loss: 0.0085 - accuracy: 0.9996 - val_loss: 0.3109 - val_accuracy: 0.9827\n",
      "Epoch 65/100\n",
      "256/256 [==============================] - 10s 39ms/step - loss: 0.0092 - accuracy: 0.9997 - val_loss: 0.3034 - val_accuracy: 0.9829\n",
      "Epoch 66/100\n",
      "256/256 [==============================] - 10s 38ms/step - loss: 0.0074 - accuracy: 0.9998 - val_loss: 0.2931 - val_accuracy: 0.9834\n",
      "Epoch 67/100\n",
      "256/256 [==============================] - 10s 38ms/step - loss: 0.0068 - accuracy: 0.9998 - val_loss: 0.2691 - val_accuracy: 0.9839\n",
      "Epoch 68/100\n",
      "256/256 [==============================] - 10s 38ms/step - loss: 0.0062 - accuracy: 0.9998 - val_loss: 0.2864 - val_accuracy: 0.9836\n",
      "Epoch 69/100\n",
      "256/256 [==============================] - 10s 38ms/step - loss: 0.0064 - accuracy: 0.9997 - val_loss: 0.2777 - val_accuracy: 0.9841\n",
      "Epoch 70/100\n",
      "256/256 [==============================] - 10s 39ms/step - loss: 0.0055 - accuracy: 0.9998 - val_loss: 0.2744 - val_accuracy: 0.9844\n",
      "Epoch 71/100\n",
      "256/256 [==============================] - 10s 38ms/step - loss: 0.0046 - accuracy: 0.9999 - val_loss: 0.2795 - val_accuracy: 0.9843\n",
      "Epoch 72/100\n",
      "256/256 [==============================] - 10s 38ms/step - loss: 0.0049 - accuracy: 0.9998 - val_loss: 0.2764 - val_accuracy: 0.9846\n",
      "Epoch 73/100\n",
      "256/256 [==============================] - 10s 38ms/step - loss: 0.0042 - accuracy: 0.9999 - val_loss: 0.2884 - val_accuracy: 0.9843\n",
      "Epoch 74/100\n",
      "256/256 [==============================] - 10s 38ms/step - loss: 0.0040 - accuracy: 0.9999 - val_loss: 0.2735 - val_accuracy: 0.9849\n",
      "Epoch 75/100\n",
      "256/256 [==============================] - 10s 38ms/step - loss: 0.0035 - accuracy: 0.9999 - val_loss: 0.2772 - val_accuracy: 0.9850\n",
      "Epoch 76/100\n",
      "256/256 [==============================] - 10s 39ms/step - loss: 0.0033 - accuracy: 0.9999 - val_loss: 0.2705 - val_accuracy: 0.9852\n",
      "Epoch 77/100\n",
      "256/256 [==============================] - 10s 38ms/step - loss: 0.0031 - accuracy: 0.9999 - val_loss: 0.2777 - val_accuracy: 0.9852\n",
      "Epoch 78/100\n",
      "256/256 [==============================] - 10s 38ms/step - loss: 0.0031 - accuracy: 0.9999 - val_loss: 0.2698 - val_accuracy: 0.9855\n",
      "Epoch 79/100\n",
      "256/256 [==============================] - 10s 38ms/step - loss: 0.0028 - accuracy: 0.9999 - val_loss: 0.2747 - val_accuracy: 0.9856\n",
      "Epoch 80/100\n",
      "256/256 [==============================] - 10s 38ms/step - loss: 0.0026 - accuracy: 0.9999 - val_loss: 0.2738 - val_accuracy: 0.9857\n",
      "Epoch 81/100\n",
      "256/256 [==============================] - 10s 38ms/step - loss: 0.0027 - accuracy: 0.9999 - val_loss: 0.2713 - val_accuracy: 0.9857\n",
      "Epoch 82/100\n",
      "256/256 [==============================] - 10s 38ms/step - loss: 0.0021 - accuracy: 1.0000 - val_loss: 0.2647 - val_accuracy: 0.9862\n",
      "Epoch 83/100\n",
      "256/256 [==============================] - 10s 38ms/step - loss: 0.0024 - accuracy: 0.9999 - val_loss: 0.2630 - val_accuracy: 0.9861\n",
      "Epoch 84/100\n",
      "256/256 [==============================] - 10s 38ms/step - loss: 0.0018 - accuracy: 1.0000 - val_loss: 0.2734 - val_accuracy: 0.9860\n",
      "Epoch 85/100\n",
      "256/256 [==============================] - 10s 38ms/step - loss: 0.0019 - accuracy: 1.0000 - val_loss: 0.2764 - val_accuracy: 0.9861\n",
      "Epoch 86/100\n",
      "256/256 [==============================] - 10s 39ms/step - loss: 0.0017 - accuracy: 0.9999 - val_loss: 0.2575 - val_accuracy: 0.9864\n",
      "Epoch 87/100\n",
      "256/256 [==============================] - 10s 38ms/step - loss: 0.0016 - accuracy: 1.0000 - val_loss: 0.2730 - val_accuracy: 0.9863\n",
      "Epoch 88/100\n",
      "256/256 [==============================] - 10s 39ms/step - loss: 0.0017 - accuracy: 0.9999 - val_loss: 0.2726 - val_accuracy: 0.9864\n",
      "Epoch 89/100\n",
      "256/256 [==============================] - 10s 39ms/step - loss: 0.0015 - accuracy: 1.0000 - val_loss: 0.2686 - val_accuracy: 0.9867\n",
      "Epoch 90/100\n",
      "256/256 [==============================] - 10s 38ms/step - loss: 0.0013 - accuracy: 1.0000 - val_loss: 0.2698 - val_accuracy: 0.9867\n",
      "Epoch 91/100\n",
      "256/256 [==============================] - 10s 39ms/step - loss: 0.0012 - accuracy: 0.9999 - val_loss: 0.2637 - val_accuracy: 0.9868\n",
      "Epoch 92/100\n",
      "256/256 [==============================] - 10s 39ms/step - loss: 0.0013 - accuracy: 1.0000 - val_loss: 0.2583 - val_accuracy: 0.9873\n",
      "Epoch 93/100\n",
      "256/256 [==============================] - 10s 39ms/step - loss: 0.0010 - accuracy: 1.0000 - val_loss: 0.2534 - val_accuracy: 0.9874\n",
      "Epoch 94/100\n",
      "256/256 [==============================] - 10s 38ms/step - loss: 9.9028e-04 - accuracy: 1.0000 - val_loss: 0.2603 - val_accuracy: 0.9875\n",
      "Epoch 95/100\n",
      "256/256 [==============================] - 10s 38ms/step - loss: 9.6524e-04 - accuracy: 1.0000 - val_loss: 0.2602 - val_accuracy: 0.9874\n",
      "Epoch 96/100\n",
      "256/256 [==============================] - 10s 38ms/step - loss: 8.9188e-04 - accuracy: 1.0000 - val_loss: 0.2690 - val_accuracy: 0.9876\n",
      "Epoch 97/100\n",
      "256/256 [==============================] - 10s 38ms/step - loss: 8.1978e-04 - accuracy: 1.0000 - val_loss: 0.2732 - val_accuracy: 0.9875\n",
      "Epoch 98/100\n",
      "256/256 [==============================] - 10s 38ms/step - loss: 7.6138e-04 - accuracy: 1.0000 - val_loss: 0.2655 - val_accuracy: 0.9877\n",
      "Epoch 99/100\n",
      "256/256 [==============================] - 10s 38ms/step - loss: 7.5046e-04 - accuracy: 1.0000 - val_loss: 0.2714 - val_accuracy: 0.9877\n",
      "Epoch 100/100\n",
      "256/256 [==============================] - 10s 38ms/step - loss: 6.5573e-04 - accuracy: 1.0000 - val_loss: 0.2684 - val_accuracy: 0.9877\n"
     ]
    },
    {
     "data": {
      "text/plain": [
       "<tensorflow.python.keras.callbacks.History at 0x7fca023242b0>"
      ]
     },
     "execution_count": 27,
     "metadata": {},
     "output_type": "execute_result"
    }
   ],
   "source": [
    "cp_callback = tf.keras.callbacks.ModelCheckpoint(\n",
    "                    filepath='/home/g007markphillip/language_classification2/weights/cp-{epoch:04d}.ckpt',\n",
    "                    save_weights_only=True,\n",
    "                    save_freq='epoch')\n",
    "\n",
    "w_array = np.ones([6,6])\n",
    "w_array[2,4]=10\n",
    "w_array[2,3]=10\n",
    "w_array[4,2]=15\n",
    "w_array[4,3]=15\n",
    "w_array[3,4]=10\n",
    "\n",
    "model = transformer(max_length=8,count=len(unique_word_count))\n",
    "optimizer = tf.keras.optimizers.Adam(1e-5)\n",
    "\n",
    "loss = WeightedCategoricalCrossentropy(w_array)\n",
    "\n",
    "model.compile(optimizer=optimizer,loss=loss,metrics=['accuracy'])\n",
    "model.summary()\n",
    "model.fit(train_padded_sequences, train_data[['english','acholi','luganda','lumasaba','runyankore','swahili']].values,\n",
    "      validation_data=(val_padded_sequences ,val_data[['english','acholi','luganda','lumasaba','runyankore','swahili']].values),\n",
    "      epochs=100,\n",
    "      batch_size=512,\n",
    "      callbacks=[cp_callback]\n",
    "         )"
   ]
  },
  {
   "cell_type": "code",
   "execution_count": 13,
   "id": "c1aa39a8",
   "metadata": {},
   "outputs": [
    {
     "ename": "SyntaxError",
     "evalue": "invalid syntax (3328484076.py, line 3)",
     "output_type": "error",
     "traceback": [
      "\u001b[0;36m  Input \u001b[0;32mIn [13]\u001b[0;36m\u001b[0m\n\u001b[0;31m    .\u001b[0m\n\u001b[0m    ^\u001b[0m\n\u001b[0;31mSyntaxError\u001b[0m\u001b[0;31m:\u001b[0m invalid syntax\n"
     ]
    }
   ],
   "source": [
    "# tf.train.latest_checkpoint('/home/g007markphillip/language_classification/weights/')\n",
    "# model.load_weights('/home/g007markphillip/language_classification/weights/cp-0004.ckpt')\n",
    "."
   ]
  },
  {
   "cell_type": "code",
   "execution_count": 28,
   "id": "41a34197",
   "metadata": {},
   "outputs": [],
   "source": [
    "import numpy as np\n",
    "pred_values=model.predict(test_padded_sequences)\n",
    "pred_values = np.argmax(pred_values,1).astype('int')\n",
    "true_values=test_data[['english','acholi','luganda','lumasaba','runyankore','swahili']].values\n",
    "true_values=np.argmax(true_values,1).astype('int')"
   ]
  },
  {
   "cell_type": "code",
   "execution_count": 29,
   "id": "60ea0a47",
   "metadata": {},
   "outputs": [
    {
     "data": {
      "text/plain": [
       "array([5, 5, 5, ..., 1, 1, 1])"
      ]
     },
     "execution_count": 29,
     "metadata": {},
     "output_type": "execute_result"
    }
   ],
   "source": [
    "pred_values"
   ]
  },
  {
   "cell_type": "code",
   "execution_count": 30,
   "id": "fb9e4bb2",
   "metadata": {},
   "outputs": [],
   "source": [
    "from sklearn.metrics import confusion_matrix\n",
    "import seaborn as sns\n",
    "cm=confusion_matrix(true_values,pred_values)\n",
    "\n",
    "cm_df=pd.DataFrame(cm,index=['english','acholi','luganda','lumasaba','runyankore','swahili'],\\\n",
    "                   columns=['english','acholi','luganda','lumasaba','runyankore','swahili'])"
   ]
  },
  {
   "cell_type": "code",
   "execution_count": 31,
   "id": "21619cfd",
   "metadata": {},
   "outputs": [
    {
     "data": {
      "text/plain": [
       "Text(0.5, 23.52222222222222, 'Y_PRED')"
      ]
     },
     "execution_count": 31,
     "metadata": {},
     "output_type": "execute_result"
    },
    {
     "data": {
      "image/png": "[encoded data removed]",
      "text/plain": [
       "<Figure size 640x480 with 2 Axes>"
      ]
     },
     "metadata": {},
     "output_type": "display_data"
    }
   ],
   "source": [
    "import matplotlib.pyplot as plt\n",
    "sns.heatmap(cm_df,annot=True)\n",
    "plt.ylabel('Y_TRUE')\n",
    "plt.xlabel('Y_PRED')"
   ]
  },
  {
   "cell_type": "code",
   "execution_count": 18,
   "id": "358a9f0e",
   "metadata": {},
   "outputs": [
    {
     "ename": "NameError",
     "evalue": "name 'dsf' is not defined",
     "output_type": "error",
     "traceback": [
      "\u001b[0;31m---------------------------------------------------------------------------\u001b[0m",
      "\u001b[0;31mNameError\u001b[0m                                 Traceback (most recent call last)",
      "Input \u001b[0;32mIn [18]\u001b[0m, in \u001b[0;36m<cell line: 1>\u001b[0;34m()\u001b[0m\n\u001b[0;32m----> 1\u001b[0m \u001b[43mdsf\u001b[49m\n",
      "\u001b[0;31mNameError\u001b[0m: name 'dsf' is not defined"
     ]
    }
   ],
   "source": [
    "dsf"
   ]
  },
  {
   "cell_type": "code",
   "execution_count": 32,
   "id": "47aa0956",
   "metadata": {},
   "outputs": [
    {
     "data": {
      "text/plain": [
       "Text(0.5, 23.52222222222222, 'Y_PRED')"
      ]
     },
     "execution_count": 32,
     "metadata": {},
     "output_type": "execute_result"
    },
    {
     "data": {
      "image/png": "[encoded data removed]",
      "text/plain": [
       "<Figure size 640x480 with 2 Axes>"
      ]
     },
     "metadata": {},
     "output_type": "display_data"
    }
   ],
   "source": [
    "import matplotlib.pyplot as plt\n",
    "sns.heatmap(cm_df,annot=True)\n",
    "plt.ylabel('Y_TRUE')\n",
    "plt.xlabel('Y_PRED')"
   ]
  },
  {
   "cell_type": "code",
   "execution_count": 33,
   "id": "83a1a76c",
   "metadata": {},
   "outputs": [
    {
     "name": "stdout",
     "output_type": "stream",
     "text": [
      "              precision    recall  f1-score   support\n",
      "\n",
      "           0       1.00      1.00      1.00      5052\n",
      "           1       1.00      1.00      1.00     11064\n",
      "           2       0.98      0.99      0.98      5664\n",
      "           3       0.98      0.99      0.99      6214\n",
      "           4       0.99      0.97      0.98      7406\n",
      "           5       1.00      1.00      1.00      8169\n",
      "\n",
      "    accuracy                           0.99     43569\n",
      "   macro avg       0.99      0.99      0.99     43569\n",
      "weighted avg       0.99      0.99      0.99     43569\n",
      "\n"
     ]
    }
   ],
   "source": [
    "from sklearn.metrics import classification_report\n",
    "print(classification_report(true_values,pred_values))"
   ]
  },
  {
   "cell_type": "code",
   "execution_count": 34,
   "id": "d4db5e82",
   "metadata": {},
   "outputs": [],
   "source": [
    "embeddings=model.layers[1](test_padded_sequences).numpy().sum(1)"
   ]
  },
  {
   "cell_type": "code",
   "execution_count": 35,
   "id": "8bbaa60c",
   "metadata": {},
   "outputs": [
    {
     "data": {
      "text/plain": [
       "(43569, 32)"
      ]
     },
     "execution_count": 35,
     "metadata": {},
     "output_type": "execute_result"
    }
   ],
   "source": [
    "embeddings.shape"
   ]
  },
  {
   "cell_type": "code",
   "execution_count": 36,
   "id": "1602de04",
   "metadata": {},
   "outputs": [],
   "source": [
    "inverse_classes={0:'english',1:'acholi',2:'luganda',3:'lumaasaba',4:'runyankore',5:'swahili'}\n",
    "vocab=pd.DataFrame(pred_values)[0].map(inverse_classes).tolist()"
   ]
  },
  {
   "cell_type": "code",
   "execution_count": 37,
   "id": "041f1aa0",
   "metadata": {},
   "outputs": [
    {
     "name": "stdout",
     "output_type": "stream",
     "text": [
      "'explore autoencoder.ipynb'   metadata_test_multi.tsv\r\n",
      " flagged\t\t      train.ipynb\r\n",
      " make_dataset_and_eda.ipynb   vectors_test_multi.tsv\r\n"
     ]
    }
   ],
   "source": [
    "!ls"
   ]
  },
  {
   "cell_type": "code",
   "execution_count": 39,
   "id": "50c25347",
   "metadata": {},
   "outputs": [],
   "source": [
    "import io\n",
    "out_v = io.open('vectors_test_multi.tsv', 'w', encoding='utf-8')\n",
    "out_m = io.open('metadata_test_multi.tsv', 'w', encoding='utf-8')\n",
    "\n",
    "for index, word in enumerate(vocab):\n",
    "    vec = embeddings[index]\n",
    "    out_v.write('\\t'.join([str(x) for x in vec]) + \"\\n\")\n",
    "    out_m.write(word + \"\\n\")\n",
    "out_v.close()\n",
    "out_m.close()"
   ]
  },
  {
   "cell_type": "code",
   "execution_count": null,
   "id": "7ff2b099",
   "metadata": {},
   "outputs": [],
   "source": [
    "text=np.array(['lakini ambacho zaidi ujumbe wachezaji wawili'])\n",
    "text = tokenizer.texts_to_sequences(text)\n",
    "text = pad_sequences(text,maxlen=max_length,padding='post',truncating='post')\n",
    "prediction = model.predict(text)\n",
    "\n",
    "prediction = np.argmax(prediction,1).astype('int').tolist()\n",
    "inverse_classes[prediction[0]]"
   ]
  },
  {
   "cell_type": "code",
   "execution_count": null,
   "id": "9e25aa5e",
   "metadata": {},
   "outputs": [],
   "source": []
  },
  {
   "cell_type": "code",
   "execution_count": null,
   "id": "ce339e03",
   "metadata": {
    "scrolled": true
   },
   "outputs": [],
   "source": [
    "import gradio as gr\n",
    "# dict_={value:key for key,value in classes.items()}\n",
    "\n",
    "\n",
    "def function_(input_):\n",
    "#     text=to_lower(remove_punctuation(input_))\n",
    "    text=np.array([input_])\n",
    "    text = tokenizer.texts_to_sequences(text)\n",
    "    text = pad_sequences(text,maxlen=max_length,padding='post',truncating='post')\n",
    "    prediction = model.predict(text)\n",
    "   \n",
    "    prediction = np.argmax(prediction,1).astype('int').tolist()\n",
    "    return inverse_classes[prediction[0]]\n",
    "\n",
    "\n",
    "ui = gr.Interface(\n",
    "    function_,\n",
    "    title=\"Language Classification\",\n",
    "    description='Enter Text',\n",
    "    inputs=gr.inputs.Textbox(lines=5),\n",
    "    outputs=gr.outputs.Textbox(label='Language')\n",
    ")\n",
    "ui.launch(share=True)"
   ]
  },
  {
   "cell_type": "code",
   "execution_count": null,
   "id": "e67362fa",
   "metadata": {},
   "outputs": [],
   "source": []
  },
  {
   "cell_type": "code",
   "execution_count": null,
   "id": "7722a7c9",
   "metadata": {},
   "outputs": [],
   "source": [
    "test_data[test_data.luganda==1]"
   ]
  },
  {
   "cell_type": "code",
   "execution_count": null,
   "id": "713d8599",
   "metadata": {},
   "outputs": [],
   "source": []
  },
  {
   "cell_type": "code",
   "execution_count": null,
   "id": "2472226b",
   "metadata": {},
   "outputs": [],
   "source": [
    "test_data=test_data[['text','english','acholi','luganda','lumasaba','runyankore','swahili']]"
   ]
  },
  {
   "cell_type": "code",
   "execution_count": null,
   "id": "7a1b6419",
   "metadata": {},
   "outputs": [],
   "source": [
    "false_pred_index=np.where((true_values!=pred_values)==True,)"
   ]
  },
  {
   "cell_type": "code",
   "execution_count": null,
   "id": "018355e0",
   "metadata": {},
   "outputs": [],
   "source": [
    "test_data.iloc[false_pred_index[0]]"
   ]
  },
  {
   "cell_type": "code",
   "execution_count": null,
   "id": "2b449075",
   "metadata": {},
   "outputs": [],
   "source": [
    "false_pred_classes=pred_values[true_values!=pred_values]"
   ]
  },
  {
   "cell_type": "code",
   "execution_count": null,
   "id": "f3ce47bd",
   "metadata": {},
   "outputs": [],
   "source": [
    "false_pred_classes"
   ]
  },
  {
   "cell_type": "code",
   "execution_count": null,
   "id": "61c48406",
   "metadata": {},
   "outputs": [],
   "source": [
    "test_data[true_values!=pred_values]"
   ]
  },
  {
   "cell_type": "code",
   "execution_count": null,
   "id": "62a5b7f0",
   "metadata": {},
   "outputs": [],
   "source": [
    "true_values"
   ]
  },
  {
   "cell_type": "code",
   "execution_count": null,
   "id": "42856fb1",
   "metadata": {},
   "outputs": [],
   "source": [
    "test_data"
   ]
  },
  {
   "cell_type": "code",
   "execution_count": null,
   "id": "fe39fcf1",
   "metadata": {},
   "outputs": [],
   "source": [
    "!ls ../data/processed"
   ]
  },
  {
   "cell_type": "code",
   "execution_count": null,
   "id": "297c212e",
   "metadata": {},
   "outputs": [],
   "source": [
    "test_meta=pd.read_csv('../data/processed/metadata_@40000.csv')"
   ]
  },
  {
   "cell_type": "code",
   "execution_count": null,
   "id": "9426d122",
   "metadata": {},
   "outputs": [],
   "source": [
    "classes_df=pd.get_dummies(test_meta['classes'])"
   ]
  },
  {
   "cell_type": "code",
   "execution_count": null,
   "id": "f7529313",
   "metadata": {},
   "outputs": [],
   "source": [
    "test_meta=pd.concat([test_meta['text'],classes_df],axis=1)"
   ]
  },
  {
   "cell_type": "code",
   "execution_count": null,
   "id": "6381138f",
   "metadata": {},
   "outputs": [],
   "source": [
    "test_meta=test_meta.drop(columns=['luo'])"
   ]
  },
  {
   "cell_type": "code",
   "execution_count": null,
   "id": "60aa51be",
   "metadata": {},
   "outputs": [],
   "source": [
    "test_meta[['acholi','english','lumasaba','runyankore']]=np.zeros([len(test_meta),4]).astype('int')"
   ]
  },
  {
   "cell_type": "code",
   "execution_count": null,
   "id": "cd3dd20b",
   "metadata": {},
   "outputs": [],
   "source": [
    "test_meta.iloc[:,1:].sum()"
   ]
  },
  {
   "cell_type": "code",
   "execution_count": null,
   "id": "524f39a7",
   "metadata": {},
   "outputs": [],
   "source": [
    "test_meta_sequences=tokenizer.texts_to_sequences(test_meta.text)\n",
    "test_meta_padded_sequences = pad_sequences(test_meta_sequences,maxlen=max_length,padding='post',truncating='post')"
   ]
  },
  {
   "cell_type": "code",
   "execution_count": null,
   "id": "4f963449",
   "metadata": {},
   "outputs": [],
   "source": [
    "import numpy as np\n",
    "pred_meta_values=model.predict(test_meta_padded_sequences)\n",
    "pred_meta_values = np.argmax(pred_meta_values,1).astype('int')\n",
    "true_meta_values=test_meta[['english','acholi','luganda','lumasaba','runyankore','swahili']].values\n",
    "true_meta_values=np.argmax(true_meta_values,1).astype('int')"
   ]
  },
  {
   "cell_type": "code",
   "execution_count": null,
   "id": "b3122cb3",
   "metadata": {},
   "outputs": [],
   "source": [
    "from sklearn.metrics import confusion_matrix\n",
    "import seaborn as sns\n",
    "cm=confusion_matrix(true_meta_values,pred_meta_values)\n",
    "\n",
    "cm_df=pd.DataFrame(cm,index=['english','acholi','luganda','lumasaba','runyankore','swahili'],\\\n",
    "                   columns=['english','acholi','luganda','lumasaba','runyankore','swahili'])"
   ]
  },
  {
   "cell_type": "code",
   "execution_count": null,
   "id": "95e65454",
   "metadata": {},
   "outputs": [],
   "source": [
    "import matplotlib.pyplot as plt\n",
    "sns.heatmap(cm_df,annot=True)\n",
    "plt.ylabel('Y_TRUE')\n",
    "plt.xlabel('Y_PRED')"
   ]
  },
  {
   "cell_type": "code",
   "execution_count": null,
   "id": "f0bfc1a3",
   "metadata": {},
   "outputs": [],
   "source": []
  },
  {
   "cell_type": "code",
   "execution_count": null,
   "id": "fb9496d3",
   "metadata": {},
   "outputs": [],
   "source": [
    "train_corpus = ' '.join(train_data.text.values.tolist())\n",
    "train_corpus_list=train_corpus.split()\n",
    "\n",
    "test_corpus = ' '.join(test_meta.text.values.tolist())\n",
    "test_corpus_list=test_corpus.split()"
   ]
  },
  {
   "cell_type": "code",
   "execution_count": null,
   "id": "d85533c6",
   "metadata": {},
   "outputs": [],
   "source": [
    "from collections import Counter"
   ]
  },
  {
   "cell_type": "code",
   "execution_count": null,
   "id": "50f8bf7a",
   "metadata": {},
   "outputs": [],
   "source": [
    "len(Counter(train_corpus_list))"
   ]
  },
  {
   "cell_type": "code",
   "execution_count": null,
   "id": "ca7ea950",
   "metadata": {},
   "outputs": [],
   "source": [
    "len(Counter(test_corpus_list))"
   ]
  },
  {
   "cell_type": "code",
   "execution_count": null,
   "id": "1780ed31",
   "metadata": {},
   "outputs": [],
   "source": [
    "len(set(train_corpus_list) &set(test_corpus_list))"
   ]
  },
  {
   "cell_type": "code",
   "execution_count": null,
   "id": "8b837d36",
   "metadata": {},
   "outputs": [],
   "source": [
    "len(set(test_corpus_list)-(set(train_corpus_list).intersection(test_corpus_list)))"
   ]
  },
  {
   "cell_type": "code",
   "execution_count": null,
   "id": "bf0493af",
   "metadata": {},
   "outputs": [],
   "source": [
    "len(train_data)"
   ]
  },
  {
   "cell_type": "code",
   "execution_count": null,
   "id": "43cd5669",
   "metadata": {},
   "outputs": [],
   "source": []
  }
 ],
 "metadata": {
  "kernelspec": {
   "display_name": "Python 3 (ipykernel)",
   "language": "python",
   "name": "python3"
  },
  "language_info": {
   "codemirror_mode": {
    "name": "ipython",
    "version": 3
   },
   "file_extension": ".py",
   "mimetype": "text/x-python",
   "name": "python",
   "nbconvert_exporter": "python",
   "pygments_lexer": "ipython3",
   "version": "3.9.13"
  }
 },
 "nbformat": 4,
 "nbformat_minor": 5
}
